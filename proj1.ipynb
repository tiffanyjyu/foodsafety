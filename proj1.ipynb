{
 "cells": [
  {
   "cell_type": "code",
   "execution_count": 135,
   "metadata": {
    "deletable": false,
    "editable": false
   },
   "outputs": [],
   "source": [
    "# Initialize Otter\n",
    "import otter\n",
    "grader = otter.Notebook()"
   ]
  },
  {
   "cell_type": "markdown",
   "metadata": {
    "nbgrader": {
     "grade": false,
     "grade_id": "intro-hw2",
     "locked": true,
     "schema_version": 2,
     "solution": false
    }
   },
   "source": [
    "# Food Safety in SF Restaurants\n",
   ]
  },
  {
   "cell_type": "markdown",
   "metadata": {},
   "source": [
    "**Collaborators**: Uday Krishna Kalra"
   ]
  },
  {
   "cell_type": "markdown",
   "metadata": {},
   "source": [
    "\n",
    "## This Assignment\n",
    "\n",
    "In this project, we will investigate restaurant food safety scores for restaurants in San Francisco. The scores and violation information have been [made available by the San Francisco Department of Public Health](https://data.sfgov.org/Health-and-Social-Services/Restaurant-Scores-LIVES-Standard/pyih-qa8i). The main goal for this assignment is to walk through the process of Data Cleaning and EDA. \n",
    "\n",
    "\n",
    "As we clean and explore these data, you will gain practice with:\n",
    "* Reading simple csv files and using Pandas\n",
    "* Working with data at different levels of granularity\n",
    "* Identifying the type of data collected, missing values, anomalies, etc.\n",
    "* Exploring characteristics and distributions of individual variables\n",
    "\n"
    }
  {
   "cell_type": "markdown",
   "metadata": {},
   "source": [
    "## Before You Start\n",
    "\n",
    "For each question in the assignment, please write down your answer in the answer cell(s) right below the question. \n",
    "\n",
    "We understand that it is helpful to have extra cells breaking down the process towards reaching your final answer. If you happen to create new cells below your answer to run codes, **NEVER** add cells between a question cell and the answer cell below it. It will cause errors when we run the autograder, and it will sometimes cause a failure to generate the PDF file.\n",
    "\n",
    "**Important note: The local autograder tests will not be comprehensive. You can pass the automated tests in your notebook but still fail tests in the autograder.** Please be sure to check your results carefully.\n",
    "\n",
    "Finally, unless we state otherwise, try to avoid using python for loops or list comprehensions.  The majority of this assignment can be done using builtin commands in Pandas and numpy.  \n"
   ]
  },
  {
   "cell_type": "code",
   "execution_count": 136,
   "metadata": {
    "nbgrader": {
     "grade": false,
     "grade_id": "import",
     "locked": true,
     "schema_version": 2,
     "solution": false
    }
   },
   "outputs": [],
   "source": [
    "import numpy as np\n",
    "import pandas as pd\n",
    "\n",
    "import matplotlib\n",
    "import matplotlib.pyplot as plt\n",
    "import seaborn as sns\n",
    "sns.set()\n",
    "plt.style.use('fivethirtyeight')\n",
    "\n",
    "import zipfile\n",
    "import os # Used to interact with the file system"
   ]
  },
  {
   "cell_type": "markdown",
   "metadata": {
    "nbgrader": {
     "grade": false,
     "grade_id": "download",
     "locked": true,
     "schema_version": 2,
     "solution": false
    }
   },
   "source": [
    "## Obtaining the Data\n",
    "\n",
    "### File Systems and I/O\n",
    "\n"
   ]
  },
  {
   "cell_type": "markdown",
   "metadata": {},
   "source": [
    "In general, we will focus on using python commands to investigate files.  However, it can sometimes be easier to use shell commands in your local operating system.  The following cells demonstrate how to do this."
   ]
  },
  {
   "cell_type": "code",
   "execution_count": 137,
   "metadata": {},
   "outputs": [],
   "source": [
    "from pathlib import Path\n",
    "data_dir = Path('.')\n",
    "data_dir.mkdir(exist_ok = True)\n",
    "file_path = data_dir / Path('data.zip')\n",
    "dest_path = file_path"
   ]
  },
  {
   "cell_type": "markdown",
   "metadata": {},
   "source": [
    "After running the cell above, if you list the contents of the directory containing this notebook, you should see `data.zip`.\n",
    "\n",
    "*Note*: The command below starts with an `!`. This tells our Jupyter notebook to pass this command to the operating system. In this case, the command is the `ls` Unix command which lists files in the current directory."
   ]
  },
  {
   "cell_type": "code",
   "execution_count": 138,
   "metadata": {},
   "outputs": [
    {
     "name": "stdout",
     "output_type": "stream",
     "text": [
      "data  data.zip\tds100_utils.py\tpics  proj1.ipynb  __pycache__\ttests\r\n"
     ]
    }
   ],
   "source": [
    "!ls "
   ]
  },
  {
   "cell_type": "markdown",
   "metadata": {},
   "source": [
    "## 1: Loading Food Safety Data\n",
    "\n",
    "We have data, but we don't have any specific questions about the data yet. Let's focus on understanding the structure of the data; this involves answering questions such as:\n",
    "\n",
    "* Is the data in a standard format or encoding?\n",
    "* Is the data organized in records?\n",
    "* What are the fields in each record?\n",
    "\n",
    "Let's start by looking at the contents of `data.zip`. It's not a just single file but rather a compressed directory of multiple files. We could inspect it by uncompressing it using a shell command such as `!unzip data.zip`, but in this project we're going to do almost everything in Python for maximum portability."
   ]
  },
  {
   "cell_type": "markdown",
   "metadata": {
    "deletable": false,
    "editable": false
   },
   "source": [
    "## Question 1a: Looking Inside and Extracting the Zip Files\n",
    "\n",
    "Assign `my_zip` to a `zipfile.Zipfile` object representing `data.zip`, and assign `list_names` to a list of all the names of the contents in `data.zip`.\n",
    "\n",
    "Hint: The [Python docs](https://docs.python.org/3/library/zipfile.html) describe how to create a `zipfile.ZipFile` object.\n",
    "\n",
    "<!--\n",
    "BEGIN QUESTION\n",
    "name: q1a\n",
    "points: 1\n",
    "-->"
   ]
  },
  {
   "cell_type": "code",
   "execution_count": 139,
   "metadata": {},
   "outputs": [
    {
     "data": {
      "text/plain": [
       "['data/',\n",
       " 'data/bus.csv',\n",
       " 'data/ins.csv',\n",
       " 'data/ins2vio.csv',\n",
       " 'data/vio.csv',\n",
       " 'data/sf_zipcodes.json',\n",
       " 'data/legend.csv']"
      ]
     },
     "execution_count": 139,
     "metadata": {},
     "output_type": "execute_result"
    }
   ],
   "source": [
    "my_zip = zipfile.ZipFile(dest_path, \"r\")\n",
    "list_names = my_zip.namelist()\n",
    "list_names"
   ]
  },
  {
   "cell_type": "code",
   "execution_count": 140,
   "metadata": {
    "deletable": false,
    "editable": false
   },
   "outputs": [
    {
     "data": {
      "text/html": [
       "\n",
       "    \n",
       "    \n",
       "        <p>All tests passed!</p>\n",
       "    \n",
       "    "
      ],
      "text/plain": [
       "\n",
       "    All tests passed!\n",
       "    "
      ]
     },
     "execution_count": 140,
     "metadata": {},
     "output_type": "execute_result"
    }
   ],
   "source": [
    "grader.check(\"q1a\")"
   ]
  },
  {
   "cell_type": "markdown",
   "metadata": {},
   "source": [
    "In your answer above, if you have written something like `zipfile.ZipFile('data.zip', ...)`, we suggest changing it to read `zipfile.ZipFile(dest_path, ...)`. In general, we **strongly suggest having your filenames hard coded as string literals only once** in a notebook. It is very dangerous to hard code things twice because if you change one but forget to change the other, you can end up with bugs that are very hard to find."
   ]
  },
  {
   "cell_type": "markdown",
   "metadata": {},
   "source": [
    "Now display the files' names and their sizes. Format your solution by printing each file and its size on a new line.\n",
    "\n",
    "If you're not sure how to proceed, read about the attributes of a `ZipFile` object in the Python docs linked above."
   ]
  },
  {
   "cell_type": "code",
   "execution_count": 141,
   "metadata": {},
   "outputs": [
    {
     "data": {
      "text/plain": [
       "[<ZipInfo filename='data/' filemode='drwxr-xr-x' external_attr=0x4000>,\n",
       " <ZipInfo filename='data/bus.csv' compress_type=deflate filemode='-rw-r--r--' external_attr=0x4000 file_size=665365 compress_size=164496>,\n",
       " <ZipInfo filename='data/ins.csv' compress_type=deflate filemode='-rw-r--r--' external_attr=0x4000 file_size=1860919 compress_size=200072>,\n",
       " <ZipInfo filename='data/ins2vio.csv' compress_type=deflate filemode='-rw-r--r--' external_attr=0x4000 file_size=1032799 compress_size=242650>,\n",
       " <ZipInfo filename='data/vio.csv' compress_type=deflate filemode='-rw-r--r--' external_attr=0x4000 file_size=4213 compress_size=1390>,\n",
       " <ZipInfo filename='data/sf_zipcodes.json' compress_type=deflate filemode='-rw-r--r--' external_attr=0x4000 file_size=474 compress_size=135>,\n",
       " <ZipInfo filename='data/legend.csv' compress_type=deflate filemode='-rw-r--r--' external_attr=0x4000 file_size=120 compress_size=104>]"
      ]
     },
     "execution_count": 141,
     "metadata": {},
     "output_type": "execute_result"
    }
   ],
   "source": [
    "my_zip.infolist()"
   ]
  },
  {
   "cell_type": "markdown",
   "metadata": {},
   "source": [
    "Often when working with zipped data, we'll never unzip the actual zipfile. This saves space on our local computer. However, for this project the files are small, so we're just going to unzip everything. This has the added benefit that you can look inside the csv files using a text editor, which might be handy for understanding the structure of the files. The cell below will unzip the csv files into a subdirectory called `data`. Simply run this cell, i.e. don't modify it."
   ]
  },
  {
   "cell_type": "code",
   "execution_count": 142,
   "metadata": {},
   "outputs": [
    {
     "name": "stdout",
     "output_type": "stream",
     "text": [
      "bus.csv  ins2vio.csv  ins.csv  legend.csv  sf_zipcodes.json  vio.csv\r\n"
     ]
    }
   ],
   "source": [
    "data_dir = Path('.')\n",
    "my_zip.extractall(data_dir)\n",
    "!ls {data_dir / Path(\"data\")}"
   ]
  },
  {
   "cell_type": "markdown",
   "metadata": {},
   "source": [
    "The cell above created a folder called `data`, and in it there should be five CSV files. Let's open up `legend.csv` to see its contents. To do this, click on 'Jupyter' in the top left, then navigate to `fa20/proj/proj1/data/` and click on `legend.csv`. The file will open up in another tab. You should see something that looks like:\n",
    "\n",
    "    \"Minimum_Score\",\"Maximum_Score\",\"Description\"\n",
    "    0,70,\"Poor\"\n",
    "    71,85,\"Needs Improvement\"\n",
    "    86,90,\"Adequate\"\n",
    "    91,100,\"Good\""
   ]
  },
  {
   "cell_type": "markdown",
   "metadata": {},
   "source": [
    "## Question 1b\n",
    "\n",
    "The `legend.csv` file does indeed look like a well-formed CSV file. Let's check the other three files. Rather than opening up each file manually, let's use Python to print out the first 5 lines of each. The `ds100_utils` library has a method called `head` that will allow you to retrieve the first N lines of a file as a list. For example `ds100_utils.head('data/legend.csv', 5)` will return the first 5 lines of \"data/legend.csv\". Try using this function to print out the first 5 lines of all six files that we just extracted from the zipfile."
   ]
  },
  {
   "cell_type": "code",
   "execution_count": 143,
   "metadata": {},
   "outputs": [
    {
     "data": {
      "text/plain": [
       "['\"Minimum_Score\",\"Maximum_Score\",\"Description\"\\n',\n",
       " '0,70,\"Poor\"\\n',\n",
       " '71,85,\"Needs Improvement\"\\n',\n",
       " '86,90,\"Adequate\"\\n',\n",
       " '91,100,\"Good\"\\n']"
      ]
     },
     "execution_count": 143,
     "metadata": {},
     "output_type": "execute_result"
    }
   ],
   "source": [
    "import ds100_utils\n",
    "ds100_utils.head('data/legend.csv', 5)"
   ]
  },
  {
   "cell_type": "markdown",
   "metadata": {},
   "source": [
    "## Question 1c: Reading in the Files\n",
    "\n",
    "Based on the above information, let's attempt to load `bus.csv`, `ins2vio.csv`, `ins.csv`, and `vio.csv` into pandas dataframes with the following names: `bus`, `ins2vio`, `ins`, and `vio` respectively.\n",
    "\n",
    "*Note:* Because of character encoding issues one of the files (`bus`) will require an additional argument `encoding='ISO-8859-1'` when calling `pd.read_csv`. At some point in your future, you should read all about [character encodings](https://diveintopython3.problemsolving.io/strings.html). We won't discuss these in detail in DS100."
   ]
  },
  {
   "cell_type": "code",
   "execution_count": 226,
   "metadata": {},
   "outputs": [],
   "source": [
    "# path to directory containing data\n",
    "dsDir = Path('data')\n",
    "\n",
    "bus = pd.read_csv(dsDir/\"bus.csv\", encoding = 'ISO-8859-1')\n",
    "ins2vio = pd.read_csv(dsDir/\"ins2vio.csv\")\n",
    "ins = pd.read_csv(dsDir/\"ins.csv\")\n",
    "vio = pd.read_csv(dsDir/'vio.csv')\n",
    "\n",
    "\n",
    "#This code is essential for the autograder to function properly. Do not edit\n",
    "ins_test = ins"
   ]
  },
  {
   "cell_type": "markdown",
   "metadata": {},
   "source": [
    "Now that you've read in the files, let's try some `pd.DataFrame` methods ([docs](https://pandas.pydata.org/pandas-docs/version/0.21/generated/pandas.DataFrame.html)).\n",
    "Use the `DataFrame.head` method to show the top few lines of the `bus`, `ins`, and `vio` dataframes. To show multiple return outputs in one single cell, you can use `display()`. "
   ]
  },
  {
   "cell_type": "code",
   "execution_count": 227,
   "metadata": {},
   "outputs": [
    {
     "data": {
      "text/html": [
       "<div>\n",
       "<style scoped>\n",
       "    .dataframe tbody tr th:only-of-type {\n",
       "        vertical-align: middle;\n",
       "    }\n",
       "\n",
       "    .dataframe tbody tr th {\n",
       "        vertical-align: top;\n",
       "    }\n",
       "\n",
       "    .dataframe thead th {\n",
       "        text-align: right;\n",
       "    }\n",
       "</style>\n",
       "<table border=\"1\" class=\"dataframe\">\n",
       "  <thead>\n",
       "    <tr style=\"text-align: right;\">\n",
       "      <th></th>\n",
       "      <th>business id column</th>\n",
       "      <th>name</th>\n",
       "      <th>address</th>\n",
       "      <th>city</th>\n",
       "      <th>state</th>\n",
       "      <th>postal_code</th>\n",
       "      <th>latitude</th>\n",
       "      <th>longitude</th>\n",
       "      <th>phone_number</th>\n",
       "    </tr>\n",
       "  </thead>\n",
       "  <tbody>\n",
       "    <tr>\n",
       "      <th>0</th>\n",
       "      <td>1000</td>\n",
       "      <td>HEUNG YUEN RESTAURANT</td>\n",
       "      <td>3279 22nd St</td>\n",
       "      <td>San Francisco</td>\n",
       "      <td>CA</td>\n",
       "      <td>94110</td>\n",
       "      <td>37.755282</td>\n",
       "      <td>-122.420493</td>\n",
       "      <td>-9999</td>\n",
       "    </tr>\n",
       "    <tr>\n",
       "      <th>1</th>\n",
       "      <td>100010</td>\n",
       "      <td>ILLY CAFFE SF_PIER 39</td>\n",
       "      <td>PIER 39  K-106-B</td>\n",
       "      <td>San Francisco</td>\n",
       "      <td>CA</td>\n",
       "      <td>94133</td>\n",
       "      <td>-9999.000000</td>\n",
       "      <td>-9999.000000</td>\n",
       "      <td>14154827284</td>\n",
       "    </tr>\n",
       "    <tr>\n",
       "      <th>2</th>\n",
       "      <td>100017</td>\n",
       "      <td>AMICI'S EAST COAST PIZZERIA</td>\n",
       "      <td>475 06th St</td>\n",
       "      <td>San Francisco</td>\n",
       "      <td>CA</td>\n",
       "      <td>94103</td>\n",
       "      <td>-9999.000000</td>\n",
       "      <td>-9999.000000</td>\n",
       "      <td>14155279839</td>\n",
       "    </tr>\n",
       "    <tr>\n",
       "      <th>3</th>\n",
       "      <td>100026</td>\n",
       "      <td>LOCAL CATERING</td>\n",
       "      <td>1566 CARROLL AVE</td>\n",
       "      <td>San Francisco</td>\n",
       "      <td>CA</td>\n",
       "      <td>94124</td>\n",
       "      <td>-9999.000000</td>\n",
       "      <td>-9999.000000</td>\n",
       "      <td>14155860315</td>\n",
       "    </tr>\n",
       "    <tr>\n",
       "      <th>4</th>\n",
       "      <td>100030</td>\n",
       "      <td>OUI OUI! MACARON</td>\n",
       "      <td>2200 JERROLD AVE STE C</td>\n",
       "      <td>San Francisco</td>\n",
       "      <td>CA</td>\n",
       "      <td>94124</td>\n",
       "      <td>-9999.000000</td>\n",
       "      <td>-9999.000000</td>\n",
       "      <td>14159702675</td>\n",
       "    </tr>\n",
       "    <tr>\n",
       "      <th>...</th>\n",
       "      <td>...</td>\n",
       "      <td>...</td>\n",
       "      <td>...</td>\n",
       "      <td>...</td>\n",
       "      <td>...</td>\n",
       "      <td>...</td>\n",
       "      <td>...</td>\n",
       "      <td>...</td>\n",
       "      <td>...</td>\n",
       "    </tr>\n",
       "    <tr>\n",
       "      <th>6248</th>\n",
       "      <td>99948</td>\n",
       "      <td>SUSIECAKES BAKERY</td>\n",
       "      <td>3509 CALIFORNIA ST</td>\n",
       "      <td>San Francisco</td>\n",
       "      <td>CA</td>\n",
       "      <td>94118</td>\n",
       "      <td>-9999.000000</td>\n",
       "      <td>-9999.000000</td>\n",
       "      <td>14150452253</td>\n",
       "    </tr>\n",
       "    <tr>\n",
       "      <th>6249</th>\n",
       "      <td>99988</td>\n",
       "      <td>HINODEYA SOMA</td>\n",
       "      <td>303 02nd ST STE 102</td>\n",
       "      <td>San Francisco</td>\n",
       "      <td>CA</td>\n",
       "      <td>94107</td>\n",
       "      <td>-9999.000000</td>\n",
       "      <td>-9999.000000</td>\n",
       "      <td>-9999</td>\n",
       "    </tr>\n",
       "    <tr>\n",
       "      <th>6250</th>\n",
       "      <td>99991</td>\n",
       "      <td>TON TON</td>\n",
       "      <td>422 GEARY ST</td>\n",
       "      <td>San Francisco</td>\n",
       "      <td>CA</td>\n",
       "      <td>94102</td>\n",
       "      <td>-9999.000000</td>\n",
       "      <td>-9999.000000</td>\n",
       "      <td>14155531280</td>\n",
       "    </tr>\n",
       "    <tr>\n",
       "      <th>6251</th>\n",
       "      <td>99992</td>\n",
       "      <td>URBAN EXPRESS KITCHENS LLC</td>\n",
       "      <td>475 06th ST</td>\n",
       "      <td>San Francisco</td>\n",
       "      <td>CA</td>\n",
       "      <td>94103</td>\n",
       "      <td>-9999.000000</td>\n",
       "      <td>-9999.000000</td>\n",
       "      <td>14150368085</td>\n",
       "    </tr>\n",
       "    <tr>\n",
       "      <th>6252</th>\n",
       "      <td>99993</td>\n",
       "      <td>THE BRIXTON SOUTH</td>\n",
       "      <td>701 02nd St</td>\n",
       "      <td>San Francisco</td>\n",
       "      <td>CA</td>\n",
       "      <td>94102</td>\n",
       "      <td>-9999.000000</td>\n",
       "      <td>-9999.000000</td>\n",
       "      <td>14158315871</td>\n",
       "    </tr>\n",
       "  </tbody>\n",
       "</table>\n",
       "<p>6253 rows × 9 columns</p>\n",
       "</div>"
      ],
      "text/plain": [
       "      business id column                         name                 address  \\\n",
       "0                   1000        HEUNG YUEN RESTAURANT            3279 22nd St   \n",
       "1                 100010        ILLY CAFFE SF_PIER 39        PIER 39  K-106-B   \n",
       "2                 100017  AMICI'S EAST COAST PIZZERIA             475 06th St   \n",
       "3                 100026               LOCAL CATERING        1566 CARROLL AVE   \n",
       "4                 100030             OUI OUI! MACARON  2200 JERROLD AVE STE C   \n",
       "...                  ...                          ...                     ...   \n",
       "6248               99948            SUSIECAKES BAKERY      3509 CALIFORNIA ST   \n",
       "6249               99988                HINODEYA SOMA     303 02nd ST STE 102   \n",
       "6250               99991                      TON TON            422 GEARY ST   \n",
       "6251               99992   URBAN EXPRESS KITCHENS LLC             475 06th ST   \n",
       "6252               99993            THE BRIXTON SOUTH             701 02nd St   \n",
       "\n",
       "               city state postal_code     latitude    longitude  phone_number  \n",
       "0     San Francisco    CA       94110    37.755282  -122.420493         -9999  \n",
       "1     San Francisco    CA       94133 -9999.000000 -9999.000000   14154827284  \n",
       "2     San Francisco    CA       94103 -9999.000000 -9999.000000   14155279839  \n",
       "3     San Francisco    CA       94124 -9999.000000 -9999.000000   14155860315  \n",
       "4     San Francisco    CA       94124 -9999.000000 -9999.000000   14159702675  \n",
       "...             ...   ...         ...          ...          ...           ...  \n",
       "6248  San Francisco    CA       94118 -9999.000000 -9999.000000   14150452253  \n",
       "6249  San Francisco    CA       94107 -9999.000000 -9999.000000         -9999  \n",
       "6250  San Francisco    CA       94102 -9999.000000 -9999.000000   14155531280  \n",
       "6251  San Francisco    CA       94103 -9999.000000 -9999.000000   14150368085  \n",
       "6252  San Francisco    CA       94102 -9999.000000 -9999.000000   14158315871  \n",
       "\n",
       "[6253 rows x 9 columns]"
      ]
     },
     "metadata": {},
     "output_type": "display_data"
    },
    {
     "data": {
      "text/html": [
       "<div>\n",
       "<style scoped>\n",
       "    .dataframe tbody tr th:only-of-type {\n",
       "        vertical-align: middle;\n",
       "    }\n",
       "\n",
       "    .dataframe tbody tr th {\n",
       "        vertical-align: top;\n",
       "    }\n",
       "\n",
       "    .dataframe thead th {\n",
       "        text-align: right;\n",
       "    }\n",
       "</style>\n",
       "<table border=\"1\" class=\"dataframe\">\n",
       "  <thead>\n",
       "    <tr style=\"text-align: right;\">\n",
       "      <th></th>\n",
       "      <th>iid</th>\n",
       "      <th>vid</th>\n",
       "    </tr>\n",
       "  </thead>\n",
       "  <tbody>\n",
       "    <tr>\n",
       "      <th>0</th>\n",
       "      <td>97975_20190725</td>\n",
       "      <td>103124</td>\n",
       "    </tr>\n",
       "    <tr>\n",
       "      <th>1</th>\n",
       "      <td>85986_20161011</td>\n",
       "      <td>103114</td>\n",
       "    </tr>\n",
       "    <tr>\n",
       "      <th>2</th>\n",
       "      <td>95754_20190327</td>\n",
       "      <td>103124</td>\n",
       "    </tr>\n",
       "    <tr>\n",
       "      <th>3</th>\n",
       "      <td>77005_20170429</td>\n",
       "      <td>103120</td>\n",
       "    </tr>\n",
       "    <tr>\n",
       "      <th>4</th>\n",
       "      <td>4794_20181030</td>\n",
       "      <td>103138</td>\n",
       "    </tr>\n",
       "    <tr>\n",
       "      <th>...</th>\n",
       "      <td>...</td>\n",
       "      <td>...</td>\n",
       "    </tr>\n",
       "    <tr>\n",
       "      <th>40205</th>\n",
       "      <td>76958_20180919</td>\n",
       "      <td>103119</td>\n",
       "    </tr>\n",
       "    <tr>\n",
       "      <th>40206</th>\n",
       "      <td>80305_20190411</td>\n",
       "      <td>103149</td>\n",
       "    </tr>\n",
       "    <tr>\n",
       "      <th>40207</th>\n",
       "      <td>80233_20190417</td>\n",
       "      <td>103133</td>\n",
       "    </tr>\n",
       "    <tr>\n",
       "      <th>40208</th>\n",
       "      <td>100216_20190321</td>\n",
       "      <td>103119</td>\n",
       "    </tr>\n",
       "    <tr>\n",
       "      <th>40209</th>\n",
       "      <td>79430_20190418</td>\n",
       "      <td>103109</td>\n",
       "    </tr>\n",
       "  </tbody>\n",
       "</table>\n",
       "<p>40210 rows × 2 columns</p>\n",
       "</div>"
      ],
      "text/plain": [
       "                   iid     vid\n",
       "0       97975_20190725  103124\n",
       "1       85986_20161011  103114\n",
       "2       95754_20190327  103124\n",
       "3       77005_20170429  103120\n",
       "4        4794_20181030  103138\n",
       "...                ...     ...\n",
       "40205   76958_20180919  103119\n",
       "40206   80305_20190411  103149\n",
       "40207   80233_20190417  103133\n",
       "40208  100216_20190321  103119\n",
       "40209   79430_20190418  103109\n",
       "\n",
       "[40210 rows x 2 columns]"
      ]
     },
     "metadata": {},
     "output_type": "display_data"
    },
    {
     "data": {
      "text/html": [
       "<div>\n",
       "<style scoped>\n",
       "    .dataframe tbody tr th:only-of-type {\n",
       "        vertical-align: middle;\n",
       "    }\n",
       "\n",
       "    .dataframe tbody tr th {\n",
       "        vertical-align: top;\n",
       "    }\n",
       "\n",
       "    .dataframe thead th {\n",
       "        text-align: right;\n",
       "    }\n",
       "</style>\n",
       "<table border=\"1\" class=\"dataframe\">\n",
       "  <thead>\n",
       "    <tr style=\"text-align: right;\">\n",
       "      <th></th>\n",
       "      <th>iid</th>\n",
       "      <th>date</th>\n",
       "      <th>score</th>\n",
       "      <th>type</th>\n",
       "    </tr>\n",
       "  </thead>\n",
       "  <tbody>\n",
       "    <tr>\n",
       "      <th>0</th>\n",
       "      <td>100010_20190329</td>\n",
       "      <td>03/29/2019 12:00:00 AM</td>\n",
       "      <td>-1</td>\n",
       "      <td>New Construction</td>\n",
       "    </tr>\n",
       "    <tr>\n",
       "      <th>1</th>\n",
       "      <td>100010_20190403</td>\n",
       "      <td>04/03/2019 12:00:00 AM</td>\n",
       "      <td>100</td>\n",
       "      <td>Routine - Unscheduled</td>\n",
       "    </tr>\n",
       "    <tr>\n",
       "      <th>2</th>\n",
       "      <td>100017_20190417</td>\n",
       "      <td>04/17/2019 12:00:00 AM</td>\n",
       "      <td>-1</td>\n",
       "      <td>New Ownership</td>\n",
       "    </tr>\n",
       "    <tr>\n",
       "      <th>3</th>\n",
       "      <td>100017_20190816</td>\n",
       "      <td>08/16/2019 12:00:00 AM</td>\n",
       "      <td>91</td>\n",
       "      <td>Routine - Unscheduled</td>\n",
       "    </tr>\n",
       "    <tr>\n",
       "      <th>4</th>\n",
       "      <td>100017_20190826</td>\n",
       "      <td>08/26/2019 12:00:00 AM</td>\n",
       "      <td>-1</td>\n",
       "      <td>Reinspection/Followup</td>\n",
       "    </tr>\n",
       "    <tr>\n",
       "      <th>...</th>\n",
       "      <td>...</td>\n",
       "      <td>...</td>\n",
       "      <td>...</td>\n",
       "      <td>...</td>\n",
       "    </tr>\n",
       "    <tr>\n",
       "      <th>26658</th>\n",
       "      <td>999_20180924</td>\n",
       "      <td>09/24/2018 12:00:00 AM</td>\n",
       "      <td>-1</td>\n",
       "      <td>Routine - Scheduled</td>\n",
       "    </tr>\n",
       "    <tr>\n",
       "      <th>26659</th>\n",
       "      <td>999_20181102</td>\n",
       "      <td>11/02/2018 12:00:00 AM</td>\n",
       "      <td>-1</td>\n",
       "      <td>Reinspection/Followup</td>\n",
       "    </tr>\n",
       "    <tr>\n",
       "      <th>26660</th>\n",
       "      <td>999_20190909</td>\n",
       "      <td>09/09/2019 12:00:00 AM</td>\n",
       "      <td>80</td>\n",
       "      <td>Routine - Unscheduled</td>\n",
       "    </tr>\n",
       "    <tr>\n",
       "      <th>26661</th>\n",
       "      <td>99_20171207</td>\n",
       "      <td>12/07/2017 12:00:00 AM</td>\n",
       "      <td>82</td>\n",
       "      <td>Routine - Unscheduled</td>\n",
       "    </tr>\n",
       "    <tr>\n",
       "      <th>26662</th>\n",
       "      <td>99_20180808</td>\n",
       "      <td>08/08/2018 12:00:00 AM</td>\n",
       "      <td>84</td>\n",
       "      <td>Routine - Unscheduled</td>\n",
       "    </tr>\n",
       "  </tbody>\n",
       "</table>\n",
       "<p>26663 rows × 4 columns</p>\n",
       "</div>"
      ],
      "text/plain": [
       "                   iid                    date  score                   type\n",
       "0      100010_20190329  03/29/2019 12:00:00 AM     -1       New Construction\n",
       "1      100010_20190403  04/03/2019 12:00:00 AM    100  Routine - Unscheduled\n",
       "2      100017_20190417  04/17/2019 12:00:00 AM     -1          New Ownership\n",
       "3      100017_20190816  08/16/2019 12:00:00 AM     91  Routine - Unscheduled\n",
       "4      100017_20190826  08/26/2019 12:00:00 AM     -1  Reinspection/Followup\n",
       "...                ...                     ...    ...                    ...\n",
       "26658     999_20180924  09/24/2018 12:00:00 AM     -1    Routine - Scheduled\n",
       "26659     999_20181102  11/02/2018 12:00:00 AM     -1  Reinspection/Followup\n",
       "26660     999_20190909  09/09/2019 12:00:00 AM     80  Routine - Unscheduled\n",
       "26661      99_20171207  12/07/2017 12:00:00 AM     82  Routine - Unscheduled\n",
       "26662      99_20180808  08/08/2018 12:00:00 AM     84  Routine - Unscheduled\n",
       "\n",
       "[26663 rows x 4 columns]"
      ]
     },
     "metadata": {},
     "output_type": "display_data"
    },
    {
     "data": {
      "text/html": [
       "<div>\n",
       "<style scoped>\n",
       "    .dataframe tbody tr th:only-of-type {\n",
       "        vertical-align: middle;\n",
       "    }\n",
       "\n",
       "    .dataframe tbody tr th {\n",
       "        vertical-align: top;\n",
       "    }\n",
       "\n",
       "    .dataframe thead th {\n",
       "        text-align: right;\n",
       "    }\n",
       "</style>\n",
       "<table border=\"1\" class=\"dataframe\">\n",
       "  <thead>\n",
       "    <tr style=\"text-align: right;\">\n",
       "      <th></th>\n",
       "      <th>description</th>\n",
       "      <th>risk_category</th>\n",
       "      <th>vid</th>\n",
       "    </tr>\n",
       "  </thead>\n",
       "  <tbody>\n",
       "    <tr>\n",
       "      <th>0</th>\n",
       "      <td>Consumer advisory not provided for raw or unde...</td>\n",
       "      <td>Moderate Risk</td>\n",
       "      <td>103128</td>\n",
       "    </tr>\n",
       "    <tr>\n",
       "      <th>1</th>\n",
       "      <td>Contaminated or adulterated food</td>\n",
       "      <td>High Risk</td>\n",
       "      <td>103108</td>\n",
       "    </tr>\n",
       "    <tr>\n",
       "      <th>2</th>\n",
       "      <td>Discharge from employee nose mouth or eye</td>\n",
       "      <td>Moderate Risk</td>\n",
       "      <td>103117</td>\n",
       "    </tr>\n",
       "    <tr>\n",
       "      <th>3</th>\n",
       "      <td>Employee eating or smoking</td>\n",
       "      <td>Moderate Risk</td>\n",
       "      <td>103118</td>\n",
       "    </tr>\n",
       "    <tr>\n",
       "      <th>4</th>\n",
       "      <td>Food in poor condition</td>\n",
       "      <td>Moderate Risk</td>\n",
       "      <td>103123</td>\n",
       "    </tr>\n",
       "    <tr>\n",
       "      <th>...</th>\n",
       "      <td>...</td>\n",
       "      <td>...</td>\n",
       "      <td>...</td>\n",
       "    </tr>\n",
       "    <tr>\n",
       "      <th>60</th>\n",
       "      <td>Unclean unmaintained or improperly constructed...</td>\n",
       "      <td>Low Risk</td>\n",
       "      <td>103152</td>\n",
       "    </tr>\n",
       "    <tr>\n",
       "      <th>61</th>\n",
       "      <td>Unpermitted food facility</td>\n",
       "      <td>Low Risk</td>\n",
       "      <td>103158</td>\n",
       "    </tr>\n",
       "    <tr>\n",
       "      <th>62</th>\n",
       "      <td>Unsanitary employee garments hair or nails</td>\n",
       "      <td>Low Risk</td>\n",
       "      <td>103136</td>\n",
       "    </tr>\n",
       "    <tr>\n",
       "      <th>63</th>\n",
       "      <td>Wiping cloths not clean or properly stored or ...</td>\n",
       "      <td>Low Risk</td>\n",
       "      <td>103149</td>\n",
       "    </tr>\n",
       "    <tr>\n",
       "      <th>64</th>\n",
       "      <td>Worker safety hazards</td>\n",
       "      <td>Low Risk</td>\n",
       "      <td>103159</td>\n",
       "    </tr>\n",
       "  </tbody>\n",
       "</table>\n",
       "<p>65 rows × 3 columns</p>\n",
       "</div>"
      ],
      "text/plain": [
       "                                          description  risk_category     vid\n",
       "0   Consumer advisory not provided for raw or unde...  Moderate Risk  103128\n",
       "1                    Contaminated or adulterated food      High Risk  103108\n",
       "2           Discharge from employee nose mouth or eye  Moderate Risk  103117\n",
       "3                          Employee eating or smoking  Moderate Risk  103118\n",
       "4                              Food in poor condition  Moderate Risk  103123\n",
       "..                                                ...            ...     ...\n",
       "60  Unclean unmaintained or improperly constructed...       Low Risk  103152\n",
       "61                          Unpermitted food facility       Low Risk  103158\n",
       "62         Unsanitary employee garments hair or nails       Low Risk  103136\n",
       "63  Wiping cloths not clean or properly stored or ...       Low Risk  103149\n",
       "64                              Worker safety hazards       Low Risk  103159\n",
       "\n",
       "[65 rows x 3 columns]"
      ]
     },
     "metadata": {},
     "output_type": "display_data"
    },
    {
     "ename": "AttributeError",
     "evalue": "'NoneType' object has no attribute 'head'",
     "output_type": "error",
     "traceback": [
      "\u001b[0;31m---------------------------------------------------------------------------\u001b[0m",
      "\u001b[0;31mAttributeError\u001b[0m                            Traceback (most recent call last)",
      "\u001b[0;32m<ipython-input-227-6a51f54d6aaf>\u001b[0m in \u001b[0;36m<module>\u001b[0;34m\u001b[0m\n\u001b[0;32m----> 1\u001b[0;31m \u001b[0mdisplay\u001b[0m\u001b[0;34m(\u001b[0m\u001b[0mbus\u001b[0m\u001b[0;34m,\u001b[0m \u001b[0mins2vio\u001b[0m\u001b[0;34m,\u001b[0m \u001b[0mins\u001b[0m\u001b[0;34m,\u001b[0m \u001b[0mvio\u001b[0m\u001b[0;34m)\u001b[0m\u001b[0;34m.\u001b[0m\u001b[0mhead\u001b[0m\u001b[0;34m\u001b[0m\u001b[0;34m\u001b[0m\u001b[0m\n\u001b[0m",
      "\u001b[0;31mAttributeError\u001b[0m: 'NoneType' object has no attribute 'head'"
     ]
    }
   ],
   "source": [
    "display(bus, ins2vio, ins, vio).head"
   ]
  },
  {
   "cell_type": "markdown",
   "metadata": {},
   "source": [
    "The `DataFrame.describe` method can also be handy for computing summaries of numeric columns of our dataframes. Try it out with each of our 4 dataframes."
   ]
  },
  {
   "cell_type": "code",
   "execution_count": 228,
   "metadata": {},
   "outputs": [
    {
     "data": {
      "text/html": [
       "<div>\n",
       "<style scoped>\n",
       "    .dataframe tbody tr th:only-of-type {\n",
       "        vertical-align: middle;\n",
       "    }\n",
       "\n",
       "    .dataframe tbody tr th {\n",
       "        vertical-align: top;\n",
       "    }\n",
       "\n",
       "    .dataframe thead th {\n",
       "        text-align: right;\n",
       "    }\n",
       "</style>\n",
       "<table border=\"1\" class=\"dataframe\">\n",
       "  <thead>\n",
       "    <tr style=\"text-align: right;\">\n",
       "      <th></th>\n",
       "      <th>vid</th>\n",
       "    </tr>\n",
       "  </thead>\n",
       "  <tbody>\n",
       "    <tr>\n",
       "      <th>count</th>\n",
       "      <td>65.000000</td>\n",
       "    </tr>\n",
       "    <tr>\n",
       "      <th>mean</th>\n",
       "      <td>103136.276923</td>\n",
       "    </tr>\n",
       "    <tr>\n",
       "      <th>std</th>\n",
       "      <td>21.001866</td>\n",
       "    </tr>\n",
       "    <tr>\n",
       "      <th>min</th>\n",
       "      <td>103102.000000</td>\n",
       "    </tr>\n",
       "    <tr>\n",
       "      <th>25%</th>\n",
       "      <td>103119.000000</td>\n",
       "    </tr>\n",
       "    <tr>\n",
       "      <th>50%</th>\n",
       "      <td>103135.000000</td>\n",
       "    </tr>\n",
       "    <tr>\n",
       "      <th>75%</th>\n",
       "      <td>103153.000000</td>\n",
       "    </tr>\n",
       "    <tr>\n",
       "      <th>max</th>\n",
       "      <td>103177.000000</td>\n",
       "    </tr>\n",
       "  </tbody>\n",
       "</table>\n",
       "</div>"
      ],
      "text/plain": [
       "                 vid\n",
       "count      65.000000\n",
       "mean   103136.276923\n",
       "std        21.001866\n",
       "min    103102.000000\n",
       "25%    103119.000000\n",
       "50%    103135.000000\n",
       "75%    103153.000000\n",
       "max    103177.000000"
      ]
     },
     "execution_count": 228,
     "metadata": {},
     "output_type": "execute_result"
    }
   ],
   "source": [
    "bus.describe()\n",
    "ins2vio.describe()\n",
    "ins.describe()\n",
    "vio.describe()"
   ]
  },
  {
   "cell_type": "markdown",
   "metadata": {},
   "source": [
    "Now, we perform some sanity checks for you to verify that you loaded the data with the right structure. Run the following cells to load some basic utilities (you do not need to change these at all):"
   ]
  },
  {
   "cell_type": "markdown",
   "metadata": {},
   "source": [
    "First, we check the basic structure of the data frames you created:"
   ]
  },
  {
   "cell_type": "code",
   "execution_count": 229,
   "metadata": {},
   "outputs": [],
   "source": [
    "assert all(bus.columns == ['business id column', 'name', 'address', 'city', 'state', 'postal_code',\n",
    "                           'latitude', 'longitude', 'phone_number'])\n",
    "assert 6250 <= len(bus) <= 6260\n",
    "\n",
    "assert all(ins.columns == ['iid', 'date', 'score', 'type'])\n",
    "assert 26660 <= len(ins) <= 26670\n",
    "\n",
    "assert all(vio.columns == ['description', 'risk_category', 'vid'])\n",
    "assert 60 <= len(vio) <= 65\n",
    "\n",
    "assert all(ins2vio.columns == ['iid', 'vid'])\n",
    "assert 40210 <= len(ins2vio) <= 40220"
   ]
  },
  {
   "cell_type": "markdown",
   "metadata": {},
   "source": [
    "Next we'll check that the statistics match what we expect. The following are hard-coded statistical summaries of the correct data."
   ]
  },
  {
   "cell_type": "code",
   "execution_count": 230,
   "metadata": {},
   "outputs": [
    {
     "name": "stdout",
     "output_type": "stream",
     "text": [
      "What we expect from your Businesses dataframe:\n"
     ]
    },
    {
     "data": {
      "text/html": [
       "<div>\n",
       "<style scoped>\n",
       "    .dataframe tbody tr th:only-of-type {\n",
       "        vertical-align: middle;\n",
       "    }\n",
       "\n",
       "    .dataframe tbody tr th {\n",
       "        vertical-align: top;\n",
       "    }\n",
       "\n",
       "    .dataframe thead th {\n",
       "        text-align: right;\n",
       "    }\n",
       "</style>\n",
       "<table border=\"1\" class=\"dataframe\">\n",
       "  <thead>\n",
       "    <tr style=\"text-align: right;\">\n",
       "      <th></th>\n",
       "      <th>business id column</th>\n",
       "      <th>latitude</th>\n",
       "      <th>longitude</th>\n",
       "    </tr>\n",
       "  </thead>\n",
       "  <tbody>\n",
       "    <tr>\n",
       "      <th>min</th>\n",
       "      <td>19.0</td>\n",
       "      <td>-9999.000000</td>\n",
       "      <td>-9999.0</td>\n",
       "    </tr>\n",
       "    <tr>\n",
       "      <th>50%</th>\n",
       "      <td>75685.0</td>\n",
       "      <td>-9999.000000</td>\n",
       "      <td>-9999.0</td>\n",
       "    </tr>\n",
       "    <tr>\n",
       "      <th>max</th>\n",
       "      <td>102705.0</td>\n",
       "      <td>37.824494</td>\n",
       "      <td>0.0</td>\n",
       "    </tr>\n",
       "  </tbody>\n",
       "</table>\n",
       "</div>"
      ],
      "text/plain": [
       "     business id column     latitude  longitude\n",
       "min                19.0 -9999.000000    -9999.0\n",
       "50%             75685.0 -9999.000000    -9999.0\n",
       "max            102705.0    37.824494        0.0"
      ]
     },
     "metadata": {},
     "output_type": "display_data"
    },
    {
     "name": "stdout",
     "output_type": "stream",
     "text": [
      "What we expect from your Inspections dataframe:\n"
     ]
    },
    {
     "data": {
      "text/html": [
       "<div>\n",
       "<style scoped>\n",
       "    .dataframe tbody tr th:only-of-type {\n",
       "        vertical-align: middle;\n",
       "    }\n",
       "\n",
       "    .dataframe tbody tr th {\n",
       "        vertical-align: top;\n",
       "    }\n",
       "\n",
       "    .dataframe thead th {\n",
       "        text-align: right;\n",
       "    }\n",
       "</style>\n",
       "<table border=\"1\" class=\"dataframe\">\n",
       "  <thead>\n",
       "    <tr style=\"text-align: right;\">\n",
       "      <th></th>\n",
       "      <th>score</th>\n",
       "    </tr>\n",
       "  </thead>\n",
       "  <tbody>\n",
       "    <tr>\n",
       "      <th>min</th>\n",
       "      <td>-1.0</td>\n",
       "    </tr>\n",
       "    <tr>\n",
       "      <th>50%</th>\n",
       "      <td>76.0</td>\n",
       "    </tr>\n",
       "    <tr>\n",
       "      <th>max</th>\n",
       "      <td>100.0</td>\n",
       "    </tr>\n",
       "  </tbody>\n",
       "</table>\n",
       "</div>"
      ],
      "text/plain": [
       "     score\n",
       "min   -1.0\n",
       "50%   76.0\n",
       "max  100.0"
      ]
     },
     "metadata": {},
     "output_type": "display_data"
    },
    {
     "name": "stdout",
     "output_type": "stream",
     "text": [
      "What we expect from your Violations dataframe:\n"
     ]
    },
    {
     "data": {
      "text/html": [
       "<div>\n",
       "<style scoped>\n",
       "    .dataframe tbody tr th:only-of-type {\n",
       "        vertical-align: middle;\n",
       "    }\n",
       "\n",
       "    .dataframe tbody tr th {\n",
       "        vertical-align: top;\n",
       "    }\n",
       "\n",
       "    .dataframe thead th {\n",
       "        text-align: right;\n",
       "    }\n",
       "</style>\n",
       "<table border=\"1\" class=\"dataframe\">\n",
       "  <thead>\n",
       "    <tr style=\"text-align: right;\">\n",
       "      <th></th>\n",
       "      <th>vid</th>\n",
       "    </tr>\n",
       "  </thead>\n",
       "  <tbody>\n",
       "    <tr>\n",
       "      <th>min</th>\n",
       "      <td>103102.0</td>\n",
       "    </tr>\n",
       "    <tr>\n",
       "      <th>50%</th>\n",
       "      <td>103135.0</td>\n",
       "    </tr>\n",
       "    <tr>\n",
       "      <th>max</th>\n",
       "      <td>103177.0</td>\n",
       "    </tr>\n",
       "  </tbody>\n",
       "</table>\n",
       "</div>"
      ],
      "text/plain": [
       "          vid\n",
       "min  103102.0\n",
       "50%  103135.0\n",
       "max  103177.0"
      ]
     },
     "metadata": {},
     "output_type": "display_data"
    }
   ],
   "source": [
    "bus_summary = pd.DataFrame(**{'columns': ['business id column', 'latitude', 'longitude'],\n",
    " 'data': {'business id column': {'50%': 75685.0, 'max': 102705.0, 'min': 19.0},\n",
    "  'latitude': {'50%': -9999.0, 'max': 37.824494, 'min': -9999.0},\n",
    "  'longitude': {'50%': -9999.0,\n",
    "   'max': 0.0,\n",
    "   'min': -9999.0}},\n",
    " 'index': ['min', '50%', 'max']})\n",
    "\n",
    "ins_summary = pd.DataFrame(**{'columns': ['score'],\n",
    " 'data': {'score': {'50%': 76.0, 'max': 100.0, 'min': -1.0}},\n",
    " 'index': ['min', '50%', 'max']})\n",
    "\n",
    "vio_summary = pd.DataFrame(**{'columns': ['vid'],\n",
    " 'data': {'vid': {'50%': 103135.0, 'max': 103177.0, 'min': 103102.0}},\n",
    " 'index': ['min', '50%', 'max']})\n",
    "\n",
    "from IPython.display import display\n",
    "\n",
    "print('What we expect from your Businesses dataframe:')\n",
    "display(bus_summary)\n",
    "print('What we expect from your Inspections dataframe:')\n",
    "display(ins_summary)\n",
    "print('What we expect from your Violations dataframe:')\n",
    "display(vio_summary)"
   ]
  },
  {
   "cell_type": "markdown",
   "metadata": {},
   "source": [
    "The code below defines a testing function that we'll use to verify that your data has the same statistics as what we expect. Run these cells to define the function. The `df_allclose` function has this name because we are verifying that all of the statistics for your dataframe are close to the expected values. Why not `df_allequal`? It's a bad idea in almost all cases to compare two floating point values like 37.780435, as rounding error can cause spurious failures."
   ]
  },
  {
   "cell_type": "markdown",
   "metadata": {
    "deletable": false,
    "editable": false
   },
   "source": [
    "## Question 1d: Verifying the data\n",
    "\n",
    "Now let's run the automated tests. If your dataframes are correct, then the following cell will seem to do nothing, which is a good thing! However, if your variables don't match the correct answers in the main summary statistics shown above, an exception will be raised.\n",
    "\n",
    "<!--\n",
    "BEGIN QUESTION\n",
    "name: q1d\n",
    "points: 3\n",
    "-->"
   ]
  },
  {
   "cell_type": "code",
   "execution_count": 231,
   "metadata": {},
   "outputs": [],
   "source": [
    "\"\"\"Run this cell to load this utility comparison function that we will use in various\n",
    "tests below (both tests you can see and those we run internally for grading).\n",
    "\n",
    "Do not modify the function in any way.\n",
    "\"\"\"\n",
    "\n",
    "\n",
    "def df_allclose(actual, desired, columns=None, rtol=5e-2):\n",
    "    \"\"\"Compare selected columns of two dataframes on a few summary statistics.\n",
    "    \n",
    "    Compute the min, median and max of the two dataframes on the given columns, and compare\n",
    "    that they match numerically to the given relative tolerance.\n",
    "    \n",
    "    If they don't match, an AssertionError is raised (by `numpy.testing`).\n",
    "    \"\"\"    \n",
    "    # summary statistics to compare on\n",
    "    stats = ['min', '50%', 'max']\n",
    "    \n",
    "    # For the desired values, we can provide a full DF with the same structure as\n",
    "    # the actual data, or pre-computed summary statistics.\n",
    "    # We assume a pre-computed summary was provided if columns is None. In that case, \n",
    "    # `desired` *must* have the same structure as the actual's summary\n",
    "    if columns is None:\n",
    "        des = desired\n",
    "        columns = desired.columns\n",
    "    else:\n",
    "        des = desired[columns].describe().loc[stats]\n",
    "\n",
    "    # Extract summary stats from actual DF\n",
    "    act = actual[columns].describe().loc[stats]\n",
    "\n",
    "    return np.allclose(act, des, rtol)"
   ]
  },
  {
   "cell_type": "code",
   "execution_count": 232,
   "metadata": {
    "deletable": false,
    "editable": false
   },
   "outputs": [
    {
     "data": {
      "text/html": [
       "\n",
       "    \n",
       "    \n",
       "        <p>All tests passed!</p>\n",
       "    \n",
       "    "
      ],
      "text/plain": [
       "\n",
       "    All tests passed!\n",
       "    "
      ]
     },
     "execution_count": 232,
     "metadata": {},
     "output_type": "execute_result"
    }
   ],
   "source": [
    "grader.check(\"q1d\")"
   ]
  },
  {
   "cell_type": "markdown",
   "metadata": {},
   "source": [
    "### Question 1e: Identifying Issues with the Data"
   ]
  },
  {
   "cell_type": "markdown",
   "metadata": {
    "deletable": false,
    "editable": false
   },
   "source": [
    "<!-- BEGIN QUESTION -->\n",
    "\n",
    "Use the `head` command on your three files again. This time, describe at least one potential problem with the data you see. Consider issues with missing values and bad data.\n",
    "\n",
    "<!--\n",
    "BEGIN QUESTION\n",
    "name: q1e\n",
    "manual: True\n",
    "points: 1\n",
    "-->"
   ]
  },
  {
   "cell_type": "markdown",
   "metadata": {},
   "source": [
    "I noticed that in bus, the formats of the addresses do not follow a consistent template (i.e. 2200 JERROLD AVE STE C vs 475 06th St). Lowercase lettering, uppercase lettering, and inclusion of floor numbers are different depending on the restaurant. I also noticed that there are missing values (NaaN) in the phone_number column of bus for some restaurants. I also noticed that here are missing values in the postal_code column of bus for some restaurants. There are also inconsistent uppercase and lowercase formats in the postal code (i.e. CA vs ca). "
   ]
  },
  {
   "cell_type": "markdown",
   "metadata": {},
   "source": [
    "<!-- END QUESTION -->\n",
    "\n",
    "\n",
    "\n",
    "We will explore each file in turn, including determining its granularity and primary keys and exploring many of the variables individually. Let's begin with the businesses file, which has been read into the `bus` dataframe."
   ]
  },
  {
   "cell_type": "markdown",
   "metadata": {
    "nbgrader": {
     "grade": false,
     "grade_id": "business-data",
     "locked": true,
     "schema_version": 2,
     "solution": false
    }
   },
   "source": [
    "<br/><br/><br/>\n",
    "\n",
    "---\n",
    "\n",
    "<br/><br/><br/>\n",
    "\n",
    "# 2: Examining the Business Data File\n",
    "\n",
    "From its name alone, we expect the `bus.csv` file to contain information about the restaurants. Let's investigate the granularity of this dataset."
   ]
  },
  {
   "cell_type": "code",
   "execution_count": 233,
   "metadata": {},
   "outputs": [
    {
     "data": {
      "text/html": [
       "<div>\n",
       "<style scoped>\n",
       "    .dataframe tbody tr th:only-of-type {\n",
       "        vertical-align: middle;\n",
       "    }\n",
       "\n",
       "    .dataframe tbody tr th {\n",
       "        vertical-align: top;\n",
       "    }\n",
       "\n",
       "    .dataframe thead th {\n",
       "        text-align: right;\n",
       "    }\n",
       "</style>\n",
       "<table border=\"1\" class=\"dataframe\">\n",
       "  <thead>\n",
       "    <tr style=\"text-align: right;\">\n",
       "      <th></th>\n",
       "      <th>business id column</th>\n",
       "      <th>name</th>\n",
       "      <th>address</th>\n",
       "      <th>city</th>\n",
       "      <th>state</th>\n",
       "      <th>postal_code</th>\n",
       "      <th>latitude</th>\n",
       "      <th>longitude</th>\n",
       "      <th>phone_number</th>\n",
       "    </tr>\n",
       "  </thead>\n",
       "  <tbody>\n",
       "    <tr>\n",
       "      <th>0</th>\n",
       "      <td>1000</td>\n",
       "      <td>HEUNG YUEN RESTAURANT</td>\n",
       "      <td>3279 22nd St</td>\n",
       "      <td>San Francisco</td>\n",
       "      <td>CA</td>\n",
       "      <td>94110</td>\n",
       "      <td>37.755282</td>\n",
       "      <td>-122.420493</td>\n",
       "      <td>-9999</td>\n",
       "    </tr>\n",
       "    <tr>\n",
       "      <th>1</th>\n",
       "      <td>100010</td>\n",
       "      <td>ILLY CAFFE SF_PIER 39</td>\n",
       "      <td>PIER 39  K-106-B</td>\n",
       "      <td>San Francisco</td>\n",
       "      <td>CA</td>\n",
       "      <td>94133</td>\n",
       "      <td>-9999.000000</td>\n",
       "      <td>-9999.000000</td>\n",
       "      <td>14154827284</td>\n",
       "    </tr>\n",
       "    <tr>\n",
       "      <th>2</th>\n",
       "      <td>100017</td>\n",
       "      <td>AMICI'S EAST COAST PIZZERIA</td>\n",
       "      <td>475 06th St</td>\n",
       "      <td>San Francisco</td>\n",
       "      <td>CA</td>\n",
       "      <td>94103</td>\n",
       "      <td>-9999.000000</td>\n",
       "      <td>-9999.000000</td>\n",
       "      <td>14155279839</td>\n",
       "    </tr>\n",
       "    <tr>\n",
       "      <th>3</th>\n",
       "      <td>100026</td>\n",
       "      <td>LOCAL CATERING</td>\n",
       "      <td>1566 CARROLL AVE</td>\n",
       "      <td>San Francisco</td>\n",
       "      <td>CA</td>\n",
       "      <td>94124</td>\n",
       "      <td>-9999.000000</td>\n",
       "      <td>-9999.000000</td>\n",
       "      <td>14155860315</td>\n",
       "    </tr>\n",
       "    <tr>\n",
       "      <th>4</th>\n",
       "      <td>100030</td>\n",
       "      <td>OUI OUI! MACARON</td>\n",
       "      <td>2200 JERROLD AVE STE C</td>\n",
       "      <td>San Francisco</td>\n",
       "      <td>CA</td>\n",
       "      <td>94124</td>\n",
       "      <td>-9999.000000</td>\n",
       "      <td>-9999.000000</td>\n",
       "      <td>14159702675</td>\n",
       "    </tr>\n",
       "  </tbody>\n",
       "</table>\n",
       "</div>"
      ],
      "text/plain": [
       "   business id column                         name                 address  \\\n",
       "0                1000        HEUNG YUEN RESTAURANT            3279 22nd St   \n",
       "1              100010        ILLY CAFFE SF_PIER 39        PIER 39  K-106-B   \n",
       "2              100017  AMICI'S EAST COAST PIZZERIA             475 06th St   \n",
       "3              100026               LOCAL CATERING        1566 CARROLL AVE   \n",
       "4              100030             OUI OUI! MACARON  2200 JERROLD AVE STE C   \n",
       "\n",
       "            city state postal_code     latitude    longitude  phone_number  \n",
       "0  San Francisco    CA       94110    37.755282  -122.420493         -9999  \n",
       "1  San Francisco    CA       94133 -9999.000000 -9999.000000   14154827284  \n",
       "2  San Francisco    CA       94103 -9999.000000 -9999.000000   14155279839  \n",
       "3  San Francisco    CA       94124 -9999.000000 -9999.000000   14155860315  \n",
       "4  San Francisco    CA       94124 -9999.000000 -9999.000000   14159702675  "
      ]
     },
     "execution_count": 233,
     "metadata": {},
     "output_type": "execute_result"
    }
   ],
   "source": [
    "bus.head()"
   ]
  },
  {
   "cell_type": "markdown",
   "metadata": {
    "deletable": false,
    "editable": false
   },
   "source": [
    "<br/><br/><br/>\n",
    "\n",
    "---\n",
    "\n",
    "## Question 2a\n",
    "\n",
    "The `bus` dataframe contains a column called `business id column` which probably corresponds to a unique business id.  However, let's first rename that column to `bid`.  Modify the `bus` dataframe by renaming that column to `bid`.\n",
    "\n",
    "**Note**: In practice we might want to do this renaming when the table is loaded but for grading purposes we will do it here.\n",
    "\n",
    "<!--\n",
    "BEGIN QUESTION\n",
    "name: q2a\n",
    "points: 1\n",
    "-->"
   ]
  },
  {
   "cell_type": "code",
   "execution_count": 234,
   "metadata": {},
   "outputs": [],
   "source": [
    "bus = bus.rename(columns = {\"business id column\":\"bid\"})"
   ]
  },
  {
   "cell_type": "code",
   "execution_count": 235,
   "metadata": {
    "deletable": false,
    "editable": false
   },
   "outputs": [
    {
     "data": {
      "text/html": [
       "\n",
       "    \n",
       "    \n",
       "        <p>All tests passed!</p>\n",
       "    \n",
       "    "
      ],
      "text/plain": [
       "\n",
       "    All tests passed!\n",
       "    "
      ]
     },
     "execution_count": 235,
     "metadata": {},
     "output_type": "execute_result"
    }
   ],
   "source": [
    "grader.check(\"q2a\")"
   ]
  },
  {
   "cell_type": "markdown",
   "metadata": {
    "deletable": false,
    "editable": false,
    "nbgrader": {
     "grade": false,
     "grade_id": "q2a",
     "locked": true,
     "schema_version": 2,
     "solution": false
    }
   },
   "source": [
    "<br/><br/><br/>\n",
    "\n",
    "---\n",
    "\n",
    "## Question 2b\n",
    "\n",
    "Examining the entries in `bus`, is the `bid` unique for each record (i.e. each row of data)? Your code should compute the answer, i.e. don't just hard code `True` or `False`.\n",
    "\n",
    "Hint: use `value_counts()` or `unique()` to determine if the `bid` series has any duplicates.\n",
    "\n",
    "<!--\n",
    "BEGIN QUESTION\n",
    "name: q2b\n",
    "points: 1\n",
    "-->"
   ]
  },
  {
   "cell_type": "code",
   "execution_count": 236,
   "metadata": {
    "ExecuteTime": {
     "end_time": "2018-08-18T01:21:53.936572Z",
     "start_time": "2018-08-18T01:21:53.927344Z"
    },
    "nbgrader": {
     "grade": false,
     "grade_id": "q2a-answer",
     "locked": false,
     "schema_version": 2,
     "solution": true
    },
    "tags": [
     "solution"
    ]
   },
   "outputs": [],
   "source": [
    "is_bid_unique = len(bus[\"bid\"]) == len(bus[\"bid\"].unique())"
   ]
  },
  {
   "cell_type": "code",
   "execution_count": 237,
   "metadata": {
    "deletable": false,
    "editable": false
   },
   "outputs": [
    {
     "data": {
      "text/html": [
       "\n",
       "    \n",
       "    \n",
       "        <p>All tests passed!</p>\n",
       "    \n",
       "    "
      ],
      "text/plain": [
       "\n",
       "    All tests passed!\n",
       "    "
      ]
     },
     "execution_count": 237,
     "metadata": {},
     "output_type": "execute_result"
    }
   ],
   "source": [
    "grader.check(\"q2b\")"
   ]
  },
  {
   "cell_type": "markdown",
   "metadata": {
    "deletable": false,
    "editable": false
   },
   "source": [
    "<br/><br/><br/>\n",
    "\n",
    "---\n",
    "\n",
    "\n",
    "## Question 2c\n",
    "\n",
    "In the two cells below create two **series** \n",
    "\n",
    "1. where the index is the `name` of the business and the value is the number of records with that `name`\n",
    "2. where the index is the `address` of the business and the value is the number of records with that `address`\n",
    "\n",
    "Order both series in descending order by count. You may need to use `groupby()`, `size()`, `sort_values()`, or `value_counts()`. \n",
    "\n",
    "**Step 1**\n",
    "\n",
    "<!--\n",
    "BEGIN QUESTION\n",
    "name: q2ci\n",
    "points: 1\n",
    "-->"
   ]
  },
  {
   "cell_type": "code",
   "execution_count": 238,
   "metadata": {},
   "outputs": [
    {
     "data": {
      "text/plain": [
       "Peet's Coffee & Tea                                       20\n",
       "Starbucks Coffee                                          13\n",
       "McDonald's                                                10\n",
       "Jamba Juice                                               10\n",
       "STARBUCKS                                                  9\n",
       "Proper Food                                                9\n",
       "Specialty's Cafe & Bakery                                  8\n",
       "Mixt Greens/Mixt                                           8\n",
       "Starbucks                                                  7\n",
       "Philz Coffee                                               7\n",
       "The Organic Coup                                           7\n",
       "Blue Bottle Coffee                                         7\n",
       "Whole Foods Market                                         7\n",
       "Bon Appetit @ Twitter                                      6\n",
       "BlueStar Refreshment Services @ Uber Technologies, Inc     6\n",
       "Lee's Deli                                                 6\n",
       "STARBUCKS COFFEE                                           5\n",
       "PEET'S COFFEE & TEA                                        5\n",
       "La Boulangerie De San Francisco                            5\n",
       "Annie's Hot Dogs & Pretzels                                5\n",
       "Name: name, dtype: int64"
      ]
     },
     "execution_count": 238,
     "metadata": {},
     "output_type": "execute_result"
    }
   ],
   "source": [
    "name_counts = bus['name'].value_counts(dropna = False).sort_values(ascending = False)\n",
    "name_counts.head(20)"
   ]
  },
  {
   "cell_type": "code",
   "execution_count": 239,
   "metadata": {
    "deletable": false,
    "editable": false
   },
   "outputs": [
    {
     "data": {
      "text/html": [
       "\n",
       "    \n",
       "    \n",
       "        <p>All tests passed!</p>\n",
       "    \n",
       "    "
      ],
      "text/plain": [
       "\n",
       "    All tests passed!\n",
       "    "
      ]
     },
     "execution_count": 239,
     "metadata": {},
     "output_type": "execute_result"
    }
   ],
   "source": [
    "grader.check(\"q2ci\")"
   ]
  },
  {
   "cell_type": "markdown",
   "metadata": {
    "deletable": false,
    "editable": false
   },
   "source": [
    "**Step 2**\n",
    "\n",
    "<!--\n",
    "BEGIN QUESTION\n",
    "name: q2cii\n",
    "points: 1\n",
    "-->"
   ]
  },
  {
   "cell_type": "code",
   "execution_count": 240,
   "metadata": {},
   "outputs": [
    {
     "data": {
      "text/plain": [
       "Off The Grid              39\n",
       "428 11th St               34\n",
       "3251 20th Ave             17\n",
       "2948 Folsom St            17\n",
       "Pier 41                   16\n",
       "103 Horne Ave             14\n",
       "24 Willie Mays Plaza      13\n",
       "Off the Grid              11\n",
       "1 United Nations Plaza    10\n",
       "2948 Folsom St.           10\n",
       "Name: address, dtype: int64"
      ]
     },
     "execution_count": 240,
     "metadata": {},
     "output_type": "execute_result"
    }
   ],
   "source": [
    "address_counts = bus['address'].value_counts(dropna = False).sort_values(ascending = False)\n",
    "address_counts.head(10)"
   ]
  },
  {
   "cell_type": "code",
   "execution_count": 241,
   "metadata": {
    "deletable": false,
    "editable": false
   },
   "outputs": [
    {
     "data": {
      "text/html": [
       "\n",
       "    \n",
       "    \n",
       "        <p>All tests passed!</p>\n",
       "    \n",
       "    "
      ],
      "text/plain": [
       "\n",
       "    All tests passed!\n",
       "    "
      ]
     },
     "execution_count": 241,
     "metadata": {},
     "output_type": "execute_result"
    }
   ],
   "source": [
    "grader.check(\"q2cii\")"
   ]
  },
  {
   "cell_type": "markdown",
   "metadata": {
    "deletable": false,
    "editable": false,
    "nbgrader": {
     "grade": false,
     "grade_id": "q2b",
     "locked": true,
     "schema_version": 2,
     "solution": false
    },
    "tags": [
     "written"
    ]
   },
   "source": [
    "<br/><br/><br/>\n",
    "\n",
    "---\n",
    "\n",
    "\n",
    "## Question 2d\n",
    "\n",
    "Based on the above calculations answer each of the following questions by filling the value in the variable.\n",
    "\n",
    "1. What does each record represent?  \n",
    "1. What is the minimal primary key?\n",
    "\n",
    "<!--\n",
    "BEGIN QUESTION\n",
    "name: q2d\n",
    "points: 2\n",
    "-->"
   ]
  },
  {
   "cell_type": "code",
   "execution_count": 242,
   "metadata": {},
   "outputs": [],
   "source": [
    "# What does each record represent?  Valid answers are:\n",
    "#    \"One location of a restaurant.\"\n",
    "#    \"A chain of restaurants.\"\n",
    "#    \"A city block.\"\n",
    "q2d_part1 = \"One location of a restaurant.\"\n",
    "\n",
    "# What is the minimal primary key? Valid answers are:\n",
    "#    \"bid\"\n",
    "#    \"bid, name\"\n",
    "#    \"bid, name, address\"\n",
    "q2d_part2 = \"bid\""
   ]
  },
  {
   "cell_type": "code",
   "execution_count": 243,
   "metadata": {
    "deletable": false,
    "editable": false
   },
   "outputs": [
    {
     "data": {
      "text/html": [
       "\n",
       "    \n",
       "    \n",
       "        <p>All tests passed!</p>\n",
       "    \n",
       "    "
      ],
      "text/plain": [
       "\n",
       "    All tests passed!\n",
       "    "
      ]
     },
     "execution_count": 243,
     "metadata": {},
     "output_type": "execute_result"
    }
   ],
   "source": [
    "grader.check(\"q2d\")"
   ]
  },
  {
   "cell_type": "markdown",
   "metadata": {
    "nbgrader": {
     "grade": false,
     "grade_id": "business-data",
     "locked": true,
     "schema_version": 2,
     "solution": false
    }
   },
   "source": [
    "<br/><br/><br/>\n",
    "\n",
    "---\n",
    "\n",
    "<br/><br/><br/>\n",
    "\n",
    "# 3: Cleaning the Business Data Postal Codes\n",
    "\n",
    "The business data contains postal code information that we can use to aggregate the ratings over regions of the city.  Let's examine and clean the postal code field.  The postal code (sometimes also called a ZIP code) partitions the city into regions:\n",
    "\n",
    "<img src=\"https://www.usmapguide.com/wp-content/uploads/2019/03/printable-san-francisco-zip-code-map.jpg\" alt=\"ZIP Code Map\" style=\"width: 600px\">"
   ]
  },
  {
   "cell_type": "markdown",
   "metadata": {
    "deletable": false,
    "editable": false,
    "nbgrader": {
     "grade": false,
     "grade_id": "cell-a4c4a09f1ecf2f4b",
     "locked": true,
     "schema_version": 2,
     "solution": false
    }
   },
   "source": [
    "<br/><br/><br/>\n",
    "\n",
    "---\n",
    "\n",
    "\n",
    "## Question 3a\n",
    "\n",
    "How many restaurants are in each ZIP code? \n",
    "\n",
    "In the cell below, create a **series** where the index is the postal code and the value is the number of records with that postal code in descending order of count. You may need to use `groupby()`, `size()`, or `value_counts()`. Do you notice any odd/invalid zip codes?\n",
    "\n",
    "<!--\n",
    "BEGIN QUESTION\n",
    "name: q3a\n",
    "points: 1\n",
    "-->"
   ]
  },
  {
   "cell_type": "code",
   "execution_count": 244,
   "metadata": {
    "nbgrader": {
     "grade": false,
     "grade_id": "cell-d2151d673e6c36a1",
     "locked": false,
     "schema_version": 2,
     "solution": true
    }
   },
   "outputs": [
    {
     "name": "stdout",
     "output_type": "stream",
     "text": [
      "postal_code\n",
      "94103         562\n",
      "94110         555\n",
      "94102         456\n",
      "94107         408\n",
      "94133         398\n",
      "94109         382\n",
      "94111         259\n",
      "94122         255\n",
      "94105         249\n",
      "94118         231\n",
      "94115         230\n",
      "94108         229\n",
      "94124         218\n",
      "94114         200\n",
      "-9999         194\n",
      "94112         192\n",
      "94117         189\n",
      "94123         177\n",
      "94121         157\n",
      "94104         142\n",
      "94132         132\n",
      "94116          97\n",
      "94158          90\n",
      "94134          82\n",
      "94127          67\n",
      "94131          49\n",
      "94130           8\n",
      "94143           5\n",
      "94013           2\n",
      "94188           2\n",
      "CA              2\n",
      "94301           2\n",
      "94101           2\n",
      "95122           1\n",
      "941033148       1\n",
      "95133           1\n",
      "95132           1\n",
      "94102-5917      1\n",
      "94014           1\n",
      "941             1\n",
      "94080           1\n",
      "94105-2907      1\n",
      "92672           1\n",
      "64110           1\n",
      "00000           1\n",
      "94105-1420      1\n",
      "941102019       1\n",
      "95117           1\n",
      "95112           1\n",
      "95109           1\n",
      "95105           1\n",
      "94901           1\n",
      "94621           1\n",
      "94602           1\n",
      "94544           1\n",
      "94518           1\n",
      "94117-3504      1\n",
      "94120           1\n",
      "94122-1909      1\n",
      "94123-3106      1\n",
      "94124-1917      1\n",
      "94129           1\n",
      "Ca              1\n"
     ]
    }
   ],
   "source": [
    "zip_counts = bus.groupby('postal_code').size().sort_values(ascending = False)\n",
    "print(zip_counts.to_string())"
   ]
  },
  {
   "cell_type": "code",
   "execution_count": 245,
   "metadata": {
    "deletable": false,
    "editable": false
   },
   "outputs": [
    {
     "data": {
      "text/html": [
       "\n",
       "    \n",
       "    \n",
       "        <p>All tests passed!</p>\n",
       "    \n",
       "    "
      ],
      "text/plain": [
       "\n",
       "    All tests passed!\n",
       "    "
      ]
     },
     "execution_count": 245,
     "metadata": {},
     "output_type": "execute_result"
    }
   ],
   "source": [
    "grader.check(\"q3a\")"
   ]
  },
  {
   "cell_type": "markdown",
   "metadata": {
    "deletable": false,
    "editable": false
   },
   "source": [
    "<br/><br/><br/>\n",
    "\n",
    "--- \n",
    "\n",
    "## Question 3b\n",
    "\n",
    "Answer the following questions about the `postal_code` column in the `bus` dataframe.\n",
    "\n",
    "1. The ZIP code column is which of the following type of data:\n",
    "    1. Quantitative Continuous\n",
    "    1. Quantitative Discrete\n",
    "    1. Qualitative Ordinal\n",
    "    1. Qualitative Nominal    \n",
    "1. What Python data type is used to represent a ZIP code?\n",
    "\n",
    "*Note*: ZIP codes and postal codes are the same thing.\n",
    "\n",
    "Please write your answers in the variables below:\n",
    "\n",
    "<!--\n",
    "BEGIN QUESTION\n",
    "name: q3b\n",
    "points: 2\n",
    "-->"
   ]
  },
  {
   "cell_type": "code",
   "execution_count": 246,
   "metadata": {},
   "outputs": [],
   "source": [
    "# The ZIP code column is which of the following type of data:\n",
    "#   \"Quantitative Continuous\" \n",
    "#   \"Quantitative Discrete\"\n",
    "#   \"Qualitative Ordinal\"\n",
    "#   \"Qualitative Nominal\"\n",
    "q3b_part1 = \"Qualitative Nominal\"\n",
    "\n",
    "# What Python data type is used to represent a ZIP code? \n",
    "#    \"str\"\n",
    "#    \"int\"\n",
    "#    \"bool\"\n",
    "#    \"float\"\n",
    "q3b_part2 = \"str\""
   ]
  },
  {
   "cell_type": "code",
   "execution_count": 247,
   "metadata": {
    "deletable": false,
    "editable": false
   },
   "outputs": [
    {
     "data": {
      "text/html": [
       "\n",
       "    \n",
       "    \n",
       "        <p>All tests passed!</p>\n",
       "    \n",
       "    "
      ],
      "text/plain": [
       "\n",
       "    All tests passed!\n",
       "    "
      ]
     },
     "execution_count": 247,
     "metadata": {},
     "output_type": "execute_result"
    }
   ],
   "source": [
    "grader.check(\"q3b\")"
   ]
  },
  {
   "cell_type": "markdown",
   "metadata": {},
   "source": [
    "<br/><br/><br/>\n",
    "\n",
    "--- \n",
    "\n",
    "## Question 3c\n",
    "\n",
    "In question 3a we noticed a large number of potentially invalid ZIP codes (e.g., \"Ca\").  These are likely due to data entry errors.  To get a better understanding of the potential errors in the zip codes we will:\n",
    "\n",
    "1. Import a list of valid San Francisco ZIP codes by using `pd.read_json` to load the file `data/sf_zipcodes.json` and extract a **series** of type `str` containing the valid ZIP codes.  *Hint: set `dtype` when invoking `read_json`.*\n",
    "1. Construct a `DataFrame` containing only the businesses which DO NOT have valid ZIP codes.  You will probably want to use the `Series.isin` function. \n"
   ]
  },
  {
   "cell_type": "markdown",
   "metadata": {
    "deletable": false,
    "editable": false
   },
   "source": [
    "**Step 1**\n",
    "\n",
    "<!--\n",
    "BEGIN QUESTION\n",
    "name: q3ci\n",
    "points: 1\n",
    "-->"
   ]
  },
  {
   "cell_type": "code",
   "execution_count": 248,
   "metadata": {},
   "outputs": [
    {
     "data": {
      "text/plain": [
       "0    94102\n",
       "1    94103\n",
       "2    94104\n",
       "3    94105\n",
       "4    94107\n",
       "Name: zip_codes, dtype: object"
      ]
     },
     "execution_count": 248,
     "metadata": {},
     "output_type": "execute_result"
    }
   ],
   "source": [
    "valid_zips = pd.read_json(dsDir/\"sf_zipcodes.json\", dtype = str)[\"zip_codes\"]\n",
    "valid_zips.head()"
   ]
  },
  {
   "cell_type": "code",
   "execution_count": 249,
   "metadata": {
    "deletable": false,
    "editable": false
   },
   "outputs": [
    {
     "data": {
      "text/html": [
       "\n",
       "    \n",
       "    \n",
       "        <p>All tests passed!</p>\n",
       "    \n",
       "    "
      ],
      "text/plain": [
       "\n",
       "    All tests passed!\n",
       "    "
      ]
     },
     "execution_count": 249,
     "metadata": {},
     "output_type": "execute_result"
    }
   ],
   "source": [
    "grader.check(\"q3ci\")"
   ]
  },
  {
   "cell_type": "markdown",
   "metadata": {
    "deletable": false,
    "editable": false
   },
   "source": [
    "**Step 2**\n",
    "\n",
    "<!--\n",
    "BEGIN QUESTION\n",
    "name: q3cii\n",
    "points: 1\n",
    "-->"
   ]
  },
  {
   "cell_type": "code",
   "execution_count": 250,
   "metadata": {},
   "outputs": [
    {
     "data": {
      "text/html": [
       "<div>\n",
       "<style scoped>\n",
       "    .dataframe tbody tr th:only-of-type {\n",
       "        vertical-align: middle;\n",
       "    }\n",
       "\n",
       "    .dataframe tbody tr th {\n",
       "        vertical-align: top;\n",
       "    }\n",
       "\n",
       "    .dataframe thead th {\n",
       "        text-align: right;\n",
       "    }\n",
       "</style>\n",
       "<table border=\"1\" class=\"dataframe\">\n",
       "  <thead>\n",
       "    <tr style=\"text-align: right;\">\n",
       "      <th></th>\n",
       "      <th>bid</th>\n",
       "      <th>name</th>\n",
       "      <th>address</th>\n",
       "      <th>city</th>\n",
       "      <th>state</th>\n",
       "      <th>postal_code</th>\n",
       "      <th>latitude</th>\n",
       "      <th>longitude</th>\n",
       "      <th>phone_number</th>\n",
       "    </tr>\n",
       "  </thead>\n",
       "  <tbody>\n",
       "    <tr>\n",
       "      <th>22</th>\n",
       "      <td>100126</td>\n",
       "      <td>Lamas Peruvian Food Truck</td>\n",
       "      <td>Private Location</td>\n",
       "      <td>San Francisco</td>\n",
       "      <td>CA</td>\n",
       "      <td>-9999</td>\n",
       "      <td>-9999.000000</td>\n",
       "      <td>-9999.000000</td>\n",
       "      <td>-9999</td>\n",
       "    </tr>\n",
       "    <tr>\n",
       "      <th>68</th>\n",
       "      <td>100417</td>\n",
       "      <td>COMPASS ONE, LLC</td>\n",
       "      <td>1 MARKET ST. FL</td>\n",
       "      <td>San Francisco</td>\n",
       "      <td>CA</td>\n",
       "      <td>94105-1420</td>\n",
       "      <td>-9999.000000</td>\n",
       "      <td>-9999.000000</td>\n",
       "      <td>14154324000</td>\n",
       "    </tr>\n",
       "    <tr>\n",
       "      <th>96</th>\n",
       "      <td>100660</td>\n",
       "      <td>TEAPENTER</td>\n",
       "      <td>1518 IRVING ST</td>\n",
       "      <td>San Francisco</td>\n",
       "      <td>CA</td>\n",
       "      <td>94122-1909</td>\n",
       "      <td>-9999.000000</td>\n",
       "      <td>-9999.000000</td>\n",
       "      <td>14155868318</td>\n",
       "    </tr>\n",
       "    <tr>\n",
       "      <th>109</th>\n",
       "      <td>100781</td>\n",
       "      <td>LE CAFE DU SOLEIL</td>\n",
       "      <td>200 FILLMORE ST</td>\n",
       "      <td>San Francisco</td>\n",
       "      <td>CA</td>\n",
       "      <td>94117-3504</td>\n",
       "      <td>-9999.000000</td>\n",
       "      <td>-9999.000000</td>\n",
       "      <td>14155614215</td>\n",
       "    </tr>\n",
       "    <tr>\n",
       "      <th>144</th>\n",
       "      <td>101084</td>\n",
       "      <td>Deli North 200</td>\n",
       "      <td>1 Warriors Way Level 300 North East</td>\n",
       "      <td>San Francisco</td>\n",
       "      <td>CA</td>\n",
       "      <td>94518</td>\n",
       "      <td>-9999.000000</td>\n",
       "      <td>-9999.000000</td>\n",
       "      <td>-9999</td>\n",
       "    </tr>\n",
       "    <tr>\n",
       "      <th>156</th>\n",
       "      <td>101129</td>\n",
       "      <td>Vendor Room 200</td>\n",
       "      <td>1 Warriors Way Level 300 South West</td>\n",
       "      <td>San Francisco</td>\n",
       "      <td>CA</td>\n",
       "      <td>-9999</td>\n",
       "      <td>-9999.000000</td>\n",
       "      <td>-9999.000000</td>\n",
       "      <td>-9999</td>\n",
       "    </tr>\n",
       "    <tr>\n",
       "      <th>177</th>\n",
       "      <td>101192</td>\n",
       "      <td>Cochinita #2</td>\n",
       "      <td>2 Marina Blvd Fort Mason</td>\n",
       "      <td>San Francisco</td>\n",
       "      <td>CA</td>\n",
       "      <td>-9999</td>\n",
       "      <td>-9999.000000</td>\n",
       "      <td>-9999.000000</td>\n",
       "      <td>14150429222</td>\n",
       "    </tr>\n",
       "    <tr>\n",
       "      <th>276</th>\n",
       "      <td>102014</td>\n",
       "      <td>DROPBOX (Section 3, Floor 7)</td>\n",
       "      <td>1800 Owens St</td>\n",
       "      <td>San Francisco</td>\n",
       "      <td>CA</td>\n",
       "      <td>-9999</td>\n",
       "      <td>-9999.000000</td>\n",
       "      <td>-9999.000000</td>\n",
       "      <td>-9999</td>\n",
       "    </tr>\n",
       "    <tr>\n",
       "      <th>295</th>\n",
       "      <td>102245</td>\n",
       "      <td>Vessell CA Operations (#4)</td>\n",
       "      <td>2351 Mission St</td>\n",
       "      <td>San Francisco</td>\n",
       "      <td>CA</td>\n",
       "      <td>-9999</td>\n",
       "      <td>-9999.000000</td>\n",
       "      <td>-9999.000000</td>\n",
       "      <td>-9999</td>\n",
       "    </tr>\n",
       "    <tr>\n",
       "      <th>298</th>\n",
       "      <td>10227</td>\n",
       "      <td>The Napper Tandy</td>\n",
       "      <td>3200 24th St</td>\n",
       "      <td>San Francisco</td>\n",
       "      <td>CA</td>\n",
       "      <td>-9999</td>\n",
       "      <td>37.752581</td>\n",
       "      <td>-122.416482</td>\n",
       "      <td>-9999</td>\n",
       "    </tr>\n",
       "    <tr>\n",
       "      <th>320</th>\n",
       "      <td>10372</td>\n",
       "      <td>BERNAL HEIGHTS NEIGBORHOOD CENTER</td>\n",
       "      <td>515 CORTLAND AVE</td>\n",
       "      <td>San Francisco</td>\n",
       "      <td>CA</td>\n",
       "      <td>-9999</td>\n",
       "      <td>37.739110</td>\n",
       "      <td>-122.416404</td>\n",
       "      <td>14155202142</td>\n",
       "    </tr>\n",
       "    <tr>\n",
       "      <th>321</th>\n",
       "      <td>10373</td>\n",
       "      <td>El Tonayense #1</td>\n",
       "      <td>1717 Harrison St</td>\n",
       "      <td>San Francisco</td>\n",
       "      <td>CA</td>\n",
       "      <td>-9999</td>\n",
       "      <td>37.769426</td>\n",
       "      <td>-122.413446</td>\n",
       "      <td>14155556127</td>\n",
       "    </tr>\n",
       "    <tr>\n",
       "      <th>322</th>\n",
       "      <td>10376</td>\n",
       "      <td>Good Frikin Chicken</td>\n",
       "      <td>10 29th St</td>\n",
       "      <td>San Francisco</td>\n",
       "      <td>CA</td>\n",
       "      <td>-9999</td>\n",
       "      <td>37.744369</td>\n",
       "      <td>-122.420967</td>\n",
       "      <td>-9999</td>\n",
       "    </tr>\n",
       "    <tr>\n",
       "      <th>324</th>\n",
       "      <td>10406</td>\n",
       "      <td>Sunset Youth Services</td>\n",
       "      <td>3918 Judah St</td>\n",
       "      <td>San Francisco</td>\n",
       "      <td>CA</td>\n",
       "      <td>-9999</td>\n",
       "      <td>37.760560</td>\n",
       "      <td>-122.504027</td>\n",
       "      <td>-9999</td>\n",
       "    </tr>\n",
       "    <tr>\n",
       "      <th>357</th>\n",
       "      <td>11416</td>\n",
       "      <td>El Beach Burrito</td>\n",
       "      <td>3914 Judah St</td>\n",
       "      <td>San Francisco</td>\n",
       "      <td>CA</td>\n",
       "      <td>-9999</td>\n",
       "      <td>37.760851</td>\n",
       "      <td>-122.503998</td>\n",
       "      <td>-9999</td>\n",
       "    </tr>\n",
       "    <tr>\n",
       "      <th>381</th>\n",
       "      <td>12199</td>\n",
       "      <td>El Gallo Giro</td>\n",
       "      <td>3055 23rd St</td>\n",
       "      <td>San Francisco</td>\n",
       "      <td>CA</td>\n",
       "      <td>-9999</td>\n",
       "      <td>37.754218</td>\n",
       "      <td>-122.413285</td>\n",
       "      <td>14155553048</td>\n",
       "    </tr>\n",
       "    <tr>\n",
       "      <th>384</th>\n",
       "      <td>12344</td>\n",
       "      <td>The Village Market &amp; Pizza</td>\n",
       "      <td>750 Font Blvd</td>\n",
       "      <td>San Francisco</td>\n",
       "      <td>CA</td>\n",
       "      <td>-9999</td>\n",
       "      <td>37.723462</td>\n",
       "      <td>-122.483012</td>\n",
       "      <td>14155374525</td>\n",
       "    </tr>\n",
       "    <tr>\n",
       "      <th>406</th>\n",
       "      <td>13062</td>\n",
       "      <td>Everett Middle School</td>\n",
       "      <td>450 Church St</td>\n",
       "      <td>San Francisco</td>\n",
       "      <td>CA</td>\n",
       "      <td>-9999</td>\n",
       "      <td>37.763794</td>\n",
       "      <td>-122.428617</td>\n",
       "      <td>-9999</td>\n",
       "    </tr>\n",
       "    <tr>\n",
       "      <th>434</th>\n",
       "      <td>13753</td>\n",
       "      <td>Taboun</td>\n",
       "      <td>203 Parnassus Ave</td>\n",
       "      <td>San Francisco</td>\n",
       "      <td>CA</td>\n",
       "      <td>-9999</td>\n",
       "      <td>37.764574</td>\n",
       "      <td>-122.452950</td>\n",
       "      <td>-9999</td>\n",
       "    </tr>\n",
       "    <tr>\n",
       "      <th>548</th>\n",
       "      <td>17423</td>\n",
       "      <td>Project Open Hand</td>\n",
       "      <td>100 Diamond St</td>\n",
       "      <td>San Francisco</td>\n",
       "      <td>CA</td>\n",
       "      <td>-9999</td>\n",
       "      <td>37.760689</td>\n",
       "      <td>-122.437252</td>\n",
       "      <td>-9999</td>\n",
       "    </tr>\n",
       "  </tbody>\n",
       "</table>\n",
       "</div>"
      ],
      "text/plain": [
       "        bid                               name  \\\n",
       "22   100126          Lamas Peruvian Food Truck   \n",
       "68   100417                   COMPASS ONE, LLC   \n",
       "96   100660                          TEAPENTER   \n",
       "109  100781                  LE CAFE DU SOLEIL   \n",
       "144  101084                     Deli North 200   \n",
       "156  101129                    Vendor Room 200   \n",
       "177  101192                       Cochinita #2   \n",
       "276  102014       DROPBOX (Section 3, Floor 7)   \n",
       "295  102245         Vessell CA Operations (#4)   \n",
       "298   10227                   The Napper Tandy   \n",
       "320   10372  BERNAL HEIGHTS NEIGBORHOOD CENTER   \n",
       "321   10373                    El Tonayense #1   \n",
       "322   10376                Good Frikin Chicken   \n",
       "324   10406              Sunset Youth Services   \n",
       "357   11416                   El Beach Burrito   \n",
       "381   12199                      El Gallo Giro   \n",
       "384   12344         The Village Market & Pizza   \n",
       "406   13062              Everett Middle School   \n",
       "434   13753                             Taboun   \n",
       "548   17423                  Project Open Hand   \n",
       "\n",
       "                                 address           city state postal_code  \\\n",
       "22                      Private Location  San Francisco    CA       -9999   \n",
       "68                       1 MARKET ST. FL  San Francisco    CA  94105-1420   \n",
       "96                        1518 IRVING ST  San Francisco    CA  94122-1909   \n",
       "109                      200 FILLMORE ST  San Francisco    CA  94117-3504   \n",
       "144  1 Warriors Way Level 300 North East  San Francisco    CA       94518   \n",
       "156  1 Warriors Way Level 300 South West  San Francisco    CA       -9999   \n",
       "177             2 Marina Blvd Fort Mason  San Francisco    CA       -9999   \n",
       "276                        1800 Owens St  San Francisco    CA       -9999   \n",
       "295                      2351 Mission St  San Francisco    CA       -9999   \n",
       "298                         3200 24th St  San Francisco    CA       -9999   \n",
       "320                     515 CORTLAND AVE  San Francisco    CA       -9999   \n",
       "321                     1717 Harrison St  San Francisco    CA       -9999   \n",
       "322                           10 29th St  San Francisco    CA       -9999   \n",
       "324                        3918 Judah St  San Francisco    CA       -9999   \n",
       "357                        3914 Judah St  San Francisco    CA       -9999   \n",
       "381                         3055 23rd St  San Francisco    CA       -9999   \n",
       "384                        750 Font Blvd  San Francisco    CA       -9999   \n",
       "406                        450 Church St  San Francisco    CA       -9999   \n",
       "434                    203 Parnassus Ave  San Francisco    CA       -9999   \n",
       "548                       100 Diamond St  San Francisco    CA       -9999   \n",
       "\n",
       "        latitude    longitude  phone_number  \n",
       "22  -9999.000000 -9999.000000         -9999  \n",
       "68  -9999.000000 -9999.000000   14154324000  \n",
       "96  -9999.000000 -9999.000000   14155868318  \n",
       "109 -9999.000000 -9999.000000   14155614215  \n",
       "144 -9999.000000 -9999.000000         -9999  \n",
       "156 -9999.000000 -9999.000000         -9999  \n",
       "177 -9999.000000 -9999.000000   14150429222  \n",
       "276 -9999.000000 -9999.000000         -9999  \n",
       "295 -9999.000000 -9999.000000         -9999  \n",
       "298    37.752581  -122.416482         -9999  \n",
       "320    37.739110  -122.416404   14155202142  \n",
       "321    37.769426  -122.413446   14155556127  \n",
       "322    37.744369  -122.420967         -9999  \n",
       "324    37.760560  -122.504027         -9999  \n",
       "357    37.760851  -122.503998         -9999  \n",
       "381    37.754218  -122.413285   14155553048  \n",
       "384    37.723462  -122.483012   14155374525  \n",
       "406    37.763794  -122.428617         -9999  \n",
       "434    37.764574  -122.452950         -9999  \n",
       "548    37.760689  -122.437252         -9999  "
      ]
     },
     "execution_count": 250,
     "metadata": {},
     "output_type": "execute_result"
    }
   ],
   "source": [
    "invalid_zip_bus = bus[~bus[\"postal_code\"].isin(valid_zips)]\n",
    "invalid_zip_bus.head(20)"
   ]
  },
  {
   "cell_type": "code",
   "execution_count": 251,
   "metadata": {
    "deletable": false,
    "editable": false
   },
   "outputs": [
    {
     "data": {
      "text/html": [
       "\n",
       "    \n",
       "    \n",
       "        <p>All tests passed!</p>\n",
       "    \n",
       "    "
      ],
      "text/plain": [
       "\n",
       "    All tests passed!\n",
       "    "
      ]
     },
     "execution_count": 251,
     "metadata": {},
     "output_type": "execute_result"
    }
   ],
   "source": [
    "grader.check(\"q3cii\")"
   ]
  },
  {
   "cell_type": "markdown",
   "metadata": {
    "deletable": false,
    "editable": false
   },
   "source": [
    "<br/><br/><br/>\n",
    "\n",
    "--- \n",
    "\n",
    "## Question 3d\n",
    "\n",
    "In the previous question, many of the businesses had a common invalid postal code that was likely used to encode a MISSING postal code.  Do they all share a potentially \"interesting address\"?\n",
    "\n",
    "In the following cell, construct a **series** that counts the number of businesses at each `address` that have this single likely MISSING postal code value.  Order the series in descending order by count. \n",
    "\n",
    "After examining the output.  Answer the following question by filling in the appropriate variable. If we were to drop businesses with MISSING postal code values would a particular class of business be affected?  If you are unsure try to search the web for the most common addresses.\n",
    "\n",
    "\n",
    "<!--\n",
    "BEGIN QUESTION\n",
    "name: q3d\n",
    "points: 3\n",
    "-->"
   ]
  },
  {
   "cell_type": "code",
   "execution_count": 252,
   "metadata": {},
   "outputs": [
    {
     "data": {
      "text/plain": [
       "Off The Grid          39\n",
       "Off the Grid          10\n",
       "OTG                    4\n",
       "Approved Locations     3\n",
       "OFF THE GRID           3\n",
       "Name: address, dtype: int64"
      ]
     },
     "execution_count": 252,
     "metadata": {},
     "output_type": "execute_result"
    }
   ],
   "source": [
    "missing_zip_address_count = bus[bus['postal_code'] == '-9999']['address'].value_counts().sort_values(ascending = False)\n",
    "missing_zip_address_count.head()"
   ]
  },
  {
   "cell_type": "code",
   "execution_count": 253,
   "metadata": {
    "deletable": false,
    "editable": false
   },
   "outputs": [
    {
     "data": {
      "text/html": [
       "\n",
       "    \n",
       "    \n",
       "        <p>All tests passed!</p>\n",
       "    \n",
       "    "
      ],
      "text/plain": [
       "\n",
       "    All tests passed!\n",
       "    "
      ]
     },
     "execution_count": 253,
     "metadata": {},
     "output_type": "execute_result"
    }
   ],
   "source": [
    "grader.check(\"q3d\")"
   ]
  },
  {
   "cell_type": "markdown",
   "metadata": {
    "deletable": false,
    "editable": false
   },
   "source": [
    "<br/><br/><br/>\n",
    "\n",
    "--- \n",
    "\n",
    "## Question 3e\n",
    "\n",
    "**True or False**:  *If we were to drop businesses with MISSING postal code values, a particular class of business will be affected.*\n",
    "\n",
    "<!--\n",
    "BEGIN QUESTION\n",
    "name: q3e\n",
    "points: 2\n",
    "-->"
   ]
  },
  {
   "cell_type": "code",
   "execution_count": 254,
   "metadata": {},
   "outputs": [],
   "source": [
    "# True or False: \n",
    "#  If we were to drop businesses with MISSING postal code values \n",
    "#   a particular class of business be affected.\n",
    "q3d_true_or_false = True"
   ]
  },
  {
   "cell_type": "code",
   "execution_count": 255,
   "metadata": {
    "deletable": false,
    "editable": false
   },
   "outputs": [
    {
     "data": {
      "text/html": [
       "\n",
       "    \n",
       "    \n",
       "        <p>All tests passed!</p>\n",
       "    \n",
       "    "
      ],
      "text/plain": [
       "\n",
       "    All tests passed!\n",
       "    "
      ]
     },
     "execution_count": 255,
     "metadata": {},
     "output_type": "execute_result"
    }
   ],
   "source": [
    "grader.check(\"q3e\")"
   ]
  },
  {
   "cell_type": "markdown",
   "metadata": {
    "deletable": false,
    "editable": false
   },
   "source": [
    "<br/><br/><br/>\n",
    "\n",
    "--- \n",
    "\n",
    "## Question 3f\n",
    "\n",
    "Examine the `invalid_zip_bus` dataframe we computed above and look at the businesses that DO NOT have the special MISSING ZIP code value.  Some of the invalid postal codes are just the full 9 digit code rather than the first 5 digits.  Create a new column named `postal5` in the original `bus` dataframe which contains only the first 5 digits of the `postal_code` column.   Finally, for any of the `postal5` ZIP code entries that were not a valid San Fransisco ZIP Code (according to `valid_zips`) set the entry to `None`.  \n",
    "\n",
    "\n",
    "<!--\n",
    "BEGIN QUESTION\n",
    "name: q3f\n",
    "points: 2\n",
    "-->"
   ]
  },
  {
   "cell_type": "code",
   "execution_count": 256,
   "metadata": {},
   "outputs": [
    {
     "data": {
      "text/html": [
       "<div>\n",
       "<style scoped>\n",
       "    .dataframe tbody tr th:only-of-type {\n",
       "        vertical-align: middle;\n",
       "    }\n",
       "\n",
       "    .dataframe tbody tr th {\n",
       "        vertical-align: top;\n",
       "    }\n",
       "\n",
       "    .dataframe thead th {\n",
       "        text-align: right;\n",
       "    }\n",
       "</style>\n",
       "<table border=\"1\" class=\"dataframe\">\n",
       "  <thead>\n",
       "    <tr style=\"text-align: right;\">\n",
       "      <th></th>\n",
       "      <th>bid</th>\n",
       "      <th>name</th>\n",
       "      <th>postal_code</th>\n",
       "      <th>postal5</th>\n",
       "    </tr>\n",
       "  </thead>\n",
       "  <tbody>\n",
       "    <tr>\n",
       "      <th>22</th>\n",
       "      <td>100126</td>\n",
       "      <td>Lamas Peruvian Food Truck</td>\n",
       "      <td>-9999</td>\n",
       "      <td>None</td>\n",
       "    </tr>\n",
       "    <tr>\n",
       "      <th>68</th>\n",
       "      <td>100417</td>\n",
       "      <td>COMPASS ONE, LLC</td>\n",
       "      <td>94105-1420</td>\n",
       "      <td>94105</td>\n",
       "    </tr>\n",
       "    <tr>\n",
       "      <th>96</th>\n",
       "      <td>100660</td>\n",
       "      <td>TEAPENTER</td>\n",
       "      <td>94122-1909</td>\n",
       "      <td>94122</td>\n",
       "    </tr>\n",
       "    <tr>\n",
       "      <th>109</th>\n",
       "      <td>100781</td>\n",
       "      <td>LE CAFE DU SOLEIL</td>\n",
       "      <td>94117-3504</td>\n",
       "      <td>94117</td>\n",
       "    </tr>\n",
       "    <tr>\n",
       "      <th>144</th>\n",
       "      <td>101084</td>\n",
       "      <td>Deli North 200</td>\n",
       "      <td>94518</td>\n",
       "      <td>None</td>\n",
       "    </tr>\n",
       "    <tr>\n",
       "      <th>...</th>\n",
       "      <td>...</td>\n",
       "      <td>...</td>\n",
       "      <td>...</td>\n",
       "      <td>...</td>\n",
       "    </tr>\n",
       "    <tr>\n",
       "      <th>6173</th>\n",
       "      <td>99369</td>\n",
       "      <td>HOTEL BIRON</td>\n",
       "      <td>94102-5917</td>\n",
       "      <td>94102</td>\n",
       "    </tr>\n",
       "    <tr>\n",
       "      <th>6174</th>\n",
       "      <td>99376</td>\n",
       "      <td>Mashallah Halal Food truck Ind</td>\n",
       "      <td>-9999</td>\n",
       "      <td>None</td>\n",
       "    </tr>\n",
       "    <tr>\n",
       "      <th>6199</th>\n",
       "      <td>99536</td>\n",
       "      <td>FAITH SANDWICH #2</td>\n",
       "      <td>94105-2907</td>\n",
       "      <td>94105</td>\n",
       "    </tr>\n",
       "    <tr>\n",
       "      <th>6204</th>\n",
       "      <td>99681</td>\n",
       "      <td>Twister</td>\n",
       "      <td>95112</td>\n",
       "      <td>None</td>\n",
       "    </tr>\n",
       "    <tr>\n",
       "      <th>6241</th>\n",
       "      <td>99819</td>\n",
       "      <td>CHESTNUT DINER</td>\n",
       "      <td>94123-3106</td>\n",
       "      <td>94123</td>\n",
       "    </tr>\n",
       "  </tbody>\n",
       "</table>\n",
       "<p>230 rows × 4 columns</p>\n",
       "</div>"
      ],
      "text/plain": [
       "         bid                            name postal_code postal5\n",
       "22    100126       Lamas Peruvian Food Truck       -9999    None\n",
       "68    100417                COMPASS ONE, LLC  94105-1420   94105\n",
       "96    100660                       TEAPENTER  94122-1909   94122\n",
       "109   100781               LE CAFE DU SOLEIL  94117-3504   94117\n",
       "144   101084                  Deli North 200       94518    None\n",
       "...      ...                             ...         ...     ...\n",
       "6173   99369                     HOTEL BIRON  94102-5917   94102\n",
       "6174   99376  Mashallah Halal Food truck Ind       -9999    None\n",
       "6199   99536               FAITH SANDWICH #2  94105-2907   94105\n",
       "6204   99681                         Twister       95112    None\n",
       "6241   99819                  CHESTNUT DINER  94123-3106   94123\n",
       "\n",
       "[230 rows x 4 columns]"
      ]
     },
     "execution_count": 256,
     "metadata": {},
     "output_type": "execute_result"
    }
   ],
   "source": [
    "bus['postal5'] = bus['postal_code'].str[:5]\n",
    "bus.loc[~bus['postal5'].isin(valid_zips),'postal5'] = None\n",
    "\n",
    "# Checking the corrected postal5 column\n",
    "bus.loc[invalid_zip_bus.index, ['bid', 'name', 'postal_code', 'postal5']]"
   ]
  },
  {
   "cell_type": "code",
   "execution_count": 257,
   "metadata": {
    "deletable": false,
    "editable": false
   },
   "outputs": [
    {
     "data": {
      "text/html": [
       "\n",
       "    \n",
       "    \n",
       "        <p>All tests passed!</p>\n",
       "    \n",
       "    "
      ],
      "text/plain": [
       "\n",
       "    All tests passed!\n",
       "    "
      ]
     },
     "execution_count": 257,
     "metadata": {},
     "output_type": "execute_result"
    }
   ],
   "source": [
    "grader.check(\"q3f\")"
   ]
  },
  {
   "cell_type": "markdown",
   "metadata": {
    "nbgrader": {
     "grade": false,
     "grade_id": "business-data",
     "locked": true,
     "schema_version": 2,
     "solution": false
    }
   },
   "source": [
    "<br/><br/><br/>\n",
    "\n",
    "---\n",
    "\n",
    "<br/><br/><br/>\n",
    "\n",
    "# 4: Investigate the Inspection Data\n",
    "\n",
    "Let's now turn to the inspection DataFrame. Earlier, we found that `ins` has 4 columns named \n",
    "`iid`, `score`, `date` and `type`.  In this section, we determine the granularity of `ins` and investigate the kinds of information provided for the inspections. "
   ]
  },
  {
   "cell_type": "markdown",
   "metadata": {
    "nbgrader": {
     "grade": false,
     "grade_id": "cell-174ed23c543ad9da",
     "locked": true,
     "schema_version": 2,
     "solution": false
    }
   },
   "source": [
    "Let's start by looking again at the first 5 rows of `ins` to see what we're working with."
   ]
  },
  {
   "cell_type": "code",
   "execution_count": 258,
   "metadata": {
    "nbgrader": {
     "grade": false,
     "grade_id": "cell-f0fbe724a2783e33",
     "locked": true,
     "schema_version": 2,
     "solution": false
    }
   },
   "outputs": [
    {
     "data": {
      "text/html": [
       "<div>\n",
       "<style scoped>\n",
       "    .dataframe tbody tr th:only-of-type {\n",
       "        vertical-align: middle;\n",
       "    }\n",
       "\n",
       "    .dataframe tbody tr th {\n",
       "        vertical-align: top;\n",
       "    }\n",
       "\n",
       "    .dataframe thead th {\n",
       "        text-align: right;\n",
       "    }\n",
       "</style>\n",
       "<table border=\"1\" class=\"dataframe\">\n",
       "  <thead>\n",
       "    <tr style=\"text-align: right;\">\n",
       "      <th></th>\n",
       "      <th>iid</th>\n",
       "      <th>date</th>\n",
       "      <th>score</th>\n",
       "      <th>type</th>\n",
       "    </tr>\n",
       "  </thead>\n",
       "  <tbody>\n",
       "    <tr>\n",
       "      <th>0</th>\n",
       "      <td>100010_20190329</td>\n",
       "      <td>03/29/2019 12:00:00 AM</td>\n",
       "      <td>-1</td>\n",
       "      <td>New Construction</td>\n",
       "    </tr>\n",
       "    <tr>\n",
       "      <th>1</th>\n",
       "      <td>100010_20190403</td>\n",
       "      <td>04/03/2019 12:00:00 AM</td>\n",
       "      <td>100</td>\n",
       "      <td>Routine - Unscheduled</td>\n",
       "    </tr>\n",
       "    <tr>\n",
       "      <th>2</th>\n",
       "      <td>100017_20190417</td>\n",
       "      <td>04/17/2019 12:00:00 AM</td>\n",
       "      <td>-1</td>\n",
       "      <td>New Ownership</td>\n",
       "    </tr>\n",
       "    <tr>\n",
       "      <th>3</th>\n",
       "      <td>100017_20190816</td>\n",
       "      <td>08/16/2019 12:00:00 AM</td>\n",
       "      <td>91</td>\n",
       "      <td>Routine - Unscheduled</td>\n",
       "    </tr>\n",
       "    <tr>\n",
       "      <th>4</th>\n",
       "      <td>100017_20190826</td>\n",
       "      <td>08/26/2019 12:00:00 AM</td>\n",
       "      <td>-1</td>\n",
       "      <td>Reinspection/Followup</td>\n",
       "    </tr>\n",
       "  </tbody>\n",
       "</table>\n",
       "</div>"
      ],
      "text/plain": [
       "               iid                    date  score                   type\n",
       "0  100010_20190329  03/29/2019 12:00:00 AM     -1       New Construction\n",
       "1  100010_20190403  04/03/2019 12:00:00 AM    100  Routine - Unscheduled\n",
       "2  100017_20190417  04/17/2019 12:00:00 AM     -1          New Ownership\n",
       "3  100017_20190816  08/16/2019 12:00:00 AM     91  Routine - Unscheduled\n",
       "4  100017_20190826  08/26/2019 12:00:00 AM     -1  Reinspection/Followup"
      ]
     },
     "execution_count": 258,
     "metadata": {},
     "output_type": "execute_result"
    }
   ],
   "source": [
    "ins.head(5)"
   ]
  },
  {
   "cell_type": "markdown",
   "metadata": {
    "deletable": false,
    "editable": false
   },
   "source": [
    "<br/><br/><br/>\n",
    "\n",
    "---\n",
    "\n",
    "## Question 4a\n",
    "\n",
    "The column `iid` probably corresponds to an inspection id.  Is it a primary key?  Write an expression (line of code) that evaluates to 'True' or 'False' based on whether all the values are unique.\n",
    "\n",
    "\n",
    "<!--\n",
    "BEGIN QUESTION\n",
    "name: q4a\n",
    "points: 1\n",
    "-->"
   ]
  },
  {
   "cell_type": "code",
   "execution_count": 259,
   "metadata": {},
   "outputs": [
    {
     "data": {
      "text/plain": [
       "True"
      ]
     },
     "execution_count": 259,
     "metadata": {},
     "output_type": "execute_result"
    }
   ],
   "source": [
    "is_ins_iid_a_primary_key = (ins['iid']).is_unique\n",
    "is_ins_iid_a_primary_key"
   ]
  },
  {
   "cell_type": "code",
   "execution_count": 260,
   "metadata": {
    "deletable": false,
    "editable": false
   },
   "outputs": [
    {
     "data": {
      "text/html": [
       "\n",
       "    \n",
       "    \n",
       "        <p>All tests passed!</p>\n",
       "    \n",
       "    "
      ],
      "text/plain": [
       "\n",
       "    All tests passed!\n",
       "    "
      ]
     },
     "execution_count": 260,
     "metadata": {},
     "output_type": "execute_result"
    }
   ],
   "source": [
    "grader.check(\"q4a\")"
   ]
  },
  {
   "cell_type": "markdown",
   "metadata": {},
   "source": [
    "<br/><br/><br/>\n",
    "\n",
    "---\n",
    "\n",
    "## Question 4b\n",
    "\n",
    "The column `iid` appears to be the composition of two numbers and the first number looks like a business id.  \n",
    "\n",
    "**Part 1.**: Create a new column called `bid` in the `ins` dataframe containing just the business id.  You will want to use `ins['iid'].str` operations to do this.  Also be sure to convert the type of this column to `int`\n",
    "\n",
    "**Part 2.**: Then compute how many values in this new column are invalid business ids (i.e. do not appear in the `bus['bid']` column). This is verifying a foreign key relationship. Consider using the `pd.Series.isin` function.\n",
    "\n",
    "**Part 3.**: Answer True or False, `ins['bid']` is a foreign key reference to `bus['bid']`.\n",
    "\n",
    "\n",
    "**No python `for` loops or list comprehensions required!**"
   ]
  },
  {
   "cell_type": "markdown",
   "metadata": {
    "deletable": false,
    "editable": false
   },
   "source": [
    "**Part 1**\n",
    "\n",
    "<!--\n",
    "BEGIN QUESTION\n",
    "name: q4bi\n",
    "points: 1\n",
    "-->"
   ]
  },
  {
   "cell_type": "code",
   "execution_count": 261,
   "metadata": {},
   "outputs": [],
   "source": [
    "ins['bid'] = ins['iid'].str.split('_').str[0].astype(int)"
   ]
  },
  {
   "cell_type": "code",
   "execution_count": 262,
   "metadata": {
    "deletable": false,
    "editable": false
   },
   "outputs": [
    {
     "data": {
      "text/html": [
       "\n",
       "    \n",
       "    \n",
       "        <p>All tests passed!</p>\n",
       "    \n",
       "    "
      ],
      "text/plain": [
       "\n",
       "    All tests passed!\n",
       "    "
      ]
     },
     "execution_count": 262,
     "metadata": {},
     "output_type": "execute_result"
    }
   ],
   "source": [
    "grader.check(\"q4bi\")"
   ]
  },
  {
   "cell_type": "markdown",
   "metadata": {
    "deletable": false,
    "editable": false
   },
   "source": [
    "**Part 2**\n",
    "\n",
    "<!--\n",
    "BEGIN QUESTION\n",
    "name: q4bii\n",
    "points: 1\n",
    "-->"
   ]
  },
  {
   "cell_type": "code",
   "execution_count": 263,
   "metadata": {},
   "outputs": [
    {
     "data": {
      "text/plain": [
       "0"
      ]
     },
     "execution_count": 263,
     "metadata": {},
     "output_type": "execute_result"
    }
   ],
   "source": [
    "invalid_bid_count = 26663 - ins['bid'].isin(bus['bid']).count()\n",
    "invalid_bid_count"
   ]
  },
  {
   "cell_type": "code",
   "execution_count": 264,
   "metadata": {
    "deletable": false,
    "editable": false
   },
   "outputs": [
    {
     "data": {
      "text/html": [
       "\n",
       "    \n",
       "    \n",
       "        <p>All tests passed!</p>\n",
       "    \n",
       "    "
      ],
      "text/plain": [
       "\n",
       "    All tests passed!\n",
       "    "
      ]
     },
     "execution_count": 264,
     "metadata": {},
     "output_type": "execute_result"
    }
   ],
   "source": [
    "grader.check(\"q4bii\")"
   ]
  },
  {
   "cell_type": "markdown",
   "metadata": {
    "deletable": false,
    "editable": false
   },
   "source": [
    "**Part 3**\n",
    "\n",
    "<!--\n",
    "BEGIN QUESTION\n",
    "name: q4biii\n",
    "points: 1\n",
    "-->"
   ]
  },
  {
   "cell_type": "code",
   "execution_count": 265,
   "metadata": {},
   "outputs": [],
   "source": [
    "# True or False: The column ins['bid'] is a foreign key \n",
    "#   referencing the bus['bid'] primary key.\n",
    "\n",
    "q4b_is_foreign_key = True"
   ]
  },
  {
   "cell_type": "code",
   "execution_count": 266,
   "metadata": {
    "deletable": false,
    "editable": false
   },
   "outputs": [
    {
     "data": {
      "text/html": [
       "\n",
       "    \n",
       "    \n",
       "        <p>All tests passed!</p>\n",
       "    \n",
       "    "
      ],
      "text/plain": [
       "\n",
       "    All tests passed!\n",
       "    "
      ]
     },
     "execution_count": 266,
     "metadata": {},
     "output_type": "execute_result"
    }
   ],
   "source": [
    "grader.check(\"q4biii\")"
   ]
  },
  {
   "cell_type": "markdown",
   "metadata": {},
   "source": [
    "<br/><br/><br/>\n",
    "\n",
    "---\n",
    "\n",
    "## Question 4c\n",
    "\n",
    "What if we are interested in a time component of the inspection data?  We need to examine the date column of each inspection. \n",
    "\n",
    "**Part 1:** What is the type of the individual `ins['date']` entries. You may want to grab the very first entry and use the `type` function in python. \n",
    "\n",
    "**Part 2:** Use `pd.to_datetime` to create a new `ins['timestamp']` column containing of `pd.Timestamp` objects.  These will allow us to do more date manipulation.\n",
    "\n",
    "**Part 3:** What are the earliest and latest dates in our inspection data?  *Hint: you can use `min` and `max` on dates of the correct type.*\n",
    "\n",
    "**Part 4:** We probably want to examine the inspections by year. Create an additional `ins['year']` column containing just the year of the inspection.  Consider using `pd.Series.dt.year` to do this.\n",
    "\n",
    "**No python `for` loops or list comprehensions required!**"
   ]
  },
  {
   "cell_type": "markdown",
   "metadata": {
    "deletable": false,
    "editable": false
   },
   "source": [
    "**Part 1**\n",
    "\n",
    "<!--\n",
    "BEGIN QUESTION\n",
    "name: q4ci\n",
    "points: 1\n",
    "-->"
   ]
  },
  {
   "cell_type": "code",
   "execution_count": 267,
   "metadata": {},
   "outputs": [
    {
     "data": {
      "text/plain": [
       "str"
      ]
     },
     "execution_count": 267,
     "metadata": {},
     "output_type": "execute_result"
    }
   ],
   "source": [
    "ins_date_type = type(ins.loc[0, 'date'])\n",
    "ins_date_type"
   ]
  },
  {
   "cell_type": "code",
   "execution_count": 268,
   "metadata": {
    "deletable": false,
    "editable": false
   },
   "outputs": [
    {
     "data": {
      "text/html": [
       "\n",
       "    \n",
       "    \n",
       "        <p>All tests passed!</p>\n",
       "    \n",
       "    "
      ],
      "text/plain": [
       "\n",
       "    All tests passed!\n",
       "    "
      ]
     },
     "execution_count": 268,
     "metadata": {},
     "output_type": "execute_result"
    }
   ],
   "source": [
    "grader.check(\"q4ci\")"
   ]
  },
  {
   "cell_type": "markdown",
   "metadata": {
    "deletable": false,
    "editable": false
   },
   "source": [
    "**Part 2**\n",
    "\n",
    "<!--\n",
    "BEGIN QUESTION\n",
    "name: q4cii\n",
    "points: 1\n",
    "-->"
   ]
  },
  {
   "cell_type": "code",
   "execution_count": 269,
   "metadata": {},
   "outputs": [],
   "source": [
    "ins['timestamp'] = pd.to_datetime(ins['date'])"
   ]
  },
  {
   "cell_type": "code",
   "execution_count": 270,
   "metadata": {
    "deletable": false,
    "editable": false
   },
   "outputs": [
    {
     "data": {
      "text/html": [
       "\n",
       "    \n",
       "    \n",
       "        <p>All tests passed!</p>\n",
       "    \n",
       "    "
      ],
      "text/plain": [
       "\n",
       "    All tests passed!\n",
       "    "
      ]
     },
     "execution_count": 270,
     "metadata": {},
     "output_type": "execute_result"
    }
   ],
   "source": [
    "grader.check(\"q4cii\")"
   ]
  },
  {
   "cell_type": "markdown",
   "metadata": {
    "deletable": false,
    "editable": false
   },
   "source": [
    "**Part 3**\n",
    "\n",
    "<!--\n",
    "BEGIN QUESTION\n",
    "name: q4ciii\n",
    "points: 1\n",
    "-->"
   ]
  },
  {
   "cell_type": "code",
   "execution_count": 271,
   "metadata": {},
   "outputs": [
    {
     "name": "stdout",
     "output_type": "stream",
     "text": [
      "Earliest Date: 2016-10-04 00:00:00\n",
      "Latest Date: 2019-11-28 00:00:00\n"
     ]
    }
   ],
   "source": [
    "earliest_date = min(ins['timestamp'])\n",
    "latest_date = max(ins['timestamp'])\n",
    "\n",
    "print(\"Earliest Date:\", earliest_date)\n",
    "print(\"Latest Date:\", latest_date)"
   ]
  },
  {
   "cell_type": "code",
   "execution_count": 272,
   "metadata": {
    "deletable": false,
    "editable": false
   },
   "outputs": [
    {
     "data": {
      "text/html": [
       "\n",
       "    \n",
       "    \n",
       "        <p>All tests passed!</p>\n",
       "    \n",
       "    "
      ],
      "text/plain": [
       "\n",
       "    All tests passed!\n",
       "    "
      ]
     },
     "execution_count": 272,
     "metadata": {},
     "output_type": "execute_result"
    }
   ],
   "source": [
    "grader.check(\"q4ciii\")"
   ]
  },
  {
   "cell_type": "markdown",
   "metadata": {
    "deletable": false,
    "editable": false
   },
   "source": [
    "**Part 4**\n",
    "\n",
    "<!--\n",
    "BEGIN QUESTION\n",
    "name: q4civ\n",
    "points: 1\n",
    "-->"
   ]
  },
  {
   "cell_type": "code",
   "execution_count": 273,
   "metadata": {},
   "outputs": [],
   "source": [
    "ins['year'] = ins['timestamp'].dt.year"
   ]
  },
  {
   "cell_type": "code",
   "execution_count": 274,
   "metadata": {
    "deletable": false,
    "editable": false
   },
   "outputs": [
    {
     "data": {
      "text/html": [
       "\n",
       "    \n",
       "    \n",
       "        <p>All tests passed!</p>\n",
       "    \n",
       "    "
      ],
      "text/plain": [
       "\n",
       "    All tests passed!\n",
       "    "
      ]
     },
     "execution_count": 274,
     "metadata": {},
     "output_type": "execute_result"
    }
   ],
   "source": [
    "grader.check(\"q4civ\")"
   ]
  },
  {
   "cell_type": "code",
   "execution_count": 275,
   "metadata": {},
   "outputs": [
    {
     "data": {
      "text/html": [
       "<div>\n",
       "<style scoped>\n",
       "    .dataframe tbody tr th:only-of-type {\n",
       "        vertical-align: middle;\n",
       "    }\n",
       "\n",
       "    .dataframe tbody tr th {\n",
       "        vertical-align: top;\n",
       "    }\n",
       "\n",
       "    .dataframe thead th {\n",
       "        text-align: right;\n",
       "    }\n",
       "</style>\n",
       "<table border=\"1\" class=\"dataframe\">\n",
       "  <thead>\n",
       "    <tr style=\"text-align: right;\">\n",
       "      <th></th>\n",
       "      <th>iid</th>\n",
       "      <th>date</th>\n",
       "      <th>score</th>\n",
       "      <th>type</th>\n",
       "      <th>bid</th>\n",
       "      <th>timestamp</th>\n",
       "      <th>year</th>\n",
       "    </tr>\n",
       "  </thead>\n",
       "  <tbody>\n",
       "    <tr>\n",
       "      <th>0</th>\n",
       "      <td>100010_20190329</td>\n",
       "      <td>03/29/2019 12:00:00 AM</td>\n",
       "      <td>-1</td>\n",
       "      <td>New Construction</td>\n",
       "      <td>100010</td>\n",
       "      <td>2019-03-29</td>\n",
       "      <td>2019</td>\n",
       "    </tr>\n",
       "    <tr>\n",
       "      <th>1</th>\n",
       "      <td>100010_20190403</td>\n",
       "      <td>04/03/2019 12:00:00 AM</td>\n",
       "      <td>100</td>\n",
       "      <td>Routine - Unscheduled</td>\n",
       "      <td>100010</td>\n",
       "      <td>2019-04-03</td>\n",
       "      <td>2019</td>\n",
       "    </tr>\n",
       "    <tr>\n",
       "      <th>2</th>\n",
       "      <td>100017_20190417</td>\n",
       "      <td>04/17/2019 12:00:00 AM</td>\n",
       "      <td>-1</td>\n",
       "      <td>New Ownership</td>\n",
       "      <td>100017</td>\n",
       "      <td>2019-04-17</td>\n",
       "      <td>2019</td>\n",
       "    </tr>\n",
       "    <tr>\n",
       "      <th>3</th>\n",
       "      <td>100017_20190816</td>\n",
       "      <td>08/16/2019 12:00:00 AM</td>\n",
       "      <td>91</td>\n",
       "      <td>Routine - Unscheduled</td>\n",
       "      <td>100017</td>\n",
       "      <td>2019-08-16</td>\n",
       "      <td>2019</td>\n",
       "    </tr>\n",
       "    <tr>\n",
       "      <th>4</th>\n",
       "      <td>100017_20190826</td>\n",
       "      <td>08/26/2019 12:00:00 AM</td>\n",
       "      <td>-1</td>\n",
       "      <td>Reinspection/Followup</td>\n",
       "      <td>100017</td>\n",
       "      <td>2019-08-26</td>\n",
       "      <td>2019</td>\n",
       "    </tr>\n",
       "  </tbody>\n",
       "</table>\n",
       "</div>"
      ],
      "text/plain": [
       "               iid                    date  score                   type  \\\n",
       "0  100010_20190329  03/29/2019 12:00:00 AM     -1       New Construction   \n",
       "1  100010_20190403  04/03/2019 12:00:00 AM    100  Routine - Unscheduled   \n",
       "2  100017_20190417  04/17/2019 12:00:00 AM     -1          New Ownership   \n",
       "3  100017_20190816  08/16/2019 12:00:00 AM     91  Routine - Unscheduled   \n",
       "4  100017_20190826  08/26/2019 12:00:00 AM     -1  Reinspection/Followup   \n",
       "\n",
       "      bid  timestamp  year  \n",
       "0  100010 2019-03-29  2019  \n",
       "1  100010 2019-04-03  2019  \n",
       "2  100017 2019-04-17  2019  \n",
       "3  100017 2019-08-16  2019  \n",
       "4  100017 2019-08-26  2019  "
      ]
     },
     "execution_count": 275,
     "metadata": {},
     "output_type": "execute_result"
    }
   ],
   "source": [
    "ins.head()"
   ]
  },
  {
   "cell_type": "markdown",
   "metadata": {},
   "source": [
    "<br/><br/><br/>\n",
    "\n",
    "---\n",
    "\n",
    "## Question 4d\n",
    "\n",
    "What is the relationship between the type of inspection over the 2016 to 2019 timeframe? \n",
    "\n",
    "**Part 1**\n",
    "\n",
    "Construct the following table by\n",
    "1. Using the `pivot_table` containing the number (`size`) of inspections for the given `type` and `year`.\n",
    "1. Adding an extra `Total` column to the result using `sum`\n",
    "1. Sort the results in descending order by the `Total`.\n",
    "\n",
    "<table border=\"1\" class=\"dataframe\">  <thead>    <tr style=\"text-align: right;\">      <th>year</th>      <th>2016</th>      <th>2017</th>      <th>2018</th>      <th>2019</th>      <th>Total</th>    </tr>    <tr>      <th>type</th>      <th></th>      <th></th>      <th></th>      <th></th>      <th></th>    </tr>  </thead>  <tbody>    <tr>      <th>Routine - Unscheduled</th>      <td>966</td>      <td>4057</td>      <td>4373</td>      <td>4681</td>      <td>14077</td>    </tr>    <tr>      <th>Reinspection/Followup</th>      <td>445</td>      <td>1767</td>      <td>1935</td>      <td>2292</td>      <td>6439</td>    </tr>    <tr>      <th>New Ownership</th>      <td>99</td>      <td>506</td>      <td>528</td>      <td>459</td>      <td>1592</td>    </tr>    <tr>      <th>Complaint</th>      <td>91</td>      <td>418</td>      <td>512</td>      <td>437</td>      <td>1458</td>    </tr>    <tr>      <th>New Construction</th>      <td>102</td>      <td>485</td>      <td>218</td>      <td>189</td>      <td>994</td>    </tr>    <tr>      <th>Non-inspection site visit</th>      <td>51</td>      <td>276</td>      <td>253</td>      <td>231</td>      <td>811</td>    </tr>    <tr>      <th>New Ownership - Followup</th>      <td>0</td>      <td>45</td>      <td>219</td>      <td>235</td>      <td>499</td>    </tr>    <tr>      <th>Structural Inspection</th>      <td>1</td>      <td>153</td>      <td>50</td>      <td>190</td>      <td>394</td>    </tr>    <tr>      <th>Complaint Reinspection/Followup</th>      <td>19</td>      <td>68</td>      <td>70</td>      <td>70</td>      <td>227</td>    </tr>    <tr>      <th>Foodborne Illness Investigation</th>      <td>1</td>      <td>29</td>      <td>50</td>      <td>35</td>      <td>115</td>    </tr>    <tr>      <th>Routine - Scheduled</th>      <td>0</td>      <td>9</td>      <td>8</td>      <td>29</td>      <td>46</td>    </tr>    <tr>      <th>Administrative or Document Review</th>      <td>2</td>      <td>1</td>      <td>1</td>      <td>0</td>      <td>4</td>    </tr>    <tr>      <th>Multi-agency Investigation</th>      <td>0</td>      <td>0</td>      <td>1</td>      <td>2</td>      <td>3</td>    </tr>    <tr>      <th>Special Event</th>      <td>0</td>      <td>3</td>      <td>0</td>      <td>0</td>      <td>3</td>    </tr>    <tr>      <th>Community Health Assessment</th>      <td>1</td>      <td>0</td>      <td>0</td>      <td>0</td>      <td>1</td>    </tr>  </tbody></table>\n",
    "\n",
    "**No python `for` loops or list comprehensions required!**"
   ]
  },
  {
   "cell_type": "code",
   "execution_count": 276,
   "metadata": {},
   "outputs": [
    {
     "data": {
      "text/html": [
       "<div>\n",
       "<style scoped>\n",
       "    .dataframe tbody tr th:only-of-type {\n",
       "        vertical-align: middle;\n",
       "    }\n",
       "\n",
       "    .dataframe tbody tr th {\n",
       "        vertical-align: top;\n",
       "    }\n",
       "\n",
       "    .dataframe thead th {\n",
       "        text-align: right;\n",
       "    }\n",
       "</style>\n",
       "<table border=\"1\" class=\"dataframe\">\n",
       "  <thead>\n",
       "    <tr style=\"text-align: right;\">\n",
       "      <th></th>\n",
       "      <th>2016</th>\n",
       "      <th>2017</th>\n",
       "      <th>2018</th>\n",
       "      <th>2019</th>\n",
       "      <th>Total</th>\n",
       "    </tr>\n",
       "    <tr>\n",
       "      <th>type</th>\n",
       "      <th></th>\n",
       "      <th></th>\n",
       "      <th></th>\n",
       "      <th></th>\n",
       "      <th></th>\n",
       "    </tr>\n",
       "  </thead>\n",
       "  <tbody>\n",
       "    <tr>\n",
       "      <th>Routine - Unscheduled</th>\n",
       "      <td>966</td>\n",
       "      <td>4057</td>\n",
       "      <td>4373</td>\n",
       "      <td>4681</td>\n",
       "      <td>14077</td>\n",
       "    </tr>\n",
       "    <tr>\n",
       "      <th>Reinspection/Followup</th>\n",
       "      <td>445</td>\n",
       "      <td>1767</td>\n",
       "      <td>1935</td>\n",
       "      <td>2292</td>\n",
       "      <td>6439</td>\n",
       "    </tr>\n",
       "    <tr>\n",
       "      <th>New Ownership</th>\n",
       "      <td>99</td>\n",
       "      <td>506</td>\n",
       "      <td>528</td>\n",
       "      <td>459</td>\n",
       "      <td>1592</td>\n",
       "    </tr>\n",
       "    <tr>\n",
       "      <th>Complaint</th>\n",
       "      <td>91</td>\n",
       "      <td>418</td>\n",
       "      <td>512</td>\n",
       "      <td>437</td>\n",
       "      <td>1458</td>\n",
       "    </tr>\n",
       "    <tr>\n",
       "      <th>New Construction</th>\n",
       "      <td>102</td>\n",
       "      <td>485</td>\n",
       "      <td>218</td>\n",
       "      <td>189</td>\n",
       "      <td>994</td>\n",
       "    </tr>\n",
       "    <tr>\n",
       "      <th>Non-inspection site visit</th>\n",
       "      <td>51</td>\n",
       "      <td>276</td>\n",
       "      <td>253</td>\n",
       "      <td>231</td>\n",
       "      <td>811</td>\n",
       "    </tr>\n",
       "    <tr>\n",
       "      <th>New Ownership - Followup</th>\n",
       "      <td>0</td>\n",
       "      <td>45</td>\n",
       "      <td>219</td>\n",
       "      <td>235</td>\n",
       "      <td>499</td>\n",
       "    </tr>\n",
       "    <tr>\n",
       "      <th>Structural Inspection</th>\n",
       "      <td>1</td>\n",
       "      <td>153</td>\n",
       "      <td>50</td>\n",
       "      <td>190</td>\n",
       "      <td>394</td>\n",
       "    </tr>\n",
       "    <tr>\n",
       "      <th>Complaint Reinspection/Followup</th>\n",
       "      <td>19</td>\n",
       "      <td>68</td>\n",
       "      <td>70</td>\n",
       "      <td>70</td>\n",
       "      <td>227</td>\n",
       "    </tr>\n",
       "    <tr>\n",
       "      <th>Foodborne Illness Investigation</th>\n",
       "      <td>1</td>\n",
       "      <td>29</td>\n",
       "      <td>50</td>\n",
       "      <td>35</td>\n",
       "      <td>115</td>\n",
       "    </tr>\n",
       "    <tr>\n",
       "      <th>Routine - Scheduled</th>\n",
       "      <td>0</td>\n",
       "      <td>9</td>\n",
       "      <td>8</td>\n",
       "      <td>29</td>\n",
       "      <td>46</td>\n",
       "    </tr>\n",
       "    <tr>\n",
       "      <th>Administrative or Document Review</th>\n",
       "      <td>2</td>\n",
       "      <td>1</td>\n",
       "      <td>1</td>\n",
       "      <td>0</td>\n",
       "      <td>4</td>\n",
       "    </tr>\n",
       "    <tr>\n",
       "      <th>Multi-agency Investigation</th>\n",
       "      <td>0</td>\n",
       "      <td>0</td>\n",
       "      <td>1</td>\n",
       "      <td>2</td>\n",
       "      <td>3</td>\n",
       "    </tr>\n",
       "    <tr>\n",
       "      <th>Special Event</th>\n",
       "      <td>0</td>\n",
       "      <td>3</td>\n",
       "      <td>0</td>\n",
       "      <td>0</td>\n",
       "      <td>3</td>\n",
       "    </tr>\n",
       "    <tr>\n",
       "      <th>Community Health Assessment</th>\n",
       "      <td>1</td>\n",
       "      <td>0</td>\n",
       "      <td>0</td>\n",
       "      <td>0</td>\n",
       "      <td>1</td>\n",
       "    </tr>\n",
       "  </tbody>\n",
       "</table>\n",
       "</div>"
      ],
      "text/plain": [
       "                                   2016  2017  2018  2019  Total\n",
       "type                                                            \n",
       "Routine - Unscheduled               966  4057  4373  4681  14077\n",
       "Reinspection/Followup               445  1767  1935  2292   6439\n",
       "New Ownership                        99   506   528   459   1592\n",
       "Complaint                            91   418   512   437   1458\n",
       "New Construction                    102   485   218   189    994\n",
       "Non-inspection site visit            51   276   253   231    811\n",
       "New Ownership - Followup              0    45   219   235    499\n",
       "Structural Inspection                 1   153    50   190    394\n",
       "Complaint Reinspection/Followup      19    68    70    70    227\n",
       "Foodborne Illness Investigation       1    29    50    35    115\n",
       "Routine - Scheduled                   0     9     8    29     46\n",
       "Administrative or Document Review     2     1     1     0      4\n",
       "Multi-agency Investigation            0     0     1     2      3\n",
       "Special Event                         0     3     0     0      3\n",
       "Community Health Assessment           1     0     0     0      1"
      ]
     },
     "execution_count": 276,
     "metadata": {},
     "output_type": "execute_result"
    }
   ],
   "source": [
    "ins_pivot = pd.pivot_table(ins, index = ['type'], columns = ['year'], values = ['timestamp'], aggfunc = 'count', fill_value = 0)\n",
    "ins_pivot['Total'] = ins_pivot.sum(axis = 1)\n",
    "ins_pivot_sorted = ins_pivot.sort_values('Total', ascending = False)\n",
    "ins_pivot_sorted.columns = [2016, 2017, 2018, 2019, 'Total']\n",
    "ins_pivot_sorted"
   ]
  },
  {
   "cell_type": "code",
   "execution_count": 277,
   "metadata": {
    "deletable": false,
    "editable": false
   },
   "outputs": [
    {
     "data": {
      "text/html": [
       "\n",
       "    \n",
       "    \n",
       "        <p>All tests passed!</p>\n",
       "    \n",
       "    "
      ],
      "text/plain": [
       "\n",
       "    All tests passed!\n",
       "    "
      ]
     },
     "execution_count": 277,
     "metadata": {},
     "output_type": "execute_result"
    }
   ],
   "source": [
    "grader.check(\"q4di\")"
   ]
  },
  {
   "cell_type": "markdown",
   "metadata": {
    "deletable": false,
    "editable": false
   },
   "source": [
    "**Part 2**\n",
    "\n",
    "Based on the above analysis, which year appears to have had a lot of businesses in newly constructed buildings?\n",
    "<!--\n",
    "BEGIN QUESTION\n",
    "name: q4dii\n",
    "points: 2\n",
    "-->"
   ]
  },
  {
   "cell_type": "code",
   "execution_count": 278,
   "metadata": {},
   "outputs": [],
   "source": [
    "year_of_new_construction = 2017"
   ]
  },
  {
   "cell_type": "code",
   "execution_count": 279,
   "metadata": {
    "deletable": false,
    "editable": false
   },
   "outputs": [
    {
     "data": {
      "text/html": [
       "\n",
       "    \n",
       "    \n",
       "        <p>All tests passed!</p>\n",
       "    \n",
       "    "
      ],
      "text/plain": [
       "\n",
       "    All tests passed!\n",
       "    "
      ]
     },
     "execution_count": 279,
     "metadata": {},
     "output_type": "execute_result"
    }
   ],
   "source": [
    "grader.check(\"q4dii\")"
   ]
  },
  {
   "cell_type": "markdown",
   "metadata": {},
   "source": [
    "<br/><br/><br/>\n",
    "\n",
    "---\n",
    "\n",
    "## Question 4e\n",
    "\n",
    "Let's examine the inspection scores `ins['score']`\n",
    "\n"
   ]
  },
  {
   "cell_type": "code",
   "execution_count": 280,
   "metadata": {},
   "outputs": [
    {
     "data": {
      "text/plain": [
       "-1      12632\n",
       " 100     1993\n",
       " 96      1681\n",
       " 92      1260\n",
       " 94      1250\n",
       "Name: score, dtype: int64"
      ]
     },
     "execution_count": 280,
     "metadata": {},
     "output_type": "execute_result"
    }
   ],
   "source": [
    "ins['score'].value_counts().head()"
   ]
  },
  {
   "cell_type": "markdown",
   "metadata": {},
   "source": [
    "There are a large number of inspections with the `'score'` of `-1`.   These are probably missing values.  Let's see what type of inspections have scores and which do not. Create the following dataframe using steps similar to the previous question, and assign it to to the variable `ins_missing_score_pivot`.\n",
    "\n",
    "You should observe that inspection scores appear only to be assigned to `Routine - Unscheduled` inspections.\n",
    "\n",
    "\n",
    "<table border=\"1\" class=\"dataframe\">  <thead>    <tr style=\"text-align: right;\">      <th>Missing Score</th>      <th>False</th>      <th>True</th>      <th>Total</th>    </tr>    <tr>      <th>type</th>      <th></th>      <th></th>      <th></th>    </tr>  </thead>  <tbody>    <tr>      <th>Routine - Unscheduled</th>      <td>14031</td>      <td>46</td>      <td>14077</td>    </tr>    <tr>      <th>Reinspection/Followup</th>      <td>0</td>      <td>6439</td>      <td>6439</td>    </tr>    <tr>      <th>New Ownership</th>      <td>0</td>      <td>1592</td>      <td>1592</td>    </tr>    <tr>      <th>Complaint</th>      <td>0</td>      <td>1458</td>      <td>1458</td>    </tr>    <tr>      <th>New Construction</th>      <td>0</td>      <td>994</td>      <td>994</td>    </tr>    <tr>      <th>Non-inspection site visit</th>      <td>0</td>      <td>811</td>      <td>811</td>    </tr>    <tr>      <th>New Ownership - Followup</th>      <td>0</td>      <td>499</td>      <td>499</td>    </tr>    <tr>      <th>Structural Inspection</th>      <td>0</td>      <td>394</td>      <td>394</td>    </tr>    <tr>      <th>Complaint Reinspection/Followup</th>      <td>0</td>      <td>227</td>      <td>227</td>    </tr>    <tr>      <th>Foodborne Illness Investigation</th>      <td>0</td>      <td>115</td>      <td>115</td>    </tr>    <tr>      <th>Routine - Scheduled</th>      <td>0</td>      <td>46</td>      <td>46</td>    </tr>    <tr>      <th>Administrative or Document Review</th>      <td>0</td>      <td>4</td>      <td>4</td>    </tr>    <tr>      <th>Multi-agency Investigation</th>      <td>0</td>      <td>3</td>      <td>3</td>    </tr>    <tr>      <th>Special Event</th>      <td>0</td>      <td>3</td>      <td>3</td>    </tr>    <tr>      <th>Community Health Assessment</th>      <td>0</td>      <td>1</td>      <td>1</td>    </tr>  </tbody></table>\n",
    "\n"
   ]
  },
  {
   "cell_type": "code",
   "execution_count": 281,
   "metadata": {},
   "outputs": [
    {
     "data": {
      "text/html": [
       "<div>\n",
       "<style scoped>\n",
       "    .dataframe tbody tr th:only-of-type {\n",
       "        vertical-align: middle;\n",
       "    }\n",
       "\n",
       "    .dataframe tbody tr th {\n",
       "        vertical-align: top;\n",
       "    }\n",
       "\n",
       "    .dataframe thead th {\n",
       "        text-align: right;\n",
       "    }\n",
       "</style>\n",
       "<table border=\"1\" class=\"dataframe\">\n",
       "  <thead>\n",
       "    <tr style=\"text-align: right;\">\n",
       "      <th></th>\n",
       "      <th>False</th>\n",
       "      <th>True</th>\n",
       "      <th>Total</th>\n",
       "    </tr>\n",
       "    <tr>\n",
       "      <th>type</th>\n",
       "      <th></th>\n",
       "      <th></th>\n",
       "      <th></th>\n",
       "    </tr>\n",
       "  </thead>\n",
       "  <tbody>\n",
       "    <tr>\n",
       "      <th>Routine - Unscheduled</th>\n",
       "      <td>14031</td>\n",
       "      <td>46</td>\n",
       "      <td>28154</td>\n",
       "    </tr>\n",
       "    <tr>\n",
       "      <th>Reinspection/Followup</th>\n",
       "      <td>0</td>\n",
       "      <td>6439</td>\n",
       "      <td>12878</td>\n",
       "    </tr>\n",
       "    <tr>\n",
       "      <th>New Ownership</th>\n",
       "      <td>0</td>\n",
       "      <td>1592</td>\n",
       "      <td>3184</td>\n",
       "    </tr>\n",
       "    <tr>\n",
       "      <th>Complaint</th>\n",
       "      <td>0</td>\n",
       "      <td>1458</td>\n",
       "      <td>2916</td>\n",
       "    </tr>\n",
       "    <tr>\n",
       "      <th>New Construction</th>\n",
       "      <td>0</td>\n",
       "      <td>994</td>\n",
       "      <td>1988</td>\n",
       "    </tr>\n",
       "    <tr>\n",
       "      <th>Non-inspection site visit</th>\n",
       "      <td>0</td>\n",
       "      <td>811</td>\n",
       "      <td>1622</td>\n",
       "    </tr>\n",
       "    <tr>\n",
       "      <th>New Ownership - Followup</th>\n",
       "      <td>0</td>\n",
       "      <td>499</td>\n",
       "      <td>998</td>\n",
       "    </tr>\n",
       "    <tr>\n",
       "      <th>Structural Inspection</th>\n",
       "      <td>0</td>\n",
       "      <td>394</td>\n",
       "      <td>788</td>\n",
       "    </tr>\n",
       "    <tr>\n",
       "      <th>Complaint Reinspection/Followup</th>\n",
       "      <td>0</td>\n",
       "      <td>227</td>\n",
       "      <td>454</td>\n",
       "    </tr>\n",
       "    <tr>\n",
       "      <th>Foodborne Illness Investigation</th>\n",
       "      <td>0</td>\n",
       "      <td>115</td>\n",
       "      <td>230</td>\n",
       "    </tr>\n",
       "    <tr>\n",
       "      <th>Routine - Scheduled</th>\n",
       "      <td>0</td>\n",
       "      <td>46</td>\n",
       "      <td>92</td>\n",
       "    </tr>\n",
       "    <tr>\n",
       "      <th>Administrative or Document Review</th>\n",
       "      <td>0</td>\n",
       "      <td>4</td>\n",
       "      <td>8</td>\n",
       "    </tr>\n",
       "    <tr>\n",
       "      <th>Multi-agency Investigation</th>\n",
       "      <td>0</td>\n",
       "      <td>3</td>\n",
       "      <td>6</td>\n",
       "    </tr>\n",
       "    <tr>\n",
       "      <th>Special Event</th>\n",
       "      <td>0</td>\n",
       "      <td>3</td>\n",
       "      <td>6</td>\n",
       "    </tr>\n",
       "    <tr>\n",
       "      <th>Community Health Assessment</th>\n",
       "      <td>0</td>\n",
       "      <td>1</td>\n",
       "      <td>2</td>\n",
       "    </tr>\n",
       "  </tbody>\n",
       "</table>\n",
       "</div>"
      ],
      "text/plain": [
       "                                   False  True  Total\n",
       "type                                                 \n",
       "Routine - Unscheduled              14031    46  28154\n",
       "Reinspection/Followup                  0  6439  12878\n",
       "New Ownership                          0  1592   3184\n",
       "Complaint                              0  1458   2916\n",
       "New Construction                       0   994   1988\n",
       "Non-inspection site visit              0   811   1622\n",
       "New Ownership - Followup               0   499    998\n",
       "Structural Inspection                  0   394    788\n",
       "Complaint Reinspection/Followup        0   227    454\n",
       "Foodborne Illness Investigation        0   115    230\n",
       "Routine - Scheduled                    0    46     92\n",
       "Administrative or Document Review      0     4      8\n",
       "Multi-agency Investigation             0     3      6\n",
       "Special Event                          0     3      6\n",
       "Community Health Assessment            0     1      2"
      ]
     },
     "execution_count": 281,
     "metadata": {},
     "output_type": "execute_result"
    }
   ],
   "source": [
    "ins['Missing Score'] = ins['score'] == -1\n",
    "ins_missing_score_pivot = pd.pivot_table(ins, index = ['type'], columns = ['Missing Score'], values = ['timestamp'], aggfunc = 'count', fill_value = 0)\n",
    "ins_missing_score_pivot['Total'] = ins_pivot.sum(axis = 1)\n",
    "ins_missing_score_pivot.columns = ['False', 'True', 'Total']\n",
    "ins_missing_score_pivot = ins_missing_score_pivot.sort_values('Total', ascending = False)\n",
    "ins_missing_score_pivot"
   ]
  },
  {
   "cell_type": "code",
   "execution_count": 282,
   "metadata": {
    "deletable": false,
    "editable": false
   },
   "outputs": [
    {
     "data": {
      "text/html": [
       "\n",
       "    \n",
       "    \n",
       "        <p>All tests passed!</p>\n",
       "    \n",
       "    "
      ],
      "text/plain": [
       "\n",
       "    All tests passed!\n",
       "    "
      ]
     },
     "execution_count": 282,
     "metadata": {},
     "output_type": "execute_result"
    }
   ],
   "source": [
    "grader.check(\"q4e\")"
   ]
  },
  {
   "cell_type": "markdown",
   "metadata": {},
   "source": [
    "Notice that inspection scores appear only to be assigned to `Routine - Unscheduled` inspections. It is reasonable that for inspection types such as `New Ownership` and `Complaint` to have no associated inspection scores, but we might be curious why there are no inspection scores for the `Reinspection/Followup` inspection type."
   ]
  },
  {
   "cell_type": "markdown",
   "metadata": {
    "nbgrader": {
     "grade": false,
     "grade_id": "business-data",
     "locked": true,
     "schema_version": 2,
     "solution": false
    }
   },
   "source": [
    "<br/><br/><br/>\n",
    "\n",
    "---\n",
    "\n",
    "<br/><br/><br/>\n",
    "\n",
    "# 5: Joining Data Across Tables\n",
    "\n",
    "In this question we will start to connect data across mulitple tables.  We will be using the `merge` function. "
   ]
  },
  {
   "cell_type": "markdown",
   "metadata": {},
   "source": [
    "<br/><br/><br/>\n",
    "\n",
    "--- \n",
    "\n",
    "## Question 5a\n",
    "\n",
    "Let's figure out which restaurants had the lowest scores. Before we proceed, let's filter out missing scores from `ins` so that negative scores don't influence our results."
   ]
  },
  {
   "cell_type": "code",
   "execution_count": 283,
   "metadata": {},
   "outputs": [],
   "source": [
    "ins = ins[ins[\"score\"] > 0]"
   ]
  },
  {
   "cell_type": "markdown",
   "metadata": {
    "deletable": false,
    "editable": false
   },
   "source": [
    "We'll start by creating a new dataframe called `ins_named`. It should be exactly the same as `ins`, except that it should have the name and address of every business, as determined by the `bus` dataframe. If a `business_id` in `ins` does not exist in `bus`, the name and address should be given as `NaN`. \n",
    "\n",
    "*Hint*: Use the merge method to join the `ins` dataframe with the appropriate portion of the `bus` dataframe. See the official [documentation](https://pandas.pydata.org/pandas-docs/stable/user_guide/merging.html) on how to use `merge`.\n",
    "\n",
    "*Note*: For quick reference, a pandas 'left' join keeps the keys from the left frame, so if `ins` is the left frame, all the keys from `ins` are kept and if a set of these keys don't have matches in the other frame, the columns from the other frame for these \"unmatched\" key rows contains NaNs.\n",
    "\n",
    "<!--\n",
    "BEGIN QUESTION\n",
    "name: q5a\n",
    "points: 2\n",
    "-->"
   ]
  },
  {
   "cell_type": "code",
   "execution_count": 284,
   "metadata": {},
   "outputs": [
    {
     "data": {
      "text/html": [
       "<div>\n",
       "<style scoped>\n",
       "    .dataframe tbody tr th:only-of-type {\n",
       "        vertical-align: middle;\n",
       "    }\n",
       "\n",
       "    .dataframe tbody tr th {\n",
       "        vertical-align: top;\n",
       "    }\n",
       "\n",
       "    .dataframe thead th {\n",
       "        text-align: right;\n",
       "    }\n",
       "</style>\n",
       "<table border=\"1\" class=\"dataframe\">\n",
       "  <thead>\n",
       "    <tr style=\"text-align: right;\">\n",
       "      <th></th>\n",
       "      <th>iid</th>\n",
       "      <th>date</th>\n",
       "      <th>score</th>\n",
       "      <th>type</th>\n",
       "      <th>bid</th>\n",
       "      <th>timestamp</th>\n",
       "      <th>year</th>\n",
       "      <th>Missing Score</th>\n",
       "      <th>name</th>\n",
       "      <th>address</th>\n",
       "      <th>city</th>\n",
       "      <th>state</th>\n",
       "      <th>postal_code</th>\n",
       "      <th>latitude</th>\n",
       "      <th>longitude</th>\n",
       "      <th>phone_number</th>\n",
       "      <th>postal5</th>\n",
       "    </tr>\n",
       "  </thead>\n",
       "  <tbody>\n",
       "    <tr>\n",
       "      <th>0</th>\n",
       "      <td>100010_20190403</td>\n",
       "      <td>04/03/2019 12:00:00 AM</td>\n",
       "      <td>100</td>\n",
       "      <td>Routine - Unscheduled</td>\n",
       "      <td>100010</td>\n",
       "      <td>2019-04-03</td>\n",
       "      <td>2019</td>\n",
       "      <td>False</td>\n",
       "      <td>ILLY CAFFE SF_PIER 39</td>\n",
       "      <td>PIER 39  K-106-B</td>\n",
       "      <td>San Francisco</td>\n",
       "      <td>CA</td>\n",
       "      <td>94133</td>\n",
       "      <td>-9999.0</td>\n",
       "      <td>-9999.0</td>\n",
       "      <td>14154827284</td>\n",
       "      <td>94133</td>\n",
       "    </tr>\n",
       "    <tr>\n",
       "      <th>1</th>\n",
       "      <td>100017_20190816</td>\n",
       "      <td>08/16/2019 12:00:00 AM</td>\n",
       "      <td>91</td>\n",
       "      <td>Routine - Unscheduled</td>\n",
       "      <td>100017</td>\n",
       "      <td>2019-08-16</td>\n",
       "      <td>2019</td>\n",
       "      <td>False</td>\n",
       "      <td>AMICI'S EAST COAST PIZZERIA</td>\n",
       "      <td>475 06th St</td>\n",
       "      <td>San Francisco</td>\n",
       "      <td>CA</td>\n",
       "      <td>94103</td>\n",
       "      <td>-9999.0</td>\n",
       "      <td>-9999.0</td>\n",
       "      <td>14155279839</td>\n",
       "      <td>94103</td>\n",
       "    </tr>\n",
       "    <tr>\n",
       "      <th>2</th>\n",
       "      <td>100041_20190520</td>\n",
       "      <td>05/20/2019 12:00:00 AM</td>\n",
       "      <td>83</td>\n",
       "      <td>Routine - Unscheduled</td>\n",
       "      <td>100041</td>\n",
       "      <td>2019-05-20</td>\n",
       "      <td>2019</td>\n",
       "      <td>False</td>\n",
       "      <td>UNCLE LEE CAFE</td>\n",
       "      <td>3608 BALBOA ST</td>\n",
       "      <td>San Francisco</td>\n",
       "      <td>CA</td>\n",
       "      <td>94121</td>\n",
       "      <td>-9999.0</td>\n",
       "      <td>-9999.0</td>\n",
       "      <td>-9999</td>\n",
       "      <td>94121</td>\n",
       "    </tr>\n",
       "    <tr>\n",
       "      <th>3</th>\n",
       "      <td>100055_20190425</td>\n",
       "      <td>04/25/2019 12:00:00 AM</td>\n",
       "      <td>98</td>\n",
       "      <td>Routine - Unscheduled</td>\n",
       "      <td>100055</td>\n",
       "      <td>2019-04-25</td>\n",
       "      <td>2019</td>\n",
       "      <td>False</td>\n",
       "      <td>Twirl and Dip</td>\n",
       "      <td>335 Martin Luther King Jr. Dr</td>\n",
       "      <td>San Francisco</td>\n",
       "      <td>CA</td>\n",
       "      <td>94118</td>\n",
       "      <td>-9999.0</td>\n",
       "      <td>-9999.0</td>\n",
       "      <td>14155300260</td>\n",
       "      <td>94118</td>\n",
       "    </tr>\n",
       "    <tr>\n",
       "      <th>4</th>\n",
       "      <td>100055_20190912</td>\n",
       "      <td>09/12/2019 12:00:00 AM</td>\n",
       "      <td>82</td>\n",
       "      <td>Routine - Unscheduled</td>\n",
       "      <td>100055</td>\n",
       "      <td>2019-09-12</td>\n",
       "      <td>2019</td>\n",
       "      <td>False</td>\n",
       "      <td>Twirl and Dip</td>\n",
       "      <td>335 Martin Luther King Jr. Dr</td>\n",
       "      <td>San Francisco</td>\n",
       "      <td>CA</td>\n",
       "      <td>94118</td>\n",
       "      <td>-9999.0</td>\n",
       "      <td>-9999.0</td>\n",
       "      <td>14155300260</td>\n",
       "      <td>94118</td>\n",
       "    </tr>\n",
       "  </tbody>\n",
       "</table>\n",
       "</div>"
      ],
      "text/plain": [
       "               iid                    date  score                   type  \\\n",
       "0  100010_20190403  04/03/2019 12:00:00 AM    100  Routine - Unscheduled   \n",
       "1  100017_20190816  08/16/2019 12:00:00 AM     91  Routine - Unscheduled   \n",
       "2  100041_20190520  05/20/2019 12:00:00 AM     83  Routine - Unscheduled   \n",
       "3  100055_20190425  04/25/2019 12:00:00 AM     98  Routine - Unscheduled   \n",
       "4  100055_20190912  09/12/2019 12:00:00 AM     82  Routine - Unscheduled   \n",
       "\n",
       "      bid  timestamp  year  Missing Score                         name  \\\n",
       "0  100010 2019-04-03  2019          False        ILLY CAFFE SF_PIER 39   \n",
       "1  100017 2019-08-16  2019          False  AMICI'S EAST COAST PIZZERIA   \n",
       "2  100041 2019-05-20  2019          False               UNCLE LEE CAFE   \n",
       "3  100055 2019-04-25  2019          False                Twirl and Dip   \n",
       "4  100055 2019-09-12  2019          False                Twirl and Dip   \n",
       "\n",
       "                         address           city state postal_code  latitude  \\\n",
       "0               PIER 39  K-106-B  San Francisco    CA       94133   -9999.0   \n",
       "1                    475 06th St  San Francisco    CA       94103   -9999.0   \n",
       "2                 3608 BALBOA ST  San Francisco    CA       94121   -9999.0   \n",
       "3  335 Martin Luther King Jr. Dr  San Francisco    CA       94118   -9999.0   \n",
       "4  335 Martin Luther King Jr. Dr  San Francisco    CA       94118   -9999.0   \n",
       "\n",
       "   longitude  phone_number postal5  \n",
       "0    -9999.0   14154827284   94133  \n",
       "1    -9999.0   14155279839   94103  \n",
       "2    -9999.0         -9999   94121  \n",
       "3    -9999.0   14155300260   94118  \n",
       "4    -9999.0   14155300260   94118  "
      ]
     },
     "execution_count": 284,
     "metadata": {},
     "output_type": "execute_result"
    }
   ],
   "source": [
    "ins_named = pd.merge(ins, bus, on = 'bid', how = 'left')\n",
    "ins_named.head()"
   ]
  },
  {
   "cell_type": "code",
   "execution_count": 285,
   "metadata": {
    "deletable": false,
    "editable": false
   },
   "outputs": [
    {
     "data": {
      "text/html": [
       "\n",
       "    \n",
       "    \n",
       "        <p>All tests passed!</p>\n",
       "    \n",
       "    "
      ],
      "text/plain": [
       "\n",
       "    All tests passed!\n",
       "    "
      ]
     },
     "execution_count": 285,
     "metadata": {},
     "output_type": "execute_result"
    }
   ],
   "source": [
    "grader.check(\"q5a\")"
   ]
  },
  {
   "cell_type": "markdown",
   "metadata": {
    "deletable": false,
    "editable": false
   },
   "source": [
    "<br/><br/><br/>\n",
    "\n",
    "--- \n",
    "\n",
    "## Question 5b\n",
    "\n",
    "Let's look at the 20 businesses with the lowest **median** score.  Order your results by the median score followed by the business id to break ties. The resulting table should look like:\n",
    "\n",
    "\n",
    "*Hint: You may find the `as_index` argument important*\n",
    "\n",
    "<table border=\"1\" class=\"dataframe\">  <thead>    <tr style=\"text-align: right;\">      <th></th>      <th>bid</th>      <th>name</th>      <th>median score</th>    </tr>  </thead>  <tbody>    <tr>      <th>3876</th>      <td>84590</td>      <td>Chaat Corner</td>      <td>54.0</td>    </tr>    <tr>      <th>4564</th>      <td>90622</td>      <td>Taqueria Lolita</td>      <td>57.0</td>    </tr>    <tr>      <th>4990</th>      <td>94351</td>      <td>VBowls LLC</td>      <td>58.0</td>    </tr>    <tr>      <th>2719</th>      <td>69282</td>      <td>New Jumbo Seafood Restaurant</td>      <td>60.5</td>    </tr>    <tr>      <th>222</th>      <td>1154</td>      <td>SUNFLOWER RESTAURANT</td>      <td>63.5</td>    </tr>    <tr>      <th>1991</th>      <td>39776</td>      <td>Duc Loi Supermarket</td>      <td>64.0</td>    </tr>    <tr>      <th>2734</th>      <td>69397</td>      <td>Minna SF Group LLC</td>      <td>64.0</td>    </tr>    <tr>      <th>3291</th>      <td>78328</td>      <td>Golden Wok</td>      <td>64.0</td>    </tr>    <tr>      <th>4870</th>      <td>93150</td>      <td>Chez Beesen</td>      <td>64.0</td>    </tr>    <tr>      <th>4911</th>      <td>93502</td>      <td>Smoky Man</td>      <td>64.0</td>    </tr>    <tr>      <th>5510</th>      <td>98995</td>      <td>Vallarta's Taco Bar</td>      <td>64.0</td>    </tr>    <tr>      <th>1457</th>      <td>10877</td>      <td>CHINA FIRST INC.</td>      <td>64.5</td>    </tr>    <tr>      <th>2890</th>      <td>71310</td>      <td>Golden King Vietnamese Restaurant</td>      <td>64.5</td>    </tr>    <tr>      <th>4352</th>      <td>89070</td>      <td>Lafayette Coffee Shop</td>      <td>64.5</td>    </tr>    <tr>      <th>505</th>      <td>2542</td>      <td>PETER D'S RESTAURANT</td>      <td>65.0</td>    </tr>    <tr>      <th>2874</th>      <td>71008</td>      <td>House of Pancakes</td>      <td>65.0</td>    </tr>    <tr>      <th>818</th>      <td>3862</td>      <td>IMPERIAL GARDEN SEAFOOD RESTAURANT</td>      <td>66.0</td>    </tr>    <tr>      <th>2141</th>      <td>61427</td>      <td>Nick's Foods</td>      <td>66.0</td>    </tr>    <tr>      <th>2954</th>      <td>72176</td>      <td>Wolfes Lunch</td>      <td>66.0</td>    </tr>    <tr>      <th>4367</th>      <td>89141</td>      <td>Cha Cha Cha on Mission</td>      <td>66.5</td>    </tr>  </tbody></table>\n",
    "\n",
    "\n",
    "<!--\n",
    "BEGIN QUESTION\n",
    "name: q5b\n",
    "points: 3\n",
    "-->"
   ]
  },
  {
   "cell_type": "code",
   "execution_count": 292,
   "metadata": {},
   "outputs": [
    {
     "data": {
      "text/html": [
       "<div>\n",
       "<style scoped>\n",
       "    .dataframe tbody tr th:only-of-type {\n",
       "        vertical-align: middle;\n",
       "    }\n",
       "\n",
       "    .dataframe tbody tr th {\n",
       "        vertical-align: top;\n",
       "    }\n",
       "\n",
       "    .dataframe thead th {\n",
       "        text-align: right;\n",
       "    }\n",
       "</style>\n",
       "<table border=\"1\" class=\"dataframe\">\n",
       "  <thead>\n",
       "    <tr style=\"text-align: right;\">\n",
       "      <th></th>\n",
       "      <th>bid</th>\n",
       "      <th>name</th>\n",
       "      <th>median score</th>\n",
       "    </tr>\n",
       "  </thead>\n",
       "  <tbody>\n",
       "    <tr>\n",
       "      <th>3876</th>\n",
       "      <td>84590</td>\n",
       "      <td>Chaat Corner</td>\n",
       "      <td>54.0</td>\n",
       "    </tr>\n",
       "    <tr>\n",
       "      <th>4564</th>\n",
       "      <td>90622</td>\n",
       "      <td>Taqueria Lolita</td>\n",
       "      <td>57.0</td>\n",
       "    </tr>\n",
       "    <tr>\n",
       "      <th>4990</th>\n",
       "      <td>94351</td>\n",
       "      <td>VBowls LLC</td>\n",
       "      <td>58.0</td>\n",
       "    </tr>\n",
       "    <tr>\n",
       "      <th>2719</th>\n",
       "      <td>69282</td>\n",
       "      <td>New Jumbo Seafood Restaurant</td>\n",
       "      <td>60.5</td>\n",
       "    </tr>\n",
       "    <tr>\n",
       "      <th>222</th>\n",
       "      <td>1154</td>\n",
       "      <td>SUNFLOWER RESTAURANT</td>\n",
       "      <td>63.5</td>\n",
       "    </tr>\n",
       "    <tr>\n",
       "      <th>1991</th>\n",
       "      <td>39776</td>\n",
       "      <td>Duc Loi Supermarket</td>\n",
       "      <td>64.0</td>\n",
       "    </tr>\n",
       "    <tr>\n",
       "      <th>2734</th>\n",
       "      <td>69397</td>\n",
       "      <td>Minna SF Group LLC</td>\n",
       "      <td>64.0</td>\n",
       "    </tr>\n",
       "    <tr>\n",
       "      <th>3291</th>\n",
       "      <td>78328</td>\n",
       "      <td>Golden Wok</td>\n",
       "      <td>64.0</td>\n",
       "    </tr>\n",
       "    <tr>\n",
       "      <th>4870</th>\n",
       "      <td>93150</td>\n",
       "      <td>Chez Beesen</td>\n",
       "      <td>64.0</td>\n",
       "    </tr>\n",
       "    <tr>\n",
       "      <th>4911</th>\n",
       "      <td>93502</td>\n",
       "      <td>Smoky Man</td>\n",
       "      <td>64.0</td>\n",
       "    </tr>\n",
       "    <tr>\n",
       "      <th>5510</th>\n",
       "      <td>98995</td>\n",
       "      <td>Vallarta's Taco Bar</td>\n",
       "      <td>64.0</td>\n",
       "    </tr>\n",
       "    <tr>\n",
       "      <th>1457</th>\n",
       "      <td>10877</td>\n",
       "      <td>CHINA FIRST INC.</td>\n",
       "      <td>64.5</td>\n",
       "    </tr>\n",
       "    <tr>\n",
       "      <th>2890</th>\n",
       "      <td>71310</td>\n",
       "      <td>Golden King Vietnamese Restaurant</td>\n",
       "      <td>64.5</td>\n",
       "    </tr>\n",
       "    <tr>\n",
       "      <th>4352</th>\n",
       "      <td>89070</td>\n",
       "      <td>Lafayette Coffee Shop</td>\n",
       "      <td>64.5</td>\n",
       "    </tr>\n",
       "    <tr>\n",
       "      <th>505</th>\n",
       "      <td>2542</td>\n",
       "      <td>PETER D'S RESTAURANT</td>\n",
       "      <td>65.0</td>\n",
       "    </tr>\n",
       "    <tr>\n",
       "      <th>2874</th>\n",
       "      <td>71008</td>\n",
       "      <td>House of Pancakes</td>\n",
       "      <td>65.0</td>\n",
       "    </tr>\n",
       "    <tr>\n",
       "      <th>818</th>\n",
       "      <td>3862</td>\n",
       "      <td>IMPERIAL GARDEN SEAFOOD RESTAURANT</td>\n",
       "      <td>66.0</td>\n",
       "    </tr>\n",
       "    <tr>\n",
       "      <th>2141</th>\n",
       "      <td>61427</td>\n",
       "      <td>Nick's Foods</td>\n",
       "      <td>66.0</td>\n",
       "    </tr>\n",
       "    <tr>\n",
       "      <th>2954</th>\n",
       "      <td>72176</td>\n",
       "      <td>Wolfes Lunch</td>\n",
       "      <td>66.0</td>\n",
       "    </tr>\n",
       "    <tr>\n",
       "      <th>4367</th>\n",
       "      <td>89141</td>\n",
       "      <td>Cha Cha Cha on Mission</td>\n",
       "      <td>66.5</td>\n",
       "    </tr>\n",
       "  </tbody>\n",
       "</table>\n",
       "</div>"
      ],
      "text/plain": [
       "        bid                                name  median score\n",
       "3876  84590                        Chaat Corner          54.0\n",
       "4564  90622                     Taqueria Lolita          57.0\n",
       "4990  94351                          VBowls LLC          58.0\n",
       "2719  69282        New Jumbo Seafood Restaurant          60.5\n",
       "222    1154                SUNFLOWER RESTAURANT          63.5\n",
       "1991  39776                 Duc Loi Supermarket          64.0\n",
       "2734  69397                  Minna SF Group LLC          64.0\n",
       "3291  78328                          Golden Wok          64.0\n",
       "4870  93150                         Chez Beesen          64.0\n",
       "4911  93502                           Smoky Man          64.0\n",
       "5510  98995                 Vallarta's Taco Bar          64.0\n",
       "1457  10877                    CHINA FIRST INC.          64.5\n",
       "2890  71310   Golden King Vietnamese Restaurant          64.5\n",
       "4352  89070               Lafayette Coffee Shop          64.5\n",
       "505    2542                PETER D'S RESTAURANT          65.0\n",
       "2874  71008                   House of Pancakes          65.0\n",
       "818    3862  IMPERIAL GARDEN SEAFOOD RESTAURANT          66.0\n",
       "2141  61427                        Nick's Foods          66.0\n",
       "2954  72176                        Wolfes Lunch          66.0\n",
       "4367  89141              Cha Cha Cha on Mission          66.5"
      ]
     },
     "execution_count": 292,
     "metadata": {},
     "output_type": "execute_result"
    }
   ],
   "source": [
    "t = ins_named.groupby('bid', as_index = False).agg({'name':'first', 'score': 'median'})\n",
    "twenty_lowest_scoring = t.sort_values(['score', 'bid'])\n",
    "twenty_lowest_scoring = twenty_lowest_scoring.rename(columns = {'score': 'median score'})\n",
    "twenty_lowest_scoring = twenty_lowest_scoring.head(20)\n",
    "twenty_lowest_scoring"
   ]
  },
  {
   "cell_type": "code",
   "execution_count": 293,
   "metadata": {
    "deletable": false,
    "editable": false
   },
   "outputs": [
    {
     "data": {
      "text/html": [
       "\n",
       "    \n",
       "    \n",
       "        <p>All tests passed!</p>\n",
       "    \n",
       "    "
      ],
      "text/plain": [
       "\n",
       "    All tests passed!\n",
       "    "
      ]
     },
     "execution_count": 293,
     "metadata": {},
     "output_type": "execute_result"
    }
   ],
   "source": [
    "grader.check(\"q5b\")"
   ]
  },
  {
   "cell_type": "markdown",
   "metadata": {
    "deletable": false,
    "editable": false
   },
   "source": [
    "<br/><br/><br/>\n",
    "\n",
    "--- \n",
    "\n",
    "## Question 5c\n",
    "\n",
    "Let's now examine the descriptions of violations for inspections with `score > 0` and `score < 65`.  Construct a **Series** indexed by the `description` of the violation from the `vio` table with the value being the number of times that violation occured for inspections with the above score range.  Sort the results in descending order of the count.\n",
    "\n",
    "The first few entries should look like:\n",
    "\n",
    "```\n",
    "Unclean or unsanitary food contact surfaces                                  43\n",
    "High risk food holding temperature                                           42\n",
    "Unclean or degraded floors walls or ceilings                                 40\n",
    "Unapproved or unmaintained equipment or utensils                             39\n",
    "```\n",
    "You will need to use `merge` twice.\n",
    "\n",
    "<!--\n",
    "BEGIN QUESTION\n",
    "name: q5c\n",
    "points: 2\n",
    "-->"
   ]
  },
  {
   "cell_type": "code",
   "execution_count": 294,
   "metadata": {},
   "outputs": [
    {
     "data": {
      "text/plain": [
       "description\n",
       "Unclean or unsanitary food contact surfaces                                  43\n",
       "High risk food holding temperature                                           42\n",
       "Unclean or degraded floors walls or ceilings                                 40\n",
       "Unapproved or unmaintained equipment or utensils                             39\n",
       "Foods not protected from contamination                                       37\n",
       "High risk vermin infestation                                                 37\n",
       "Inadequate food safety knowledge or lack of certified food safety manager    35\n",
       "Inadequate and inaccessible handwashing facilities                           35\n",
       "Improper thawing methods                                                     30\n",
       "Unclean hands or improper use of gloves                                      27\n",
       "Improper cooling methods                                                     25\n",
       "Unclean nonfood contact surfaces                                             21\n",
       "Improper food storage                                                        20\n",
       "Inadequately cleaned or sanitized food contact surfaces                      20\n",
       "Contaminated or adulterated food                                             18\n",
       "Moderate risk vermin infestation                                             15\n",
       "Permit license or inspection report not posted                               13\n",
       "Moderate risk food holding temperature                                       13\n",
       "Food safety certificate or food handler card not available                   12\n",
       "Improper storage use or identification of toxic substances                   10\n",
       "Wiping cloths not clean or properly stored or inadequate sanitizer            9\n",
       "No thermometers or uncalibrated thermometers                                  8\n",
       "Employee eating or smoking                                                    7\n",
       "Insufficient hot water or running water                                       6\n",
       "Improper or defective plumbing                                                6\n",
       "Improper storage of equipment utensils or linens                              6\n",
       "Inadequate dressing rooms or improper storage of personal items               5\n",
       "No hot water or running water                                                 5\n",
       "Improper reheating of food                                                    4\n",
       "Inadequate sewage or wastewater disposal                                      4\n",
       "Low risk vermin infestation                                                   4\n",
       "Inadequate or unsanitary refuse containers or area or no garbage service      3\n",
       "Food in poor condition                                                        3\n",
       "Inadequate ventilation or lighting                                            3\n",
       "Inadequate warewashing facilities or equipment                                2\n",
       "Inadequate procedures or records for time as a public health control          2\n",
       "Unapproved  living quarters in food facility                                  2\n",
       "Other high risk violation                                                     2\n",
       "Noncompliance with Gulf Coast oyster regulation                               2\n",
       "Other moderate risk violation                                                 1\n",
       "Improperly displayed mobile food permit or signage                            1\n",
       "Reservice of previously served foods                                          1\n",
       "No person in charge of food facility                                          1\n",
       "Unauthorized or unsafe use of time as a public health control measure         1\n",
       "Mobile food facility with unapproved operating conditions                     1\n",
       "Improper food labeling or menu misrepresentation                              1\n",
       "No restroom facility within 200 feet of mobile food facility                  1\n",
       "Unclean unmaintained or improperly constructed toilet facilities              1\n",
       "Unsanitary employee garments hair or nails                                    1\n",
       "Noncompliance with shell fish tags or display                                 1\n",
       "dtype: int64"
      ]
     },
     "execution_count": 294,
     "metadata": {},
     "output_type": "execute_result"
    }
   ],
   "source": [
    "g = ins[(ins['score'] > 0) & (ins['score'] < 65)] #filtering the score\n",
    "s = pd.merge(vio, ins2vio, on = 'vid') #description\n",
    "low_score_violations = pd.merge(g,s, on = 'iid') #iid \n",
    "low_score_violations = low_score_violations.groupby('description', as_index = False).agg({'description':'first', 'score': 'count'})\n",
    "low_score_violations = low_score_violations.sort_values(by = 'score', ascending = False)\n",
    "\n",
    "low_score_violations = pd.Series(low_score_violations['score'].values, index = low_score_violations['description'])\n",
    "low_score_violations"
   ]
  },
  {
   "cell_type": "code",
   "execution_count": 295,
   "metadata": {
    "deletable": false,
    "editable": false
   },
   "outputs": [
    {
     "data": {
      "text/html": [
       "\n",
       "    \n",
       "    \n",
       "        <p>All tests passed!</p>\n",
       "    \n",
       "    "
      ],
      "text/plain": [
       "\n",
       "    All tests passed!\n",
       "    "
      ]
     },
     "execution_count": 295,
     "metadata": {},
     "output_type": "execute_result"
    }
   ],
   "source": [
    "grader.check(\"q5c\")"
   ]
  },
  {
   "cell_type": "markdown",
   "metadata": {},
   "source": [
    "### Question 5d\n",
    "Let's figure out which restaurant had the worst scores ever (single lowest score). "
   ]
  },
  {
   "cell_type": "code",
   "execution_count": 296,
   "metadata": {},
   "outputs": [
    {
     "data": {
      "text/plain": [
       "10898    Lollipot\n",
       "Name: name, dtype: object"
      ]
     },
     "execution_count": 296,
     "metadata": {},
     "output_type": "execute_result"
    }
   ],
   "source": [
    "worst_restaurant = ins_named[ins_named['score'] == min(ins_named['score'])]['name']\n",
    "worst_restaurant"
   ]
  },
  {
   "cell_type": "markdown",
   "metadata": {
    "deletable": false,
    "editable": false
   },
   "source": [
    "<!-- BEGIN QUESTION -->\n",
    "\n",
    "**In the cell below, write the name of the restaurant** with the lowest inspection scores ever. You can also head to yelp.com and look up the reviews page for this restaurant. Feel free to add anything interesting you want to share.\n",
    "\n",
    "<!--\n",
    "BEGIN QUESTION\n",
    "name: q5d\n",
    "points: 2\n",
    "manual: True\n",
    "-->"
   ]
  },
  {
   "cell_type": "markdown",
   "metadata": {},
   "source": [
    "Lollipot"
   ]
  },
  {
   "cell_type": "markdown",
   "metadata": {},
   "source": [
    "<!-- END QUESTION -->\n",
    "\n",
    "\n",
    "\n",
    "<br/><br/><br/><br/>\n",
    "\n",
    "---\n",
    "\n",
    "<br/><br/>\n",
    "\n",
    "## 6: Explore Inspection Scores\n",
    "\n",
    "In this part we explore some of the basic inspection score values visually."
   ]
  },
  {
   "cell_type": "markdown",
   "metadata": {
    "collapsed": true,
    "deletable": false,
    "editable": false,
    "jupyter": {
     "outputs_hidden": true
    }
   },
   "source": [
    "<!-- BEGIN QUESTION -->\n",
    "\n",
    "<br/><br/><br/>\n",
    "\n",
    "---\n",
    "\n",
    "\n",
    "## Question 6a\n",
    "Let's look at the distribution of inspection scores. As we saw before when we called head on this data frame, inspection scores appear to be integer values. The discreteness of this variable means that we can use a barplot to visualize the distribution of the inspection score. Make a bar plot of the counts of the number of inspections receiving each score.\n",
    "\n",
    "It should look like the image below. It does not need to look exactly the same (e.g., no grid), but make sure that all labels and axes are correct.\n",
    "\n",
    "![](pics/6a.png)\n",
    "\n",
    "You might find this [matplotlib.pyplot tutorial](https://matplotlib.org/tutorials/introductory/pyplot.html) useful. Key syntax that you'll need:\n",
    "\n",
    "```\n",
    "plt.bar\n",
    "plt.xlabel\n",
    "plt.ylabel\n",
    "plt.title\n",
    "```\n",
    "\n",
    "*Note*: If you want to use another plotting library for your plots (e.g. plotly, sns) you are welcome to use that library instead so long as it works on DataHub. If you use seaborn sns.countplot(), you may need to manually set what to display on xticks.\n",
    "\n",
    "\n",
    "<!--\n",
    "BEGIN QUESTION\n",
    "name: q6a\n",
    "points: 1\n",
    "manual: True\n",
    "-->"
   ]
  },
  {
   "cell_type": "code",
   "execution_count": 297,
   "metadata": {
    "scrolled": false
   },
   "outputs": [
    {
     "data": {
      "image/png": "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\n",
      "text/plain": [
       "<Figure size 432x288 with 1 Axes>"
      ]
     },
     "metadata": {},
     "output_type": "display_data"
    }
   ],
   "source": [
    "score_counts = ins['score'].value_counts()\n",
    "plt.bar(score_counts.index, score_counts)\n",
    "plt.xlabel('Score')\n",
    "plt.ylabel('Count')\n",
    "plt.title('Distribution of Inspection Scores')\n",
    "plt.show()"
   ]
  },
  {
   "cell_type": "markdown",
   "metadata": {
    "deletable": false,
    "editable": false
   },
   "source": [
    "<!-- END QUESTION -->"
   ]
  },
  {
   "cell_type": "code",
   "execution_count": 298,
   "metadata": {},
   "outputs": [
    {
     "data": {
      "text/plain": [
       "100    1993\n",
       "96     1681\n",
       "92     1260\n",
       "94     1250\n",
       "90     1085\n",
       "98     1080\n",
       "88      659\n",
       "86      516\n",
       "87      513\n",
       "85      453\n",
       "89      395\n",
       "83      367\n",
       "81      286\n",
       "93      277\n",
       "84      276\n",
       "91      268\n",
       "82      240\n",
       "80      197\n",
       "79      178\n",
       "78      149\n",
       "77      128\n",
       "75      120\n",
       "76      111\n",
       "74      101\n",
       "72       77\n",
       "73       69\n",
       "71       63\n",
       "70       48\n",
       "68       29\n",
       "69       28\n",
       "65       25\n",
       "67       24\n",
       "66       16\n",
       "64       15\n",
       "63       11\n",
       "62       10\n",
       "60        7\n",
       "59        5\n",
       "61        5\n",
       "58        4\n",
       "57        4\n",
       "55        3\n",
       "51        1\n",
       "45        1\n",
       "46        1\n",
       "54        1\n",
       "48        1\n",
       "Name: score, dtype: int64"
      ]
     },
     "execution_count": 298,
     "metadata": {},
     "output_type": "execute_result"
    }
   ],
   "source": [
    "score_counts"
   ]
  },
  {
   "cell_type": "markdown",
   "metadata": {
    "deletable": false,
    "editable": false
   },
   "source": [
    "<!-- BEGIN QUESTION -->\n",
    "\n",
    "<br/><br/><br/>\n",
    "\n",
    "---\n",
    "\n",
    "### Question 6b\n",
    "Describe the qualities of the distribution of the inspections scores based on your bar plot. Consider the mode(s), symmetry, tails, gaps, and anomalous values. Are there any unusual features of this distribution? What do your observations imply about the scores?\n",
    "\n",
    "<!--\n",
    "BEGIN QUESTION\n",
    "name: q6b\n",
    "points: 2\n",
    "manual: True\n",
    "-->"
   ]
  },
  {
   "cell_type": "markdown",
   "metadata": {},
   "source": [
    "The distribution of the inspections scores is skewed left. The distribution is more sparse on the left side of the graph and is largely populated from 80 to 95. The center of the distribution is near 90. There are three gaps between 95 and 100. The variability of the score is large because of its large range from 0 to 100. When the score is 100, the distribution shows a mode."
   ]
  },
  {
   "cell_type": "markdown",
   "metadata": {},
   "source": [
    "<!-- END QUESTION -->\n",
    "\n",
    "\n",
    "\n",
    "<br/><br/><br/><br/>\n",
    "\n",
    "---\n",
    "\n",
    "<br/><br/>\n",
    "\n",
    "## 7: Restaurant Ratings Over Time\n",
    "\n",
    "Let's consider various scenarios involving restaurants with multiple ratings over time.\n",
    "\n"
   ]
  },
  {
   "cell_type": "markdown",
   "metadata": {},
   "source": [
    "<br/><br/><br/>\n",
    "\n",
    "---\n",
    "\n",
    "### Question 7a\n",
    "\n",
    "Let's see which restaurant has had the most extreme improvement in its rating, aka scores. Let the \"swing\" of a restaurant be defined as the difference between its highest-ever and lowest-ever rating. **Only consider restaurants with at least 3 ratings, aka rated for at least 3 times (3 scores)!** Using whatever technique you want to use, assign `max_swing` to the name of restaurant that has the maximum swing.\n",
    "\n",
    "*Note*: The \"swing\" is of a specific business. There might be some restaurants with multiple locations; each location has its own \"swing\"."
   ]
  },
  {
   "cell_type": "markdown",
   "metadata": {
    "deletable": false,
    "editable": false
   },
   "source": [
    "The city would like to know if the state of food safety has been getting better, worse, or about average. This is a pretty vague and broad question, which you should expect as part of your future job as a data scientist! However for the ease of grading for this assignment, we are going to guide you through it and offer some specific directions to consider.\n",
    "\n",
    "<!--\n",
    "BEGIN QUESTION\n",
    "name: q7a\n",
    "points: 2\n",
    "-->"
   ]
  },
  {
   "cell_type": "code",
   "execution_count": 307,
   "metadata": {},
   "outputs": [
    {
     "data": {
      "text/plain": [
       "'Lollipot'"
      ]
     },
     "execution_count": 307,
     "metadata": {},
     "output_type": "execute_result"
    }
   ],
   "source": [
    "grouped_by_name = ins_named.groupby(['name']).count().sort_values(['score'], ascending = False)\n",
    "grouped_by_name = grouped_by_name[grouped_by_name['score'] >= 3].reset_index()\n",
    "\n",
    "new_merg = grouped_by_name.merge(ins_named, how='inner', on = 'name').reset_index().drop(['index'], axis = 1)\n",
    "new_merg = new_merg.iloc[:, 0:20]\n",
    "\n",
    "score_max = new_merg.groupby(['name']).agg(max).iloc[:, new_merg.shape[1] - 2: new_merg.shape[1]].sort_values(['name'])\n",
    "score_min = new_merg.groupby(['name']).agg(min).iloc[:, new_merg.shape[1] - 2: new_merg.shape[1]].sort_values(['name'])\n",
    "\n",
    "sorted_group = score_min.sort_values(['score_y']).reset_index()\n",
    "max_swing = sorted_group['name'].iloc[0]\n",
    "max_swing"
   ]
  },
  {
   "cell_type": "code",
   "execution_count": 308,
   "metadata": {
    "deletable": false,
    "editable": false
   },
   "outputs": [
    {
     "data": {
      "text/html": [
       "\n",
       "    \n",
       "    \n",
       "        <p>All tests passed!</p>\n",
       "    \n",
       "    "
      ],
      "text/plain": [
       "\n",
       "    All tests passed!\n",
       "    "
      ]
     },
     "execution_count": 308,
     "metadata": {},
     "output_type": "execute_result"
    }
   ],
   "source": [
    "grader.check(\"q7a\")"
   ]
  },
  {
   "cell_type": "markdown",
   "metadata": {
    "deletable": false,
    "editable": false
   },
   "source": [
    "<br/><br/><br/>\n",
    "\n",
    "---\n",
    "\n",
    "### Question 7b\n",
    "\n",
    "To get a sense of the number of times each restaurant has been inspected, create a multi-indexed dataframe called `inspections_by_id_and_year` where each row corresponds to data about a given business in a single year, and there is a single data column named count that represents the number of inspections for that business in that year. The first index in the MultiIndex should be on `bid`, and the second should be on year.\n",
    "\n",
    "For example, a sample row in this dataframe will tell you that for `bid` 573, in `year` 2017, the total number of inspections was 4.\n",
    "\n",
    "Hint: Use `groupby` to group based on both the `bid` and the `year`.\n",
    "\n",
    "Hint: Use `rename` to change the name of the column to count.\n",
    "\n",
    "<!--\n",
    "BEGIN QUESTION\n",
    "name: q7b\n",
    "points: 1\n",
    "-->"
   ]
  },
  {
   "cell_type": "code",
   "execution_count": 309,
   "metadata": {},
   "outputs": [
    {
     "data": {
      "text/html": [
       "<div>\n",
       "<style scoped>\n",
       "    .dataframe tbody tr th:only-of-type {\n",
       "        vertical-align: middle;\n",
       "    }\n",
       "\n",
       "    .dataframe tbody tr th {\n",
       "        vertical-align: top;\n",
       "    }\n",
       "\n",
       "    .dataframe thead th {\n",
       "        text-align: right;\n",
       "    }\n",
       "</style>\n",
       "<table border=\"1\" class=\"dataframe\">\n",
       "  <thead>\n",
       "    <tr style=\"text-align: right;\">\n",
       "      <th></th>\n",
       "      <th></th>\n",
       "      <th>count</th>\n",
       "    </tr>\n",
       "    <tr>\n",
       "      <th>bid</th>\n",
       "      <th>year</th>\n",
       "      <th></th>\n",
       "    </tr>\n",
       "  </thead>\n",
       "  <tbody>\n",
       "    <tr>\n",
       "      <th rowspan=\"2\" valign=\"top\">19</th>\n",
       "      <th>2017</th>\n",
       "      <td>1</td>\n",
       "    </tr>\n",
       "    <tr>\n",
       "      <th>2018</th>\n",
       "      <td>1</td>\n",
       "    </tr>\n",
       "    <tr>\n",
       "      <th rowspan=\"3\" valign=\"top\">24</th>\n",
       "      <th>2016</th>\n",
       "      <td>1</td>\n",
       "    </tr>\n",
       "    <tr>\n",
       "      <th>2017</th>\n",
       "      <td>1</td>\n",
       "    </tr>\n",
       "    <tr>\n",
       "      <th>2019</th>\n",
       "      <td>1</td>\n",
       "    </tr>\n",
       "  </tbody>\n",
       "</table>\n",
       "</div>"
      ],
      "text/plain": [
       "          count\n",
       "bid year       \n",
       "19  2017      1\n",
       "    2018      1\n",
       "24  2016      1\n",
       "    2017      1\n",
       "    2019      1"
      ]
     },
     "execution_count": 309,
     "metadata": {},
     "output_type": "execute_result"
    }
   ],
   "source": [
    "inspections_by_id_and_year = ins.groupby(['bid', 'year']).count()\n",
    "inspections_by_id_and_year = inspections_by_id_and_year.iloc[:, :1].rename({'iid':'count'}, axis = 1)\n",
    "inspections_by_id_and_year.head()"
   ]
  },
  {
   "cell_type": "code",
   "execution_count": 310,
   "metadata": {
    "deletable": false,
    "editable": false
   },
   "outputs": [
    {
     "data": {
      "text/html": [
       "\n",
       "    \n",
       "    \n",
       "        <p>All tests passed!</p>\n",
       "    \n",
       "    "
      ],
      "text/plain": [
       "\n",
       "    All tests passed!\n",
       "    "
      ]
     },
     "execution_count": 310,
     "metadata": {},
     "output_type": "execute_result"
    }
   ],
   "source": [
    "grader.check(\"q7b\")"
   ]
  },
  {
   "cell_type": "markdown",
   "metadata": {},
   "source": [
    "You should see that some businesses are inspected many times in a single year. Let's get a sense of the distribution of the counts of the number of inspections by calling `value_counts`. There are quite a lot of businesses with 2 inspections in the same year, so it seems like it might be interesting to see what we can learn from such businesses."
   ]
  },
  {
   "cell_type": "code",
   "execution_count": 316,
   "metadata": {},
   "outputs": [
    {
     "data": {
      "text/plain": [
       "1    10580\n",
       "2     1688\n",
       "3       25\n",
       "Name: count, dtype: int64"
      ]
     },
     "execution_count": 316,
     "metadata": {},
     "output_type": "execute_result"
    }
   ],
   "source": [
    "inspections_by_id_and_year['count'].value_counts()"
   ]
  },
  {
   "cell_type": "markdown",
   "metadata": {
    "deletable": false,
    "editable": false
   },
   "source": [
    "<br/><br/><br/>\n",
    "\n",
    "---\n",
    "\n",
    "\n",
    "### Question 7c\n",
    "\n",
    "What's the relationship between the first and second scores for the businesses with 2 inspections in a year? Do they typically improve? For simplicity, let's focus on only 2018 for this problem, using `ins2018` data frame that will be created for you below.\n",
    "\n",
    "First, make a dataframe called `scores_pairs_by_business` indexed by `business_id` (containing only businesses with exactly 2 inspections in 2018). This dataframe contains the field score_pair consisting of the score pairs ordered chronologically [first_score, second_score].\n",
    "\n",
    "Plot these scores. That is, make a scatter plot to display these pairs of scores. Include on the plot a reference line with slope 1.\n",
    "\n",
    "You may find the functions `sort_values`, `groupby`, `filter` and `agg` helpful, though not all necessary.\n",
    "\n",
    "The first few rows of the resulting table should look something like:\n",
    "\n",
    "|  **bid**   | **score_pair** |\n",
    "|-----|------------|\n",
    "| 48  | [94, 87]   |\n",
    "| 66  | [98, 98]   |\n",
    "| 146  | [81, 90]   |\n",
    "| 184  | [90, 96]  |\n",
    "| 273  | [83, 84]   |\n",
    "\n",
    "In the cell below, create `scores_pairs_by_business` as described above.\n",
    "\n",
    "Note: Each score pair must be a list type; numpy arrays will not pass the autograder.\n",
    "\n",
    "Hint: Use the filter method from lecture 5 to create a new dataframe that only contains restaurants that received exactly 2 inspections.\n",
    "\n",
    "Hint: Our code that creates the needed DataFrame is a single line of code that uses `sort_values`, `groupby`, `filter`, `groupby`, `agg`, and `rename` in that order. Your answer does not need to use these exact methods.\n",
    "\n",
    "<!--\n",
    "BEGIN QUESTION\n",
    "name: q7ci\n",
    "points: 4\n",
    "-->"
   ]
  },
  {
   "cell_type": "code",
   "execution_count": 317,
   "metadata": {},
   "outputs": [
    {
     "data": {
      "text/html": [
       "<div>\n",
       "<style scoped>\n",
       "    .dataframe tbody tr th:only-of-type {\n",
       "        vertical-align: middle;\n",
       "    }\n",
       "\n",
       "    .dataframe tbody tr th {\n",
       "        vertical-align: top;\n",
       "    }\n",
       "\n",
       "    .dataframe thead th {\n",
       "        text-align: right;\n",
       "    }\n",
       "</style>\n",
       "<table border=\"1\" class=\"dataframe\">\n",
       "  <thead>\n",
       "    <tr style=\"text-align: right;\">\n",
       "      <th></th>\n",
       "      <th>score_pair</th>\n",
       "    </tr>\n",
       "    <tr>\n",
       "      <th>bid</th>\n",
       "      <th></th>\n",
       "    </tr>\n",
       "  </thead>\n",
       "  <tbody>\n",
       "    <tr>\n",
       "      <th>48</th>\n",
       "      <td>[94, 87]</td>\n",
       "    </tr>\n",
       "    <tr>\n",
       "      <th>66</th>\n",
       "      <td>[98, 98]</td>\n",
       "    </tr>\n",
       "    <tr>\n",
       "      <th>146</th>\n",
       "      <td>[81, 90]</td>\n",
       "    </tr>\n",
       "    <tr>\n",
       "      <th>184</th>\n",
       "      <td>[90, 96]</td>\n",
       "    </tr>\n",
       "    <tr>\n",
       "      <th>273</th>\n",
       "      <td>[83, 84]</td>\n",
       "    </tr>\n",
       "  </tbody>\n",
       "</table>\n",
       "</div>"
      ],
      "text/plain": [
       "    score_pair\n",
       "bid           \n",
       "48    [94, 87]\n",
       "66    [98, 98]\n",
       "146   [81, 90]\n",
       "184   [90, 96]\n",
       "273   [83, 84]"
      ]
     },
     "execution_count": 317,
     "metadata": {},
     "output_type": "execute_result"
    }
   ],
   "source": [
    "ins2018 = ins[ins['year'] == 2018]\n",
    "# Create the dataframe here\n",
    "reindexed = inspections_by_id_and_year.reset_index()\n",
    "m = reindexed[(reindexed['count'] == 2) & (reindexed['year'] == 2018)]\n",
    "m = m.merge(ins_named, how = 'inner', on = ['bid', 'year'])\n",
    "\n",
    "f = m.groupby(['bid']).first().reset_index()['score']\n",
    "l = m.groupby(['bid']).last().reset_index()['score']\n",
    "\n",
    "new_lst = [[x,y] for x,y in zip(f, l)]\n",
    "\n",
    "scores_pairs_by_business = m.groupby(['bid']).count().iloc[:, 0:0]\n",
    "scores_pairs_by_business['score_pair'] = new_lst\n",
    "scores_pairs_by_business.head()"
   ]
  },
  {
   "cell_type": "code",
   "execution_count": 318,
   "metadata": {
    "deletable": false,
    "editable": false
   },
   "outputs": [
    {
     "data": {
      "text/html": [
       "\n",
       "    \n",
       "    \n",
       "        <p>All tests passed!</p>\n",
       "    \n",
       "    "
      ],
      "text/plain": [
       "\n",
       "    All tests passed!\n",
       "    "
      ]
     },
     "execution_count": 318,
     "metadata": {},
     "output_type": "execute_result"
    }
   ],
   "source": [
    "grader.check(\"q7ci\")"
   ]
  },
  {
   "cell_type": "markdown",
   "metadata": {
    "deletable": false,
    "editable": false
   },
   "source": [
    "<!-- BEGIN QUESTION -->\n",
    "\n",
    "Now, create your scatter plot in the cell below. It does not need to look exactly the same (e.g., no grid) as the sample below, but make sure that all labels, axes and data itself are correct.\n",
    "\n",
    "![](pics/7c.png)\n",
    "\n",
    "Key pieces of syntax you'll need:\n",
    "\n",
    "`plt.scatter` plots a set of points. Use `facecolors='none'` and `edgecolors=b` to make circle markers with blue borders. \n",
    "\n",
    "`plt.plot` for the reference line.\n",
    "\n",
    "`plt.xlabel`, `plt.ylabel`, `plt.axis`, and `plt.title`.\n",
    "\n",
    "Hint: You may find it convenient to use the `zip()` function to unzip scores in the list.\n",
    "\n",
    "<!--\n",
    "BEGIN QUESTION\n",
    "name: q7cii\n",
    "points: 2\n",
    "manual: True\n",
    "-->"
   ]
  },
  {
   "cell_type": "code",
   "execution_count": 321,
   "metadata": {},
   "outputs": [
    {
     "data": {
      "image/png": "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\n",
      "text/plain": [
       "<Figure size 432x288 with 1 Axes>"
      ]
     },
     "metadata": {},
     "output_type": "display_data"
    }
   ],
   "source": [
    "plt.scatter(f, l, facecolors = 'none', edgecolors = 'b')\n",
    "plt.xlabel('First Score')\n",
    "plt.ylabel('Second Score')\n",
    "plt.title('First Inspection Score vs Second Inspection Score')\n",
    "plt.plot(np.arange(55, 100), np.arange(55, 100), color = 'red')\n",
    "plt.show()"
   ]
  },
  {
   "cell_type": "markdown",
   "metadata": {
    "deletable": false,
    "editable": false
   },
   "source": [
    "<!-- END QUESTION -->\n",
    "\n",
    "<!-- BEGIN QUESTION -->\n",
    "\n",
    "<br/><br/><br/>\n",
    "\n",
    "\n",
    "---\n",
    "\n",
    "\n",
    "### Question 7d\n",
    "\n",
    "Another way to compare the scores from the two inspections is to examine the difference in scores. Subtract the first score from the second in `scores_pairs_by_business`. Make a histogram of these differences in the scores. We might expect these differences to be positive, indicating an improvement from the first to the second inspection.\n",
    "\n",
    "The histogram should look like this:\n",
    "\n",
    "![](pics/7d.png)\n",
    "\n",
    "Hint: Use `second_score` and `first_score` created in the scatter plot code above.\n",
    "\n",
    "Hint: Convert the scores into numpy arrays to make them easier to deal with.\n",
    "\n",
    "Hint: Use `plt.hist()` Try changing the number of bins when you call `plt.hist()`.\n",
    "\n",
    "<!--\n",
    "BEGIN QUESTION\n",
    "name: q7d\n",
    "points: 2\n",
    "manual: True\n",
    "-->"
   ]
  },
  {
   "cell_type": "code",
   "execution_count": 322,
   "metadata": {},
   "outputs": [
    {
     "data": {
      "image/png": "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\n",
      "text/plain": [
       "<Figure size 432x288 with 1 Axes>"
      ]
     },
     "metadata": {},
     "output_type": "display_data"
    }
   ],
   "source": [
    "plt.xlabel('Score Difference (Second Score-First Score)')\n",
    "plt.ylabel('Count')\n",
    "plt.title('Distribution of Score Differences')\n",
    "plt.hist(l - f,bins=20)\n",
    "plt.show()"
   ]
  },
  {
   "cell_type": "markdown",
   "metadata": {
    "deletable": false,
    "editable": false
   },
   "source": [
    "<!-- END QUESTION -->\n",
    "\n",
    "<!-- BEGIN QUESTION -->\n",
    "\n",
    "<br/><br/><br/>\n",
    "\n",
    "\n",
    "---\n",
    "\n",
    "\n",
    "### Question 7e\n",
    "\n",
    "If restaurants' scores tend to improve from the first to the second inspection, what do you expect to see in the scatter plot that you made in question 7c? What do you oberve from the plot? Are your observations consistent with your expectations? \n",
    "\n",
    "Hint: What does the slope represent?\n",
    "\n",
    "<!--\n",
    "BEGIN QUESTION\n",
    "name: q7e\n",
    "points: 1\n",
    "manual: True\n",
    "-->"
   ]
  },
  {
   "cell_type": "markdown",
   "metadata": {},
   "source": [
    "In the scatter plot, we would expect to see an inverse relationship between the first score and second score; the lower the first score, the higher the second score. However, in the plot, there is a moderately strong positive correlation between the first and second score and the distribution is skewed to the right. Therefore, the observations from the plot are not consistent with our expectations. The slope represents the rate of change of the increase in second score given a slight increase in the first score."
   ]
  },
  {
   "cell_type": "markdown",
   "metadata": {
    "deletable": false,
    "editable": false
   },
   "source": [
    "<!-- END QUESTION -->\n",
    "\n",
    "<!-- BEGIN QUESTION -->\n",
    "\n",
    "<br/><br/><br/>\n",
    "\n",
    "---\n",
    "\n",
    "### Question 7f\n",
    "\n",
    "If a restaurant's score improves from the first to the second inspection, how would this be reflected in the histogram of the difference in the scores that you made in question 7d? What do you oberve from the plot? Are your observations consistent with your expectations? Explain your observations in the language of Statistics: for instance, the center, the spread, the deviation etc.\n",
    "\n",
    "<!--\n",
    "BEGIN QUESTION\n",
    "name: q7f\n",
    "points: 1\n",
    "manual: True\n",
    "-->"
   ]
  },
  {
   "cell_type": "markdown",
   "metadata": {},
   "source": [
    "If a restaurant's score improves from the first to the second inspection, then the count of the positive score differences will increase and we should see more histogram values at the right of x = 0 since any score improvement would yield positive values (>0). However, the plot shows that there are slightly more restaurants that had lower scores in the second inspection than in the first inspection. Instead of more positive score differences, there are more negative score differences. The center of the distribution is around 0 (no score difference from the first and second inspection) and the spread seems evened out on both sides of the x=0 mark. The mode is also at x=0. Thus, this histogram does not support our expectations."
   ]
  },
  {
   "cell_type": "markdown",
   "metadata": {
    "deletable": false,
    "editable": false
   },
   "source": [
    "<!-- END QUESTION -->\n",
    "\n",
    "<!-- BEGIN QUESTION -->\n",
    "\n",
    "<br/><br/><br/>\n",
    "\n",
    "---\n",
    "\n",
    "### Question 7g \n",
    "To wrap up our analysis of the restaurant ratings over time, one final metric we will be looking at is the distribution of restaurant scores over time. Create a side-by-side boxplot that shows the distribution of these scores for each different risk category from 2017 to 2019. Use a figure size of at least 12 by 8.\n",
    "\n",
    "The boxplot should look similar to the sample below. Make sure the boxes are in the correct order!\n",
    "\n",
    "![](pics/7g.png)\n",
    "\n",
    "**Hint**: Use `sns.boxplot()`. Try taking a look at the first several parameters. [The documentation is linked here!](https://seaborn.pydata.org/generated/seaborn.boxplot.html)\n",
    "\n",
    "**Hint**: Use `plt.figure()` to adjust the figure size of your plot.\n",
    "\n",
    "<!--\n",
    "BEGIN QUESTION\n",
    "name: q7g\n",
    "points: 3\n",
    "manual: True\n",
    "-->"
   ]
  },
  {
   "cell_type": "code",
   "execution_count": 323,
   "metadata": {
    "scrolled": true
   },
   "outputs": [
    {
     "data": {
      "text/plain": [
       "<matplotlib.axes._subplots.AxesSubplot at 0x7f9ff3916dc0>"
      ]
     },
     "execution_count": 323,
     "metadata": {},
     "output_type": "execute_result"
    },
    {
     "data": {
      "image/png": "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\n",
      "text/plain": [
       "<Figure size 864x576 with 1 Axes>"
      ]
     },
     "metadata": {},
     "output_type": "display_data"
    }
   ],
   "source": [
    "# Do not modify this line\n",
    "vio_merged = vio.merge(ins2vio, how = 'inner', on = 'vid').merge(ins, how = 'inner', on = 'iid')\n",
    "vio_merged = vio_merged[(vio_merged['year'] == 2017) | (vio_merged['year'] == 2018) | (vio_merged['year'] == 2019)]\n",
    "\n",
    "store = vio_merged.iloc[0:1,:]\n",
    "dropped = vio_merged.drop(0).append(store)\n",
    "\n",
    "vio_merged = dropped.reset_index()\n",
    "\n",
    "sns.set()\n",
    "plt.figure(figsize=(12,8))\n",
    "sns.boxplot(x=vio_merged['year'], y=vio_merged['score'], hue=vio_merged['risk_category'])"
   ]
  },
  {
   "cell_type": "markdown",
   "metadata": {},
   "source": [
    "<!-- END QUESTION -->\n",
    "\n",
    "\n",
    "\n",
    "## Summary of Inspections Data\n",
    "\n",
    "We have done a lot in this project! Below are some examples of what we have learned about the inspections data through some cool visualizations!\n",
    "\n",
    "- We found that the records are at the inspection level and that we have inspections for multiple years.\n",
    "- We also found that many restaurants have more than one inspection a year.\n",
    "- By joining the business and inspection data, we identified the name of the restaurant with the worst rating and optionally the names of the restaurants with the best rating.\n",
    "- We identified the restaurant that had the largest swing in rating over time.\n",
    "- We also examined the change of scores over time! Many restaurants are not actually doing better."
   ]
  },
  {
   "cell_type": "markdown",
   "metadata": {
    "deletable": false,
    "editable": false
   },
   "source": [
    "<!-- BEGIN QUESTION -->\n",
    "\n",
    "<br/><br/><br/>\n",
    "\n",
    "---\n",
    "\n",
    "<br/><br/><br/>\n",
    "\n",
    "# 8: Open Ended Question \n",
    "## Question 8a\n",
    "\n",
    "### Compute Something Interesting\n",
    "\n",
    "Play with the data and try to compute something interesting about the data. Please try to use at least one of groupby, pivot, or merge (or all of the above).  \n",
    "\n",
    "Please show your work in the cell below and describe in words what you found in the same cell. This question will be graded leniently but good solutions may be used to create future homework problems.\n",
    "\n",
    "### Grading ###\n",
    "\n",
    "Since the question is more open ended, we will have a more relaxed rubric, classifying your answers into the following three categories:\n",
    "\n",
    "- **Great** (4 points): Uses a combination of pandas operations (such as groupby, pivot, merge) to answer a relevant question about the data. The text description provides a reasonable interpretation of the result.\n",
    "- **Passing** (1-3 points): Computation is flawed or very simple. The text description is incomplete but makes some sense.\n",
    "- **Unsatisfactory** (0 points): No computation is performed, or a computation with completely wrong results.\n",
    "\n",
    "\n",
    "**Please have both your code and your explanation in the same one cell below. Any work in any other cell will not be graded.**\n",
    "\n",
    "\n",
    "<!--\n",
    "BEGIN QUESTION\n",
    "name: q8a\n",
    "points: 4\n",
    "manual: True\n",
    "-->\n",
    "\n"
   ]
  },
  {
   "cell_type": "code",
   "execution_count": 346,
   "metadata": {},
   "outputs": [
    {
     "data": {
      "text/plain": [
       "<BarContainer object of 12 artists>"
      ]
     },
     "execution_count": 346,
     "metadata": {},
     "output_type": "execute_result"
    },
    {
     "data": {
      "image/png": "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\n",
      "text/plain": [
       "<Figure size 432x288 with 1 Axes>"
      ]
     },
     "metadata": {},
     "output_type": "display_data"
    }
   ],
   "source": [
    "#YOUR CODE HERE\n",
    "def find_month(x): \n",
    "    return pd.to_datetime(x).month\n",
    "\n",
    "months = ins['date'].apply(find_month)\n",
    "month_tab = ins.copy()\n",
    "month_tab['month'] = months\n",
    "\n",
    "months_grouped = month_tab.groupby(['month']).mean().reset_index()\n",
    "\n",
    "plt.ylim(85, 95)\n",
    "plt.title('Average Scores According to Month')\n",
    "plt.bar(months_grouped['month'], months_grouped['score'])\n",
    "\n",
    "#MY EXPLANATION: \n",
    "#I wanted to determine the average score of restaurants according to month. \n",
    "#I first created a function that finds the month the score was inputted in the ins table, and then I used data manipulations to find \n",
    "#the average score for each month. I display the average scores according to the month in a barplot below. According to\n",
    "#the plot, the highest average score was given in September, and the lowest average scores were given in January and \n",
    "#August. The distribution of the average scores by month is somewhat bimodal, with peaks in the early year (February and March) and in\n",
    "#September with drops occuring from spring to summer and from fall to winter. Though there are highs and lows in\n",
    "#the plot, the bar plot does not indicate any strongly positive or negative association between month and average score. \n",
    "#We can conclude from this plot that there is no clear linear relationship between month and average scores.\n"
   ]
  },
  {
   "cell_type": "markdown",
   "metadata": {},
   "source": [
    "<!-- END QUESTION -->\n",
    "\n",
    "\n",
    "\n",
    "<br/><br/><br/><br/>\n",
    "\n",
    "---\n",
    "\n",
    "<br/><br/>\n",
    "\n",
    "## Question 8b \n",
    "\n",
    "### Create some more cool visualizations!\n",
    "\n",
    "<br/>"
   ]
  },
  {
   "cell_type": "markdown",
   "metadata": {},
   "source": [
    "Play with the data, and try to produce some visualizations to answer one question that you find interesting regarding the data. You might want to use `merge`/`groupby`/`pivot` to process the data before creating visualizations.\n",
    "\n",
    "Please show your work in the cells below (feel free to use extra cells if you want), and describe in words what you found in the same cell. This question will be graded leniently, but good solutions may be used to create future homework problems. \n",
    "\n",
    "\n"
   ]
  },
  {
   "cell_type": "markdown",
   "metadata": {
    "deletable": false,
    "editable": false
   },
   "source": [
    "<!-- BEGIN QUESTION -->\n",
    "\n",
    "### Grading ###\n",
    "\n",
    "Since the question is more open ended, we will have a more relaxed rubric, classifying your answers into the following three categories:\n",
    "\n",
    "- **Great** (4 points): The chart is well designed, and the data computation is correct. The text written articulates a reasonable metric and correctly describes the relevant insight and answer to the question you are interested in.\n",
    "- **Passing** (1-3 points): A chart is produced but with some flaws such as bad encoding. The text written is incomplete but makes some sense.\n",
    "- **Unsatisfactory** (0 points): No chart is created, or a chart with completely wrong results.\n",
    "\n",
    "We will lean towards being generous with the grading. We might also either discuss in discussion or post on Piazza some examplar analysis you have done (with your permission)!\n",
    "\n",
    "You should have the following in your answers:\n",
    "* a few visualizations; Please limit your visualizations to 5 plots.\n",
    "* a few sentences (not too long please!)\n",
    "\n",
    "Please note that you will only receive support in OH and Piazza for Matplotlib and seaborn questions. However, you may use some other Python libraries to help you create you visualizations. If you do so, make sure it is compatible with the PDF export (e.g., Plotly does not create PDFs properly, which we need for Gradescope).\n",
    "\n",
    "<!--\n",
    "BEGIN QUESTION\n",
    "name: q8b\n",
    "points: 4\n",
    "manual: True\n",
    "-->"
   ]
  },
  {
   "cell_type": "code",
   "execution_count": 450,
   "metadata": {},
   "outputs": [
    {
     "data": {
      "image/png": "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\n",
      "text/plain": [
       "<Figure size 432x288 with 1 Axes>"
      ]
     },
     "metadata": {},
     "output_type": "display_data"
    },
    {
     "data": {
      "image/png": "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\n",
      "text/plain": [
       "<Figure size 432x288 with 1 Axes>"
      ]
     },
     "metadata": {},
     "output_type": "display_data"
    }
   ],
   "source": [
    "# YOUR DATA PROCESSING AND PLOTTING HERE\n",
    "\n",
    "w = bus.copy()\n",
    "refined_postal = w.groupby(['postal_code']).count().reset_index()\n",
    "refined_postal = refined_postal[refined_postal['bid'] > 2].iloc[:, :1]\n",
    "a = refined_postal.merge(bus, how = 'inner', on = 'postal_code')\n",
    "b = ins.merge(a, how = 'left', on = 'bid')\n",
    "c = b.groupby(['postal5']).mean().reset_index().sort_values(['postal5'])\n",
    "c = c.sort_values(by = 'score', ascending = False)\n",
    "c = c.head(10)\n",
    "\n",
    "expensive_sfzips = ['94105', '94158', '94103', '94104', '94108', '94114', '94115', '94124', '94127', '94102']\n",
    "exp = pd.DataFrame(expensive_sfzips, columns = ['sfzips'])\n",
    "same = c.loc[c['postal5'].isin(exp['sfzips']) == True]['postal5']\n",
    "piechart_data = (0.4, 0.6)\n",
    "piechart_labels = ['Expensive Zipcode', 'Not Expensive Zipcode']\n",
    "\n",
    "plt.pie(piechart_data, labels = piechart_labels)\n",
    "plt.title('Percentage of Expensive SF Zipcodes with the Top Ten Average Scores')\n",
    "plt.show()\n",
    "\n",
    "colors = ['b', 'b', 'b', 'r', 'b','b', 'r', 'b', 'r', 'r']\n",
    "plt.bar(c['postal5'],c['score'], color = colors)\n",
    "plt.ylim(85, 96)\n",
    "plt.title('Zipcodes Receiving the Highest Average Scores')\n",
    "plt.show()\n",
    "\n",
    "# MY EXPLANATION: ###\n",
    "#I wanted to determine if there was a correlation between the zips codes of the 10 highest scores received and zipcodes,\n",
    "#particularly if there is a correlation between expensive zipcode and high score. \n",
    "#I made a list of the ten most expensive zip codes in San Francisco (according to Property Shark SF) and compared these zipcodes to the\n",
    "#zip codes that received the highest average scores using data manipulations from previous datasets. I created a pie chart to look at \n",
    "#the percentage of zipcodes with top average scores who were in the top ten most expensive zipcodes in SF. I found that 40% of the top ten \n",
    "#zip codes receiving highest scores were in the top ten most expensive zipcodes. I then compared the highest average scores according to \n",
    "#zipcode and marked the expensive zipcodes in the barplot to compare. I was expecting to find a strong positive correlation between \n",
    "#expensive zipcodes and high average scores, but the data visualizations indicate that only a few of the zipcodes in the top average scores\n",
    "#are from the most expensive districts. The barplot shows that the expensiveness of a zipcode is not storngly positively associated with being \n",
    "#in the top ten average scores. This may be because expensive districts have fewer restaurants in the area and restrictions on types of restaurants\n",
    "#that can be operated in these areas."
   ]
  },
  {
   "cell_type": "markdown",
   "metadata": {
    "deletable": false,
    "editable": false
   },
   "source": [
    "<!-- END QUESTION -->"
   ]
  },
  {
   "cell_type": "code",
   "execution_count": 451,
   "metadata": {},
   "outputs": [],
   "source": [
    "# THIS CELL AND ANY CELLS ADDED BELOW WILL NOT BE GRADED"
   ]
  },
  {
   "cell_type": "markdown",
   "metadata": {},
   "source": [
    "## Congratulations! You have finished Project 1! ##"
   ]
  },
  {
   "cell_type": "markdown",
   "metadata": {
    "deletable": false,
    "editable": false
   },
   "source": [
    "---\n",
    "\n",
    "To double-check your work, the cell below will rerun all of the autograder tests."
   ]
  },
  {
   "cell_type": "code",
   "execution_count": 368,
   "metadata": {
    "deletable": false,
    "editable": false
   },
   "outputs": [
    {
     "data": {
      "text/html": [
       "<p><strong>q1a:</strong></p>\n",
       "\n",
       "    \n",
       "    \n",
       "        <p>All tests passed!</p>\n",
       "    \n",
       "    \n",
       "\n",
       "<p><strong>q1d:</strong></p>\n",
       "\n",
       "    \n",
       "    \n",
       "        <p>All tests passed!</p>\n",
       "    \n",
       "    \n",
       "\n",
       "<p><strong>q2a:</strong></p>\n",
       "\n",
       "    \n",
       "    \n",
       "        <p>All tests passed!</p>\n",
       "    \n",
       "    \n",
       "\n",
       "<p><strong>q2b:</strong></p>\n",
       "\n",
       "    \n",
       "    \n",
       "        <p>All tests passed!</p>\n",
       "    \n",
       "    \n",
       "\n",
       "<p><strong>q2ci:</strong></p>\n",
       "\n",
       "    \n",
       "    \n",
       "        <p>All tests passed!</p>\n",
       "    \n",
       "    \n",
       "\n",
       "<p><strong>q2cii:</strong></p>\n",
       "\n",
       "    \n",
       "    \n",
       "        <p>All tests passed!</p>\n",
       "    \n",
       "    \n",
       "\n",
       "<p><strong>q2d:</strong></p>\n",
       "\n",
       "    \n",
       "    \n",
       "        <p>All tests passed!</p>\n",
       "    \n",
       "    \n",
       "\n",
       "<p><strong>q3a:</strong></p>\n",
       "\n",
       "    \n",
       "    \n",
       "        <p>All tests passed!</p>\n",
       "    \n",
       "    \n",
       "\n",
       "<p><strong>q3b:</strong></p>\n",
       "\n",
       "    \n",
       "    \n",
       "        <p>All tests passed!</p>\n",
       "    \n",
       "    \n",
       "\n",
       "<p><strong>q3ci:</strong></p>\n",
       "\n",
       "    \n",
       "    \n",
       "        <p>All tests passed!</p>\n",
       "    \n",
       "    \n",
       "\n",
       "<p><strong>q3cii:</strong></p>\n",
       "\n",
       "    \n",
       "    \n",
       "        <p>All tests passed!</p>\n",
       "    \n",
       "    \n",
       "\n",
       "<p><strong>q3d:</strong></p>\n",
       "\n",
       "    \n",
       "    \n",
       "        <p>All tests passed!</p>\n",
       "    \n",
       "    \n",
       "\n",
       "<p><strong>q3e:</strong></p>\n",
       "\n",
       "    \n",
       "    \n",
       "        <p>All tests passed!</p>\n",
       "    \n",
       "    \n",
       "\n",
       "<p><strong>q3f:</strong></p>\n",
       "\n",
       "    \n",
       "    \n",
       "        <p>All tests passed!</p>\n",
       "    \n",
       "    \n",
       "\n",
       "<p><strong>q4a:</strong></p>\n",
       "\n",
       "    \n",
       "    \n",
       "        <p>All tests passed!</p>\n",
       "    \n",
       "    \n",
       "\n",
       "<p><strong>q4bi:</strong></p>\n",
       "\n",
       "    \n",
       "    \n",
       "        <p>All tests passed!</p>\n",
       "    \n",
       "    \n",
       "\n",
       "<p><strong>q4bii:</strong></p>\n",
       "\n",
       "    \n",
       "    \n",
       "        <p>All tests passed!</p>\n",
       "    \n",
       "    \n",
       "\n",
       "<p><strong>q4biii:</strong></p>\n",
       "\n",
       "    \n",
       "    \n",
       "        <p>All tests passed!</p>\n",
       "    \n",
       "    \n",
       "\n",
       "<p><strong>q4ci:</strong></p>\n",
       "\n",
       "    \n",
       "    \n",
       "        <p>All tests passed!</p>\n",
       "    \n",
       "    \n",
       "\n",
       "<p><strong>q4cii:</strong></p>\n",
       "\n",
       "    \n",
       "    \n",
       "        <p>All tests passed!</p>\n",
       "    \n",
       "    \n",
       "\n",
       "<p><strong>q4ciii:</strong></p>\n",
       "\n",
       "    \n",
       "    \n",
       "        <p>All tests passed!</p>\n",
       "    \n",
       "    \n",
       "\n",
       "<p><strong>q4civ:</strong></p>\n",
       "\n",
       "    \n",
       "    \n",
       "        <p>All tests passed!</p>\n",
       "    \n",
       "    \n",
       "\n",
       "<p><strong>q4di:</strong></p>\n",
       "\n",
       "    \n",
       "    \n",
       "        <p>All tests passed!</p>\n",
       "    \n",
       "    \n",
       "\n",
       "<p><strong>q4dii:</strong></p>\n",
       "\n",
       "    \n",
       "    \n",
       "        <p>All tests passed!</p>\n",
       "    \n",
       "    \n",
       "\n",
       "<p><strong>q4e:</strong></p>\n",
       "\n",
       "    \n",
       "    \n",
       "        <p>All tests passed!</p>\n",
       "    \n",
       "    \n",
       "\n",
       "<p><strong>q5a:</strong></p>\n",
       "\n",
       "    \n",
       "    \n",
       "        <p>All tests passed!</p>\n",
       "    \n",
       "    \n",
       "\n",
       "<p><strong>q5b:</strong></p>\n",
       "\n",
       "    \n",
       "    \n",
       "        <p>All tests passed!</p>\n",
       "    \n",
       "    \n",
       "\n",
       "<p><strong>q5c:</strong></p>\n",
       "\n",
       "    \n",
       "    \n",
       "        <p>All tests passed!</p>\n",
       "    \n",
       "    \n",
       "\n",
       "<p><strong>q7a:</strong></p>\n",
       "\n",
       "    \n",
       "    \n",
       "        <p>All tests passed!</p>\n",
       "    \n",
       "    \n",
       "\n",
       "<p><strong>q7b:</strong></p>\n",
       "\n",
       "    \n",
       "    \n",
       "        <p>All tests passed!</p>\n",
       "    \n",
       "    \n",
       "\n",
       "<p><strong>q7ci:</strong></p>\n",
       "\n",
       "    \n",
       "    \n",
       "        <p>All tests passed!</p>\n",
       "    \n",
       "    \n",
       "\n"
      ],
      "text/plain": [
       "q1a:\n",
       "\n",
       "    All tests passed!\n",
       "    \n",
       "\n",
       "q1d:\n",
       "\n",
       "    All tests passed!\n",
       "    \n",
       "\n",
       "q2a:\n",
       "\n",
       "    All tests passed!\n",
       "    \n",
       "\n",
       "q2b:\n",
       "\n",
       "    All tests passed!\n",
       "    \n",
       "\n",
       "q2ci:\n",
       "\n",
       "    All tests passed!\n",
       "    \n",
       "\n",
       "q2cii:\n",
       "\n",
       "    All tests passed!\n",
       "    \n",
       "\n",
       "q2d:\n",
       "\n",
       "    All tests passed!\n",
       "    \n",
       "\n",
       "q3a:\n",
       "\n",
       "    All tests passed!\n",
       "    \n",
       "\n",
       "q3b:\n",
       "\n",
       "    All tests passed!\n",
       "    \n",
       "\n",
       "q3ci:\n",
       "\n",
       "    All tests passed!\n",
       "    \n",
       "\n",
       "q3cii:\n",
       "\n",
       "    All tests passed!\n",
       "    \n",
       "\n",
       "q3d:\n",
       "\n",
       "    All tests passed!\n",
       "    \n",
       "\n",
       "q3e:\n",
       "\n",
       "    All tests passed!\n",
       "    \n",
       "\n",
       "q3f:\n",
       "\n",
       "    All tests passed!\n",
       "    \n",
       "\n",
       "q4a:\n",
       "\n",
       "    All tests passed!\n",
       "    \n",
       "\n",
       "q4bi:\n",
       "\n",
       "    All tests passed!\n",
       "    \n",
       "\n",
       "q4bii:\n",
       "\n",
       "    All tests passed!\n",
       "    \n",
       "\n",
       "q4biii:\n",
       "\n",
       "    All tests passed!\n",
       "    \n",
       "\n",
       "q4ci:\n",
       "\n",
       "    All tests passed!\n",
       "    \n",
       "\n",
       "q4cii:\n",
       "\n",
       "    All tests passed!\n",
       "    \n",
       "\n",
       "q4ciii:\n",
       "\n",
       "    All tests passed!\n",
       "    \n",
       "\n",
       "q4civ:\n",
       "\n",
       "    All tests passed!\n",
       "    \n",
       "\n",
       "q4di:\n",
       "\n",
       "    All tests passed!\n",
       "    \n",
       "\n",
       "q4dii:\n",
       "\n",
       "    All tests passed!\n",
       "    \n",
       "\n",
       "q4e:\n",
       "\n",
       "    All tests passed!\n",
       "    \n",
       "\n",
       "q5a:\n",
       "\n",
       "    All tests passed!\n",
       "    \n",
       "\n",
       "q5b:\n",
       "\n",
       "    All tests passed!\n",
       "    \n",
       "\n",
       "q5c:\n",
       "\n",
       "    All tests passed!\n",
       "    \n",
       "\n",
       "q7a:\n",
       "\n",
       "    All tests passed!\n",
       "    \n",
       "\n",
       "q7b:\n",
       "\n",
       "    All tests passed!\n",
       "    \n",
       "\n",
       "q7ci:\n",
       "\n",
       "    All tests passed!\n",
       "    \n"
      ]
     },
     "execution_count": 368,
     "metadata": {},
     "output_type": "execute_result"
    }
   ],
   "source": [
    "grader.check_all()"
   ]
  },
  {
   "cell_type": "markdown",
   "metadata": {
    "deletable": false,
    "editable": false
   },
   "source": [
    "## Submission\n",
    "\n",
    "Make sure you have run all cells in your notebook in order before running the cell below, so that all images/graphs appear in the output. The cell below will generate a zip file for you to submit. **Please save before exporting!**"
   ]
  },
  {
   "cell_type": "code",
   "execution_count": null,
   "metadata": {
    "deletable": false,
    "editable": false
   },
   "outputs": [],
   "source": [
    "# Save your notebook first, then run this cell to export your submission.\n",
    "grader.export(\"proj1.ipynb\")"
   ]
  },
  {
   "cell_type": "markdown",
   "metadata": {},
   "source": [
    " "
   ]
  }
 ],
 "metadata": {
  "celltoolbar": "Create Assignment",
  "kernelspec": {
   "display_name": "Python 3",
   "language": "python",
   "name": "python3"
  },
  "language_info": {
   "codemirror_mode": {
    "name": "ipython",
    "version": 3
   },
   "file_extension": ".py",
   "mimetype": "text/x-python",
   "name": "python",
   "nbconvert_exporter": "python",
   "pygments_lexer": "ipython3",
   "version": "3.8.5"
  }
 },
 "nbformat": 4,
 "nbformat_minor": 4
}
